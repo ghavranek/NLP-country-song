{
 "cells": [
  {
   "cell_type": "markdown",
   "metadata": {},
   "source": [
    "<span style=\"font-size: 2em; font-weight:bold\">AI 70's Country</span>"
   ]
  },
  {
   "cell_type": "code",
   "execution_count": 1,
   "metadata": {},
   "outputs": [],
   "source": [
    "import warnings\n",
    "warnings.filterwarnings('ignore')\n",
    "\n",
    "import scipy\n",
    "import numpy as np\n",
    "import matplotlib\n",
    "import pandas as pd\n",
    "import statsmodels\n",
    "import sklearn\n",
    "import tensorflow\n",
    "#import keras\n",
    "\n",
    "from tensorflow.python.keras.models import Sequential, load_model\n",
    "from tensorflow.python.keras.layers import Dense,LSTM,Dropout\n",
    "from tensorflow.python.keras.utils import to_categorical\n",
    "from tensorflow.python.keras.preprocessing.sequence import pad_sequences\n",
    "from tensorflow.python.keras.callbacks import History, EarlyStopping, ModelCheckpoint\n",
    "from tensorflow.python.keras.constraints import maxnorm\n",
    "import string\n",
    "\n",
    "\n",
    "import json\n",
    "import time"
   ]
  },
  {
   "cell_type": "markdown",
   "metadata": {},
   "source": [
    "As always, data prep is the hardest part of the project.  Because I am going to use a validation set in training my model, and because Keras uses the last n% of the data as the validation set, I want to shuffle the lyrics so that my validation set contains a better representation of all the data - not just the last song.  I also want to get the most originality that I can out of the model, so I will eliminate duplicate lyrics (some songs have refrains that repeat multiple times).   sorting has benefit of shuffling also. "
   ]
  },
  {
   "cell_type": "code",
   "execution_count": 2,
   "metadata": {},
   "outputs": [],
   "source": [
    "lyricsCSV = pd.read_csv('lyricsTrain_35.csv',encoding='ISO-8859-1')\n",
    "lyricsCSV.sort_values(lyricsCSV.columns[0],inplace=True)\n",
    "lyricsCSV.drop_duplicates(keep='first',inplace=True)\n",
    "lyricsCSV = lyricsCSV.sample(frac=1)\n",
    "\n",
    "\n",
    "\n",
    "lyricsCSV.to_csv('lyrics.txt',sep='\\t',index=False)\n",
    "l = open('lyrics.txt','r')\n",
    "lyrics = l.read()\n",
    "l.close()"
   ]
  },
  {
   "cell_type": "code",
   "execution_count": null,
   "metadata": {},
   "outputs": [],
   "source": []
  },
  {
   "cell_type": "markdown",
   "metadata": {},
   "source": [
    "Remove lines and print"
   ]
  },
  {
   "cell_type": "code",
   "execution_count": 3,
   "metadata": {},
   "outputs": [
    {
     "name": "stdout",
     "output_type": "stream",
     "text": [
      "lyrics And then one winter day His mama named him Tommy, but folks just called him yellow Then a man of low degree stood by her side So you better think it over With cigarettes and songs Except I can't sleep Even with someone they love My only prayer will be that some day you'll care for me but it's only make believe Nice to see you But I could never love again And combed my hair Sunday morning coming down Just may, just give me a call-you know where I am \"\"\"When you hot, you hot\"\"\" Oh there goes my everything With a laughing little girl And it's good when I finally make it home, all alone Bad so I had one more for dessert And found my cleanest dirty shirt I didn't mean to treat you bad Give me no reasons, give me alibies But when he lo-oves me, he really lo-oves me Then the flame became a dying ember But if you ever want somebody to just love ya, and some day you Well, I guess that's about all I gotta say. The rain can fall so soft against the window I know those bright lights are callin' ya, honey. Four car garage and we're still building on And a smile can hide all the pain Almost heaven, West Virginia Can forget I've ever known her But it sure seems warmer than it did Cause we both know that I'm not I'd not miss my colored blouse Thinking over things I wish I'd said (ahh-ah) Wonderin' if my man's been doin' me wrong And I can't believe it's you To face the world out on my own again If I said you had a beautiful body West Virginia, mountain mama But she never complains of the bad times or bad things he's done, Lord And I love you will always love you Let's go to Luckenbach, Texas All I'm takin' is your time And it's sad to be alone Now shine on me sunshine Gettin' card and letters from people I don't even know You can 'splain it all down at City Hall Well a simple kinda life never did me no harm She was your morning light Tossing, turning, trying to forget (you-ou) Another sleepless night and it's the same old stor-ory Yeah, city folk drivin' in a black limousine In the park I saw a daddy I'd be carrying the pots you made Cause drinking doubles alone, don't make it a par-arty And them that do sometimes won't know how to take him (La la la la la la la, when you're hot, you're hot) You waltz right in the door As much as I love waking up next to you He was only ten years old when his daddy died in prison And whatever you decide to do In her arms, he didn't have to prove he was a man When I heard somethin' behind me To lose these memories Following behind you Well, my fiddle was my daddy's till the day he died And each step brings you closer I'm sleeping single in a double bed (ah-hah-ah) About the way they have to live here in this country I'd just as soon let you go But some of them never learn it's a simple thing But his pride won't let him do things to make you think he's right And don't it make my brown eyes When you're the only one at two in the morning Well life on the farm is kinda laid back I'll be waiting for you Darling this will be goodbye for evermore Maybe it's time we got back to the basics of love Cussin' at a can that he was kickin Seems like a hundred years ago A good-hearted woman loving her good timing man Well if sweet-talkin' you could make it come true And the answer is in this song that I always sing I'll think of you each step of the way Them that don't know him won't like him I hear people talkin' bad, And who knows, maybe, on some special night, if my song is right And standin' up for things they believe in I jest kept on rollin' and controllin' them bones I still recall the final words my brother said to Tommy \"He said \"\"Hello, boys\"\" and then he gave us a grin 'n' said\" \"\"\"I'll pay ya that hundred I owe ya if you'll get me outta this spot\"\"\" I beg your pardon But I lit my first and watched a small kid Free that brown eyed man Could it be a faded rose from days gone by? And I hope that you have all You could have your choice of men And It's almost like a song Sleeping single in a double bed (ah-hah-ah) \"Whadda you mean 'contempt of court'?\"\"\" Misty taste of moonshine, teardrop in my eye And I cannot compete with you My happiness depends on you That's what the trouble was On the sleeping city sidewalk I walk away from trouble when I can When he lo-oves me, he really lo-oves me The joy of love that used to taste like Son, let me tell ya now exactly what I mean Wish she hadn't done me that way Or I could ask what I really want to know Where you've stayed for years And here I go Prettiest woman you ever laid eyes on \"\"\"Ninety days, Jerry, when you hot, you hot\"\"\" On the sunday morning sidewalk Well I got me a fine wife I got me an ole fiddle Give me your tomorrow You're messin' up my mind and fillin' up my senses Forget I've ever known her And I dream of the things I'll do I can see the happy years we've had before I've been walkin' these streets so long Lay it soft upon my skin To complain, there was no need I say, yeah, when you're hot, you're hot But myself I can't deceive I know it's only make believe But I'd rather fight the wind and rain Say it isn't true and Where hustle's the name of the game I'll be fine when you're gone A long time forgotten are dreams that just fell by the way Jolene, Jolene \"\"\"Look like I'm gonna hafta haul you all in\" And read the Bible by the coal oil light Just waiting for me like a secret friend, and there's no end Just leave it up to you and in a little while And pretty soon I'm wond'rin how I came to doubt you. Way back in history When ever I chance to meet, some old friends on the street \"\"\"Who gonna collect my welfare?\"\"\" Well I wouldn't trade my life for diamonds and jewels And finally they jest threw up their hands and said Hope you're doin' fine Riding out on a horse in a star-spangled rodeo Cause they'll never stay home and they're always alone \"And quietly she says \"\"how was your night?\"\"\" She loves him in spite of his ways that she don't understand Is guitars that tune good and firm feelin' women And I wonder just how long Sleeping single in a double bed Cries for you each night I could ask a lot of crazy questions And I can easily understand Honey, come back You've found someone new and This coat and tie is choking me I don't need my name in the marquee lights Country roads, take me home I turned around and there was a big old cop There'll be a load of compromisin' Well, I really don't mind the rain Lonestar belt buckles and old faded Levi's and each night begins a new day My heart I can't control you lure my very soul How you could easily take my man Thank God I'm a country boy \"\"\"And I'd try a little bit of your honor on\"\"\" Good morning morning \"I said, \"\"Well, son when you hot, you hot\"\"\" \"When Tommy turned around they said, \"\"hey look, old yeller's leaving\"\"\" And wrap my heart 'round your little finger My only prayer will be some day you'll care for me but it's only make believe Til the sunlight shines through your face And shakin' me up so that all I really know Shake it loose and let it fall There goes my reason for living To take you to his mansion in the sky? As the tears fell on his daddy's face, he heard these words again Here you come again and here I go The judge was a fishin' buddy that I recognized Thinking over things I wish I'd said (ooh-ooh) With no way to hold my head But all these years I've never caught him cheatin' You're just as lovely If I were dying of thirst You held my hand when it was cold All the folks around Brownsville say she's crazy Save your love through loneliness Sleepin' in our king size bed And I'll never leave, why should I leave? When Tommy left the barroom, not a Gatlin boy was standing Have a beautiful day, Got a whole lot a good woman \"And keep all that money for evidence\"\"\" Anyplace is alright as long as I And send the kind that you remind me of And you know what I'm talkin' about And turned my lies back into truth again Than what I've been fighting at home But in the wintertime we'd all get a brand new pair If a tinker was my trade I got to try to find a way Each lonely day's a little bit longer A raisin' me a family and workin' on a farm Back ever since the world began With ivory skin and eyes of emerald green Dark and dusty, painted on the sky Once in every life I'm sleeping single in a double bed Is anybody goin' to San Antone And you fix mine \"\"\"Son, my life is over, but yours has just begun\"\"\" The good life he promised ain't what she's living today Gotta go, I love you So I fiddle when I can, work when I should I pull out my fiddle and I rosin up the bow I'd marry you anyway I told her someday if she was my girl, I could change the world \"He said, \"\"Come on out and say what's on your mind\"\"\" I had to have this talk with you You seemed so full of sweetness at the start Would your flowing love come quench me I'm doin' alright I'll just cry all night long And every time they ask me why I just smile & say Been a whole lot a good women Cause therels something in a sunday Is here you come again, and here I go, here I go Well, when he took us inta court I couldn't believe my eyes When the party's all over she'll welcome him back home again I hear footsteps slowly walking You look into my eyes and lie those pretty lies Buy some boots and faded jeans and go away Wishing lord that I was stoned You better look before you leap, still waters run deep And stumbled down the stairs When the work's all done and the sun's settlin' low One of them got up and met him halfway 'cross the floor I, I will always, always love you As my memory turns back the pages We had such a perfect year And she says to wake her up when I am through A lotta sad people thinkin' that's mighty keen But you don't find roses growin' on stalks of clover You were in my arms So that is why I'm gonna say it one more time On the road to my horizon And sometimes all the nights can be so long Come and lay down by my side You're walkin' on the fightin' side of me That I'd lost somehow Or Phoenix Arizona May God bless you He shoveled coal to make a poor man's dollar Rain dripping off the brim of my hat Lisa left you years ago He loved me all the way-ay Blue Ridge Mountains, Shenandoah River In the palm of her hand And offers comin' over the phone Harpin' on the wars we fight Runnin' down a way of life Well there goes my only possession The destination was Then I headed back for home As long as he makes everything alright today-ay Honey, come back I just can't stand I've always got a smiling face, anytime & any place This successful life we're livin's got us feudin' Arrested on charges She's a good-hearted woman in love with a good-timin' man And if you should ever I looked after Tommy, 'cause he was my brother's son That I did you wrong When you're hot, you're hot Don't know what's come over you And nice guys get washed away like the snow and the rain And a mill wheel grinding But they're only imitation Why I've seen her fingers bleed The rest of us can count on bein' free If I worked my hands on wood Through teardrops and laughter, they'll pass through this world hand-in-hand, I'd answer you yes I would And you were a lady While she lays, while she waits for me And your soft shoes shining? It's early to rise, early in the sack They wonder how does a man get to be this way Had a big crap game goin' back in the alley Yesterday is dead and gone God, her love is true Your smile is like a breath of spring Are you happy? Well, I was borned a coal miner's daughter She just talks about the good times they've had and all the good times to come And we were so in love And kiss the happiest girl, in the whole U.S.A. I-Im sleeping single in a double bed In your high society you cry all day I could promise you things like big diamond rings Let 'em be doctors and lawyers and such \"\"\"You understand that, you hillbilly?\"\"\" Love shouldn't be so melancholy And ever' thing would start all over come break of morn Mommy rocked the babies at night I won't try to understand So baby, let's sell your diamond ring But she lost both her arms Three thousand years What I'm tryin' to say is that \"Said, \"\"Live a good life and play the fiddle with pride\" Kiss an angel good morning Then I crossed the empty street and Would you hold it against me A brown eyede handsome man Mama don't let your babies grow up to be cowboys Now my broken heart Don't let 'em pick guitars or drive them old trucks To the things you seek to find Skippidity do da That I should have been home yesterday, yesterday It won't mean you're weak if you turn the other cheek If you want your job you'd better I should have held you but I let you go I would only be in your way And gripin' 'bout the way things oughta be Tell me you love me and don't let me cry You gave me hope when I was at the end Crying Lisa, Lisa If you don't love it, leave it So he gave my friends a little fine to pay So high that I could almost see eternity This successful life we're livin' got us feudin' My daddy worked all night in the Van Lear coal mines While she lays dreaming, I try to get undressed without the light Of someone fryin chicken Someone comes along Well I woke up Sunday morning I don't want to be alone Then I fumbled through my closet All my memories gather round her That you ever dreamed of I realise the way your eyes deceive me Now we can talk all night about the weather \"I said \"\"Hey, judge, old buddy, old pal\"\"\" Now the love that kept this old heart beating I read about some squirrelly guy And there won't always be someone there to pull you out Here you come again lookin' better than a body has a right to Somehow you needed me But like a big red rose that's made of paper You're hot When the sun's comin' up I got cakes on the griddle Comeback darlin' Sometimes when he comes home I'm cookin' breakfast And I kept rollin' them sevens , winnin' all them pots Makes my temper rise with jealousy Mamma told her daughter And it's so good to be back home again But you don't know what he means to me To meet the day How am I doin'? My hopes my dreams come true my one and only you But above all this In a wrestling match to get The work we done was hard Just when I've begun to get myself together Everyone considered him the coward of the county January through December I cried a tear, you wiped it dry Honey, I know I've said it too many times before Wake up sleepy head Ain't much an old country boy like me can't hack Taught me how to work and play a tune on the fiddle One day while he was working, the Gatlin boys came calling \"\"\"If you wasn't wearin' that black robe I'd take out in back of this courthouse\" When I was lost you took me home She had the world To the place I belong The radio reminds me of my home far away To forgive me Mommy scrubbed our clothes on a washboard ever' day Hello sunshine It sure is cold today Well people may try to guess, the secret of my happiness Well me and Homer Jones and Big John Talley \"She's forty-one and her daddy still calls her \"\"baby\"\"\" My daddy taught me young how to hunt and how to whittle Big fine cars and fancy clothes. In a cabin, on a hill in Butcher Holler At night we'd sleep 'cause we were tired Life is old there, older than the trees I haven't slept a wink all night long From crying when he calls your name Life ain't nothin' but a funny funny riddle He ain't wrong he's just different Bitter-sweet memories But you're down when you're ridin' the train that's takin' the long way Twenty years of crawling was bottled up inside him So if I said you had a beautiful body And tomorrow's out of sight Daddy always managed to get the money somewhere I could by lying with you instead He talks about you in his sleep \"(When you're hot, you're hot\"\")\" My days are all filled with an easy country charm If I should stay Find it in your heart That's why we moved it Cross the sand A brown eyed handsome man I guess he needs some time away from me There goes the one of my dreams But what would it matter Got us feuding like the Hatfields and McCoys \"n' I said \"\"Thanks a lot\"\"\" Willie and Waylon and the boys There's nothin' left for me to say-ay I hope life, treats you kind To think he might be out with another woman I can't believe it's true My heart or wedding ring my all my everything And I shaved my face I-I'm sleeping single in a double bed (ooh-oo-ooh) As you used to be Let the devil take tomorrow \"But daddy always told me, \"\"Don't make small talk\"\"\" Cause she walks dowtown with a suitcase in her hand I'm begging of you please don't take my man He was sitting in the witness stand Like the Hatfield and McCoys Gettin' cards and letters from people I don't even know And love her like the devil when you get back home Then I see my old guitar in the night Don't know when I've been so blue With a subway token and a dollar tucked inside my shoe I'd be a fool 'cause I finally found someone who really cares \"I said \"\"Yeah?\"\"\" Money made from selling a hog Didn't know just what I had Saw a women walking And driving down the road I get a feeling If I were a miller Has been shattered by the closing of the door She left you here drowning in your tears, here Here you come again And I wish you happiness Would you treat me like the devil tonight I'm not ever gonna worry about tomorrow Now please don't think I'm weak, I didn't turn the other cheek While she lays waiting, I stumble to the kitchen for a bite Let this song that I'm singin' be a warnin' And I'm torn between the things that I should do And let her know you think about her when you're gone \"He said \"\"Well, when you're hot, you're hot\"\"\" He's the only one for me Like your imitation love for me And Jerry Jeff's train songs and Blue Eyes Cryin' in the Rain Would I still find you Something always told me they were reading Tommy wrong I could sing you a tune and promise you the moon A man could wake up dead Just when I'm about to make it work without you Like the shadows on the wall You make the coffee Til the sunlight has touched your face All you gotta do is smile that smile \"You even called me \"\"friend\"\"\" But honey now I do Not much left but the floor, nothing lives here anymore Save your love through sorrow Shine on me sunshine And so I'll go, but I know Little warm puppies and children and girls of the night Thank you darlin' \"Sometimes you gotta fight when you're a man\"\"\" Lord knows she don't understand him, but she does the best that she can \"And I come to her and say, \"\"it was all right, \"\" and I hold her tight\" Somewhere along the way I'll make the bed Til the early mornin' light Paper roses, paper roses, I wish you love I could be lying with you instead Make up her mind between And I don't mind 'em switchin' sides They been walking thirty miles And I were a lady People see us everywhere they all think you really care Beautiful daughter couldn't But it's much too sad to write Rhinestone cowboy I was confused, you cleared my mind What you need What's that darlin' Don't it make my brown eyes That they were singing For my clothes He let my friends go free and throwed the book at me Singin' the same old song Now you be careful \"He said, \"\"this one's for Becky, as he watched the last one fall\" Hello darlin' And you came to me Looking for a mysterious dark-haired man How it would feel to say A doctor and a lawyer man When you're runnin' down our country, hoss Say anything but don't say goodbye He'd never stood one single time to prove the county wrong Yonder comes a truck with the US mail And there go all my defenses I hope you're old enough to understand Mamas' don't let your babies grow up to be cowboys And somewhere far away While she lays crying, I fumble with a melody or two And held me up and gave me dignity It was almost like a song And did I hear you say he was a-meeting you here today Jolene, Jolene, Jolene, Jolene I know every crack in these dirty sidewalks of Broadway It's a skippidity do da day Jolene So smile for a while and let's be jolly They love our milk and honey Take me home, country roads This successful life we're livin' I'm not Lisa, my name is Julie One more time That makes a body feel alone Honey it's almost nine Our fightin' men have fought and died to keep She fought and won herself Her smile told of no night With each rising sun And he took me by the hand and held me close to his side And promised her he'd take her for his bride And she believes in me, I'll never know just what she sees in me Yeah, I'm proud to be a coal miner's daughter In her younger days they called her Delta Dawn \"\"\"Promise me, son, not to do the things I've done\" And thank God you're a country boy That didn't hurt Cowboys ain't easy to love and they're harder to hold Don't it make my brown eyes blue As they gently walk across the lonely floor Miner's lady, stranger to blue water There isn't any sweetness in your heart It's too sad to write Delta Dawn, what's that flower you have on? My hopes my dreams come true my life I give for you But tonight I need a friend We were poor but we had love But mine won't leave you Walk with me world Right where you belong And when you're not, you're not The judges wife called up I hear her voice, in the morning hour she calls me I thought that you would be a perfect lover I'm the happiest girl, in the whole U.S.A. Let me kiss you I guess I shouldn't say anything at all since you're supposed to belong to him. That I've been pickin' How's your new love There goes my everything I said I'd never say it again In route to L.A. to get The disappearing dreams of yesterday But I just can't let you go without telling you just how much I love you. If I were a carpenter I'll fix your lunch And papa, I sure hope you understand I never thought of ever leaving Butcher Holler If you were a carpenter Between Hank Williams' pain songs I'd rather wonder a little and have his lovin' I got to go now \"\"\"I promised you, Dad, not to do the things you've done\" Just to know means so much to me No one will ever know how much I love you so Don't let 'em pick guitars and drive them old trucks Thinking over things I wish I'd said (fade) Sleeping under a table at a road side park With tender looks that I mistook for love My one and only prayer is that some day you'll care But there's one thing I want you to know They'd rather give you a song then diamonds or gold So take away the flowers that you gave me Here I go It's been a long time Cause she's a good-hearted woman; she loves her good timin' man And listened to the song Look up darlin' Along with the sunshine A lonely bell was ringing He'll probably just ride away With my little songs, I was wrong I will find a way, find a way And I was just gettin' ready to roll 'em again My plans my hopes my schemes you are my every dream but it's only make believe Runnin' down the way of life The only two things in life that make it worth livin' I'd smoked my brain the night before But they preach about some other way of livin' I love you and I miss you People writing letters back home I never was one of them money hungry fools Where you belong to only me. And here I am'a walking down sixty-six Caught the sunday smell They took turns at Becky, n'there was three of them \"I said \"\"well I'll tell ya one thing judge, old buddy, old pal\"\"\" And there got all my defenses Just like your daddy is And it took me back to something Please don't take him just because you can We've been so busy keepin' up with the Jones I will always love you Good-bye, please don't cry If you don't understand him and he don't die young Oh how real those roses seem to me In the summertime we didn't have shoes to wear Just for old time's sake And there's nothing I can do to keep But she has faith in me, and so I go on trying faithfully My eyes are not blue All at once you weren't here You put me high upon a pedestal Is here you come again and here I go Half as lonesome as the sound But you could've heard a pin drop when Tommy stopped and locked the door I sold my soul, you bought it back for me Wind whipping down the neck of my shirt He turned around and grinned at me and said Between Hank Williams' pain songs and I'd play Sally Goodin all day if I could Shedding tears for Take me home, down country roads Do you love waking up next to me Would you still love me? Thank you oh Lord for making him for me Sleeping single in a double bed (ooh-oo-ooh) Taught me how to love and how to give just a little You needed me, you needed me Younger than the mountains, blowing like a breeze Getting cards and letters from people I don't even know But I'm gonna be where the lights are shinin' on me I remember well, the well where I drew water Now tell me the truth Back when ever since the world began Come along and share the good times while we can But if that's what it takes to hold you And I'm so sorry Take the ribbon from my hair Now I'm the one sleeping all alo-oh-one I wish you joy That's the one thing that daddy made sure of With Waylon and Willie and the boys Except the memory of a coal miner's daughter And my soft shoes shining I'm happiest girl, in the whole U.S.A \"Son, you don't have to fight to be a man\"\"\" The torn dress, the shattered look was more than he could stand The sun can shine so bright up in the sky I gave you my onlyness The Gatlin boys just laughed at him when he walked into the barroom From a mail order catalog My luck was so good I could do no wrong While she lays sleeping, I stay out late at night and play my songs Like I aint got nothing on Your voice is soft like summer rain Your beauty is beyond compare And it echoed thru the canyon like Newberry's train songs and Blue Eyes Cryin' in the Rain Let me hold you in my arms And I will always love you \"\"\"Pay for my Cadillac?\"\"\" \"\"\"Judge\"\"\" Like a rhinestone cowboy The district attorney said you better His hand led hers away Honey, come back where you belong to only me. Goodbye darlin' And here is what I'll say I'd rather have my fiddle and my farmin' tools But when they're runnin' down our country, man He like the night life, the bright lights and good-timin' friends Tell me no secrets, tell me some lies I'd have your baby I will find a way Your love for her grew Cause when he loves me he loves me a-all the way \"He said \"\"Yeah\"\"\" When you're runnin' down our country, man There's been a load of compromisin' If you were a miller Tommy opened up the door, and saw his Becky crying Well a lot of things have changed since a way back then He reached above the fireplace, and took down his daddy's picture That I always thought it could be Flying cross the desert in a TWA Walk away from trouble if you can Back to his arms and never know I don't care what's right or wrong One more hug would do Or let go oh-whoa-whoa-whoa There's someone for everyone, and Tommy's love was Becky The secret I'm speaking of, is a woman & a man in love There's gotta be a little rain some time I would give you the world right now on a silver platter There once was a time when I could not imagine Well, now every time I rolled them dice I'd win And would you not be above me? Of unemployment That's all I'm taking with me No one will ever know just how much I love you so Tossing, turning, trying to forget (ahh-ah) And I cry all night 'til dawn With flaming locks of auburn hair If I swore you were an angel, Out in Luckenbach, Texas ain't nobody feelin' no pain Help me make it through the night But I'll still be just as gone There goes my only possession And the beer I had for breakfast wasn't I never promised you a rose garden Daddy loved and raised eight kids on a miner's pay Go out and find herself I needed you and you were there And I stopped beside the Sunday school He was swingin Cowboys like smokey old pool rooms and clear mountain mornin's Put all the money in and let's roll 'em again Oh when he lo-oves me, he really lo-oves me And there's nothing short of dying The kids are asleep so I keep it kinda low Would you marry me anyway When you take you gotta give so live and let live Would you have my baby? (La la la la la la la) (La la la la la) Than the last time I held you Milo Venus was a beautiful lass And thank you for letting life turn out the way So I'm just gonna take my bags and I'm gonna walk. All day long in the field a hoin' corn Tell you 'bout my friends out on the coast Do these old shoes look funny I told her someday, if she was my girl, I could change the world And who knows maybe on some special night, if my song is right And a voice is softly saying She'd smile in mommy's understanding way I'd pour me a drink, but I'd only be sorry Just one more minute I've been layin' in bed thinkin' like a woman You gave me strength to stand alone again Please don't take him even though you can They're walkin' on the fightin' side of me I got my song and I got you with me tonight He wasn't holding nothin' back, he let 'em have it all Would you miss your colored blouse Who claims that he just don't believe in fightin' Out in Luckenbach, Texas there ain't nobody feelin' no pain Of a love so warm and true Why'd we move that bojangle clock so far away from the bed But the Lord and my wife wouldn't take it very good Cause there's something in a sunday You've got to kiss an angel good morning Just like you've done before Now, it won't mean you're weak if you turn the other cheek Thinking over things I wish I'd said Tomorrow she'll probably want me back\n"
     ]
    }
   ],
   "source": [
    "tokens = lyrics.split()\n",
    "lyrics = ' '.join(tokens)\n",
    "print(lyrics)"
   ]
  },
  {
   "cell_type": "markdown",
   "metadata": {},
   "source": [
    "One final thing, when I look at the above lyrics, I seem to see a LOT of quotation marks.  So, I am going to just replace those with a space.  "
   ]
  },
  {
   "cell_type": "code",
   "execution_count": 4,
   "metadata": {},
   "outputs": [],
   "source": [
    "lyrics = lyrics.replace('\"',' ')"
   ]
  },
  {
   "cell_type": "markdown",
   "metadata": {},
   "source": [
    "Now, we can build sequences of characters that will be used to predict a final character"
   ]
  },
  {
   "cell_type": "code",
   "execution_count": 5,
   "metadata": {},
   "outputs": [],
   "source": [
    "length = 100 # Length of the characer sequences (because we have so much verbage,\n",
    "             # we can use a relatively large number)\n",
    "sequences = list()\n",
    "for i in range(length, len(lyrics)):\n",
    "    seq = lyrics[i-length:i+1]\n",
    "    sequences.append(seq)"
   ]
  },
  {
   "cell_type": "markdown",
   "metadata": {},
   "source": [
    "Create and save a .txt file of our sequences with line endings"
   ]
  },
  {
   "cell_type": "code",
   "execution_count": 6,
   "metadata": {},
   "outputs": [],
   "source": [
    "data = '\\n'.join(sequences)\n",
    "file = open('char_sequences.txt','w')\n",
    "file.write(data)\n",
    "file.close()"
   ]
  },
  {
   "cell_type": "markdown",
   "metadata": {},
   "source": [
    "Create a dictionary of character:number mappings "
   ]
  },
  {
   "cell_type": "code",
   "execution_count": 7,
   "metadata": {},
   "outputs": [],
   "source": [
    "file = open('char_sequences.txt','r')\n",
    "raw_text = file.read()\n",
    "file.close()\n",
    "\n",
    "lines = raw_text.split('\\n')\n",
    "\n",
    "chars = sorted(list(set(raw_text)))\n",
    "mapping = dict((c, i) for i, c in enumerate(chars))\n",
    "\n",
    "# Save the mapping as json \n",
    "json_map = json.dumps(mapping)\n",
    "__ = open('mapping.json','w')\n",
    "__.write(json_map)\n",
    "__.close()"
   ]
  },
  {
   "cell_type": "markdown",
   "metadata": {},
   "source": [
    "Use the dictionary to create sequences of numbers only (numbers that describe the characters)"
   ]
  },
  {
   "cell_type": "code",
   "execution_count": 8,
   "metadata": {},
   "outputs": [],
   "source": [
    "sequences = list()\n",
    "for line in lines:\n",
    "    encoded_seq = [mapping[char] for char in line]\n",
    "    sequences.append(encoded_seq)\n",
    "    \n"
   ]
  },
  {
   "cell_type": "markdown",
   "metadata": {},
   "source": [
    "Create input sets (with 99 characters) and output sets (1 character) and then one-hot code the sets so we can use them to train the model."
   ]
  },
  {
   "cell_type": "code",
   "execution_count": 9,
   "metadata": {},
   "outputs": [],
   "source": [
    "vocab_size = len(mapping)\n",
    "sequences = np.array(sequences)\n",
    "X, y = sequences[:,:-1], sequences[:,-1]\n",
    "sequences = [to_categorical(x, num_classes=vocab_size) for x in X] #one-hot code input\n",
    "X = np.array(sequences)\n",
    "y = to_categorical(y, num_classes=vocab_size) #one-hot code output"
   ]
  },
  {
   "cell_type": "markdown",
   "metadata": {},
   "source": [
    "Fit the model with tuning parameters determined by trial and error."
   ]
  },
  {
   "cell_type": "code",
   "execution_count": 10,
   "metadata": {},
   "outputs": [
    {
     "name": "stdout",
     "output_type": "stream",
     "text": [
      "WARNING:tensorflow:From c:\\users\\administrator\\desktop\\projects\\nlp-country-song\\env\\lib\\site-packages\\tensorflow\\python\\ops\\resource_variable_ops.py:435: colocate_with (from tensorflow.python.framework.ops) is deprecated and will be removed in a future version.\n",
      "Instructions for updating:\n",
      "Colocations handled automatically by placer.\n",
      "WARNING:tensorflow:From c:\\users\\administrator\\desktop\\projects\\nlp-country-song\\env\\lib\\site-packages\\tensorflow\\python\\keras\\backend.py:4010: calling dropout (from tensorflow.python.ops.nn_ops) with keep_prob is deprecated and will be removed in a future version.\n",
      "Instructions for updating:\n",
      "Please use `rate` instead of `keep_prob`. Rate should be set to `rate = 1 - keep_prob`.\n",
      "Train on 23347 samples, validate on 5837 samples\n",
      "WARNING:tensorflow:From c:\\users\\administrator\\desktop\\projects\\nlp-country-song\\env\\lib\\site-packages\\tensorflow\\python\\ops\\math_ops.py:3066: to_int32 (from tensorflow.python.ops.math_ops) is deprecated and will be removed in a future version.\n",
      "Instructions for updating:\n",
      "Use tf.cast instead.\n",
      "Epoch 1/1000\n",
      "23347/23347 [==============================] - 245s 11ms/sample - loss: 3.1250 - acc: 0.2006 - val_loss: 3.0377 - val_acc: 0.2037\n",
      "Epoch 2/1000\n",
      "23347/23347 [==============================] - 243s 10ms/sample - loss: 3.0340 - acc: 0.2047 - val_loss: 2.9598 - val_acc: 0.2037\n",
      "Epoch 3/1000\n",
      "23347/23347 [==============================] - 242s 10ms/sample - loss: 2.8547 - acc: 0.2286 - val_loss: 2.7130 - val_acc: 0.2611\n",
      "Epoch 4/1000\n",
      "23347/23347 [==============================] - 243s 10ms/sample - loss: 2.7013 - acc: 0.2638 - val_loss: 2.5518 - val_acc: 0.3144\n",
      "Epoch 5/1000\n",
      "23347/23347 [==============================] - 242s 10ms/sample - loss: 2.5734 - acc: 0.2919 - val_loss: 2.4542 - val_acc: 0.3247\n",
      "Epoch 6/1000\n",
      "23347/23347 [==============================] - 242s 10ms/sample - loss: 2.4957 - acc: 0.3076 - val_loss: 2.3924 - val_acc: 0.3310\n",
      "Epoch 7/1000\n",
      "23347/23347 [==============================] - 242s 10ms/sample - loss: 2.4511 - acc: 0.3178 - val_loss: 2.3529 - val_acc: 0.3349\n",
      "Epoch 8/1000\n",
      "23347/23347 [==============================] - 242s 10ms/sample - loss: 2.4185 - acc: 0.3249 - val_loss: 2.3219 - val_acc: 0.3442\n",
      "Epoch 9/1000\n",
      "23347/23347 [==============================] - 244s 10ms/sample - loss: 2.3852 - acc: 0.3334 - val_loss: 2.2874 - val_acc: 0.3456\n",
      "Epoch 10/1000\n",
      "23347/23347 [==============================] - 244s 10ms/sample - loss: 2.3531 - acc: 0.3442 - val_loss: 2.2634 - val_acc: 0.3521\n",
      "Epoch 11/1000\n",
      "23347/23347 [==============================] - 245s 11ms/sample - loss: 2.3259 - acc: 0.3492 - val_loss: 2.2440 - val_acc: 0.3743\n",
      "Epoch 12/1000\n",
      "23347/23347 [==============================] - 243s 10ms/sample - loss: 2.3035 - acc: 0.3553 - val_loss: 2.2116 - val_acc: 0.3824\n",
      "Epoch 13/1000\n",
      "23347/23347 [==============================] - 243s 10ms/sample - loss: 2.2882 - acc: 0.3589 - val_loss: 2.2031 - val_acc: 0.3817\n",
      "Epoch 14/1000\n",
      "23347/23347 [==============================] - 241s 10ms/sample - loss: 2.2703 - acc: 0.3631 - val_loss: 2.1826 - val_acc: 0.3891\n",
      "Epoch 15/1000\n",
      "23347/23347 [==============================] - 242s 10ms/sample - loss: 2.2487 - acc: 0.3669 - val_loss: 2.1681 - val_acc: 0.3939\n",
      "Epoch 16/1000\n",
      "23347/23347 [==============================] - 242s 10ms/sample - loss: 2.2370 - acc: 0.3724 - val_loss: 2.1696 - val_acc: 0.3958\n",
      "Epoch 17/1000\n",
      "23347/23347 [==============================] - 242s 10ms/sample - loss: 2.2240 - acc: 0.3752 - val_loss: 2.1416 - val_acc: 0.4033\n",
      "Epoch 18/1000\n",
      "23347/23347 [==============================] - 244s 10ms/sample - loss: 2.2116 - acc: 0.3762 - val_loss: 2.1290 - val_acc: 0.4002\n",
      "Epoch 19/1000\n",
      "23347/23347 [==============================] - 243s 10ms/sample - loss: 2.1968 - acc: 0.3800 - val_loss: 2.1194 - val_acc: 0.4023\n",
      "Epoch 20/1000\n",
      "23347/23347 [==============================] - 243s 10ms/sample - loss: 2.1849 - acc: 0.3827 - val_loss: 2.1075 - val_acc: 0.4040\n",
      "Epoch 21/1000\n",
      "23347/23347 [==============================] - 244s 10ms/sample - loss: 2.1730 - acc: 0.3835 - val_loss: 2.0955 - val_acc: 0.4028\n",
      "Epoch 22/1000\n",
      "23347/23347 [==============================] - 243s 10ms/sample - loss: 2.1612 - acc: 0.3860 - val_loss: 2.0813 - val_acc: 0.4064\n",
      "Epoch 23/1000\n",
      "23347/23347 [==============================] - 244s 10ms/sample - loss: 2.1575 - acc: 0.3912 - val_loss: 2.0749 - val_acc: 0.4091\n",
      "Epoch 24/1000\n",
      "23347/23347 [==============================] - 243s 10ms/sample - loss: 2.1430 - acc: 0.3911 - val_loss: 2.0653 - val_acc: 0.4139\n",
      "Epoch 25/1000\n",
      "23347/23347 [==============================] - 246s 11ms/sample - loss: 2.1275 - acc: 0.3939 - val_loss: 2.0547 - val_acc: 0.4167\n",
      "Epoch 26/1000\n",
      "23347/23347 [==============================] - 243s 10ms/sample - loss: 2.1267 - acc: 0.3947 - val_loss: 2.0510 - val_acc: 0.4214\n",
      "Epoch 27/1000\n",
      "23347/23347 [==============================] - 244s 10ms/sample - loss: 2.1180 - acc: 0.3962 - val_loss: 2.0370 - val_acc: 0.4252\n",
      "Epoch 28/1000\n",
      "23347/23347 [==============================] - 244s 10ms/sample - loss: 2.1059 - acc: 0.4023 - val_loss: 2.0258 - val_acc: 0.4203\n",
      "Epoch 29/1000\n",
      "23347/23347 [==============================] - 243s 10ms/sample - loss: 2.0971 - acc: 0.4028 - val_loss: 2.0188 - val_acc: 0.4232\n",
      "Epoch 30/1000\n",
      "23347/23347 [==============================] - 243s 10ms/sample - loss: 2.0938 - acc: 0.3998 - val_loss: 2.0173 - val_acc: 0.4257\n",
      "Epoch 31/1000\n",
      "23347/23347 [==============================] - 241s 10ms/sample - loss: 2.0795 - acc: 0.4044 - val_loss: 2.0077 - val_acc: 0.4326\n",
      "Epoch 32/1000\n",
      "23347/23347 [==============================] - 242s 10ms/sample - loss: 2.0665 - acc: 0.4120 - val_loss: 2.0028 - val_acc: 0.4276\n",
      "Epoch 33/1000\n",
      "23347/23347 [==============================] - 244s 10ms/sample - loss: 2.0640 - acc: 0.4095 - val_loss: 1.9954 - val_acc: 0.4329\n",
      "Epoch 34/1000\n",
      "23347/23347 [==============================] - 244s 10ms/sample - loss: 2.0618 - acc: 0.4092 - val_loss: 1.9868 - val_acc: 0.4357\n",
      "Epoch 35/1000\n",
      "23347/23347 [==============================] - 246s 11ms/sample - loss: 2.0480 - acc: 0.4134 - val_loss: 1.9808 - val_acc: 0.4364\n",
      "Epoch 36/1000\n",
      "23347/23347 [==============================] - 246s 11ms/sample - loss: 2.0399 - acc: 0.4138 - val_loss: 1.9811 - val_acc: 0.4365\n",
      "Epoch 37/1000\n",
      "23347/23347 [==============================] - 242s 10ms/sample - loss: 2.0377 - acc: 0.4161 - val_loss: 1.9702 - val_acc: 0.4394\n",
      "Epoch 38/1000\n",
      "23347/23347 [==============================] - 241s 10ms/sample - loss: 2.0331 - acc: 0.4125 - val_loss: 1.9639 - val_acc: 0.4422\n",
      "Epoch 39/1000\n",
      "23347/23347 [==============================] - 241s 10ms/sample - loss: 2.0223 - acc: 0.4179 - val_loss: 1.9643 - val_acc: 0.4446\n",
      "Epoch 40/1000\n",
      "23347/23347 [==============================] - 243s 10ms/sample - loss: 2.0221 - acc: 0.4185 - val_loss: 1.9483 - val_acc: 0.4444\n",
      "Epoch 41/1000\n",
      "23347/23347 [==============================] - 243s 10ms/sample - loss: 2.0166 - acc: 0.4191 - val_loss: 1.9452 - val_acc: 0.4461\n",
      "Epoch 42/1000\n",
      "23347/23347 [==============================] - 241s 10ms/sample - loss: 2.0078 - acc: 0.4218 - val_loss: 1.9503 - val_acc: 0.4454\n",
      "Epoch 43/1000\n",
      "23347/23347 [==============================] - 242s 10ms/sample - loss: 1.9957 - acc: 0.4250 - val_loss: 1.9347 - val_acc: 0.4523\n",
      "Epoch 44/1000\n",
      "23347/23347 [==============================] - 242s 10ms/sample - loss: 1.9980 - acc: 0.4258 - val_loss: 1.9332 - val_acc: 0.4489\n",
      "Epoch 45/1000\n",
      "23347/23347 [==============================] - 242s 10ms/sample - loss: 2.0005 - acc: 0.4236 - val_loss: 1.9254 - val_acc: 0.4513\n",
      "Epoch 46/1000\n",
      "23347/23347 [==============================] - 241s 10ms/sample - loss: 1.9912 - acc: 0.4240 - val_loss: 1.9237 - val_acc: 0.4545\n",
      "Epoch 47/1000\n",
      "23347/23347 [==============================] - 242s 10ms/sample - loss: 1.9902 - acc: 0.4263 - val_loss: 1.9204 - val_acc: 0.4537\n",
      "Epoch 48/1000\n",
      "23347/23347 [==============================] - 242s 10ms/sample - loss: 1.9781 - acc: 0.4271 - val_loss: 1.9171 - val_acc: 0.4483\n",
      "Epoch 49/1000\n",
      "23347/23347 [==============================] - 242s 10ms/sample - loss: 1.9734 - acc: 0.4278 - val_loss: 1.9184 - val_acc: 0.4521\n",
      "Epoch 50/1000\n"
     ]
    },
    {
     "name": "stdout",
     "output_type": "stream",
     "text": [
      "23347/23347 [==============================] - 241s 10ms/sample - loss: 1.9728 - acc: 0.4312 - val_loss: 1.9070 - val_acc: 0.4581\n",
      "Epoch 51/1000\n",
      "23347/23347 [==============================] - 243s 10ms/sample - loss: 1.9673 - acc: 0.4326 - val_loss: 1.9046 - val_acc: 0.4528\n",
      "Epoch 52/1000\n",
      "23347/23347 [==============================] - 241s 10ms/sample - loss: 1.9568 - acc: 0.4350 - val_loss: 1.9035 - val_acc: 0.4578\n",
      "Epoch 53/1000\n",
      "23347/23347 [==============================] - 241s 10ms/sample - loss: 1.9565 - acc: 0.4331 - val_loss: 1.9017 - val_acc: 0.4588\n",
      "Epoch 54/1000\n",
      "23347/23347 [==============================] - 241s 10ms/sample - loss: 1.9506 - acc: 0.4389 - val_loss: 1.8916 - val_acc: 0.4619\n",
      "Epoch 55/1000\n",
      "23347/23347 [==============================] - 244s 10ms/sample - loss: 1.9464 - acc: 0.4350 - val_loss: 1.8885 - val_acc: 0.4609\n",
      "Epoch 56/1000\n",
      "23347/23347 [==============================] - 241s 10ms/sample - loss: 1.9424 - acc: 0.4386 - val_loss: 1.8839 - val_acc: 0.4615\n",
      "Epoch 57/1000\n",
      "23347/23347 [==============================] - 241s 10ms/sample - loss: 1.9410 - acc: 0.4381 - val_loss: 1.8800 - val_acc: 0.4638\n",
      "Epoch 58/1000\n",
      "23347/23347 [==============================] - 242s 10ms/sample - loss: 1.9328 - acc: 0.4377 - val_loss: 1.8841 - val_acc: 0.4631\n",
      "Epoch 59/1000\n",
      "23347/23347 [==============================] - 242s 10ms/sample - loss: 1.9296 - acc: 0.4380 - val_loss: 1.8707 - val_acc: 0.4711\n",
      "Epoch 60/1000\n",
      "23347/23347 [==============================] - 243s 10ms/sample - loss: 1.9297 - acc: 0.4376 - val_loss: 1.8735 - val_acc: 0.4634\n",
      "Epoch 61/1000\n",
      "23347/23347 [==============================] - 241s 10ms/sample - loss: 1.9277 - acc: 0.4417 - val_loss: 1.8665 - val_acc: 0.4657\n",
      "Epoch 62/1000\n",
      "23347/23347 [==============================] - 242s 10ms/sample - loss: 2.0763 - acc: 0.4081 - val_loss: 2.3763 - val_acc: 0.3308\n",
      "Epoch 63/1000\n",
      "23347/23347 [==============================] - 241s 10ms/sample - loss: 2.4003 - acc: 0.3275 - val_loss: 2.3462 - val_acc: 0.3380\n",
      "Epoch 64/1000\n",
      "23347/23347 [==============================] - 242s 10ms/sample - loss: 2.4607 - acc: 0.3076 - val_loss: 2.2371 - val_acc: 0.3478\n",
      "Epoch 65/1000\n",
      "23347/23347 [==============================] - 241s 10ms/sample - loss: 2.3536 - acc: 0.3334 - val_loss: 2.1729 - val_acc: 0.3740\n",
      "Epoch 66/1000\n",
      "23347/23347 [==============================] - 244s 10ms/sample - loss: 2.2902 - acc: 0.3478 - val_loss: 2.1325 - val_acc: 0.3886\n",
      "Epoch 00066: early stopping\n"
     ]
    }
   ],
   "source": [
    "units = 50  # From the mentioned article in data science\n",
    "epochs = 1000  # Just a large number since I am using early stopping\n",
    "validationSplit = 0.2 # My data set is small so I want to use as much as possible to train vs. validate\n",
    "shuffle = True\n",
    "batchSize = 64 # Doubled the default batch size to speed up training\n",
    "dropOut = .2  # http://papers.nips.cc/paper/4878-understanding-dropout.pdf\n",
    "    #Define callbacks\n",
    "\n",
    "es = EarlyStopping(monitor = 'val_loss',min_delta = .01, patience = 5, mode = 'min',verbose=1)\n",
    "mc = ModelCheckpoint('model.3LSTM.best', monitor='acc', mode='max', save_best_only=True) # Keep best model\n",
    "\n",
    "\n",
    "    # define and fit model\n",
    "model = Sequential()\n",
    "model.add(LSTM(units, return_sequences=True,dropout = dropOut,input_shape=(X.shape[1], X.shape[2])))\n",
    "model.add(LSTM(units, return_sequences=True,dropout = dropOut,input_shape=(X.shape[1], X.shape[2])))\n",
    "model.add(LSTM(units, dropout = dropOut,input_shape=(X.shape[1], X.shape[2])))\n",
    "model.add(Dropout(dropOut))\n",
    "model.add(Dense(vocab_size, activation='softmax',kernel_constraint=maxnorm(3)))\n",
    "model.compile(loss='categorical_crossentropy', optimizer='adam', metrics=['accuracy'])\n",
    "\n",
    "\n",
    "modelLyrics = model.fit(X, y, epochs = epochs, validation_split = validationSplit, \n",
    "                            shuffle = shuffle, batch_size = batchSize, verbose=1,callbacks=[es, mc])\n",
    "\n",
    "   \n",
    "history = pd.DataFrame(modelLyrics.history)\n",
    "history.to_csv('modelLyricsHistory.3LSTM.csv',index=False)"
   ]
  },
  {
   "cell_type": "markdown",
   "metadata": {},
   "source": [
    "Create a function that encodes a kickoff text string and then plugs it into our trained model"
   ]
  },
  {
   "cell_type": "markdown",
   "metadata": {},
   "source": [
    "# generate a sequence of characters with a language model\n",
    "def generate_seq(model, mapping, seq_length, seed_lyric, n_chars):\n",
    "    lyrics = seed_lyric\n",
    "    for __ in range(n_chars):\n",
    "    # encode the characters as integers\n",
    "        encoded = [mapping[char] for char in lyrics]\n",
    "    # truncate sequences to a fixed length\n",
    "        encoded = pad_sequences([encoded], maxlen=seq_length, truncating='pre')\n",
    "    # one hot encode\n",
    "        encoded = to_categorical(encoded, num_classes=len(mapping))\n",
    "    # predict character\n",
    "        yhat = model.predict_classes(encoded, verbose=0)\n",
    "    # reverse map integer to character\n",
    "        out_char = ''\n",
    "        for char, index in mapping.items():\n",
    "            if index == yhat:\n",
    "                out_char = char\n",
    "                break\n",
    "    # append to input\n",
    "        lyrics += char\n",
    "    return lyrics"
   ]
  },
  {
   "cell_type": "markdown",
   "metadata": {},
   "source": [
    "Is there a song other than Stairway to Heaven that I could have used for the kickoff sequence?"
   ]
  },
  {
   "cell_type": "markdown",
   "metadata": {},
   "source": [
    "startLyrics = \"I've had a largemouth bass bust my line A couple beautiful girls tell me, Goodbye Trucks break down,\""
   ]
  },
  {
   "cell_type": "markdown",
   "metadata": {},
   "source": [
    "startLyrics = \"There's a lady who's sure All that glitters is gold And she's buying a stairway to heaven When she g\""
   ]
  },
  {
   "cell_type": "markdown",
   "metadata": {},
   "source": [
    "__ = open('lyrics.Coolio.Epoch100.txt','w')\n",
    "\n",
    "model = load_model('model.100Epoch_6.6.best')\n",
    "lyricsFinal = generate_seq(model,mapping,length,startLyrics,1000)\n",
    "__ = open('lyrics.Coolio.Epoch100.txt','a+')\n",
    "#__.write('Drop {}\\n\\n'.format(modelNum))\n",
    "__.write(lyricsFinal)\n",
    "__.write('.\\n\\n\\n')\n",
    "__.close()"
   ]
  },
  {
   "cell_type": "markdown",
   "metadata": {},
   "source": [
    "Run the model and print the lyrics"
   ]
  },
  {
   "cell_type": "markdown",
   "metadata": {},
   "source": [
    "def run_models(modelNum):\n",
    "    model = load_model('model.drop_0.{}.best'.format(modelNum))\n",
    "    lyricsFinal = generate_seq(model,mapping,length,startLyrics,1000)\n",
    "    __ = open('lyrics.LedZep.txt','a+')\n",
    "    __.write('Drop {}\\n\\n'.format(modelNum))\n",
    "    __.write(lyricsFinal)\n",
    "    __.write('.\\n\\n\\n')\n",
    "    __.close()\n",
    "    \n",
    "    "
   ]
  },
  {
   "cell_type": "markdown",
   "metadata": {},
   "source": [
    "__ = open('lyrics.LedZep.txt','w')\n",
    "__.write('Stairway to Heaven/n/n')\n",
    "__.close()\n",
    "\n",
    "for i in range(0,6):\n",
    "    run_models(str(i))"
   ]
  },
  {
   "cell_type": "markdown",
   "metadata": {},
   "source": [
    "df = pd.read_json('modelLyricsHistory.json')"
   ]
  },
  {
   "cell_type": "markdown",
   "metadata": {},
   "source": [
    "df"
   ]
  }
 ],
 "metadata": {
  "kernelspec": {
   "display_name": "NLP-country-song",
   "language": "python",
   "name": "nlp-country-song"
  },
  "language_info": {
   "codemirror_mode": {
    "name": "ipython",
    "version": 3
   },
   "file_extension": ".py",
   "mimetype": "text/x-python",
   "name": "python",
   "nbconvert_exporter": "python",
   "pygments_lexer": "ipython3",
   "version": "3.7.3"
  }
 },
 "nbformat": 4,
 "nbformat_minor": 2
}
