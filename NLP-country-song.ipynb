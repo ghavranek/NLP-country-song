{
 "cells": [
  {
   "cell_type": "code",
   "execution_count": 15,
   "metadata": {},
   "outputs": [],
   "source": [
    "import scipy\n",
    "import numpy as np\n",
    "import matplotlib\n",
    "import pandas as pd\n",
    "import statsmodels\n",
    "import sklearn\n",
    "import tensorflow\n",
    "import keras\n",
    "import string\n"
   ]
  },
  {
   "cell_type": "markdown",
   "metadata": {},
   "source": [
    "Will put into csv first so that can randomly sort since combining so many songs from so many artists."
   ]
  },
  {
   "cell_type": "code",
   "execution_count": 16,
   "metadata": {},
   "outputs": [],
   "source": [
    "lyricsCSV = pd.read_csv('lyrics.csv',encoding='ISO-8859-1')\n",
    "#lyricsSample = lyricsCSV.sample(frac=1)\n",
    "#lyricsSample.head()\n",
    "#lyricsSample.to_csv('lyrics.txt',sep='\\t',index=False)\n",
    "lyricsCSV.to_csv('lyrics.txt',sep='\\t',index=False)"
   ]
  },
  {
   "cell_type": "code",
   "execution_count": 49,
   "metadata": {},
   "outputs": [],
   "source": [
    "l = open('lyrics.txt','r')\n",
    "lyrics = l.read()\n",
    "l.close()"
   ]
  },
  {
   "cell_type": "code",
   "execution_count": 50,
   "metadata": {},
   "outputs": [],
   "source": [
    "tokens = lyrics.split()\n",
    "lyrics = ''.join(tokens)\n",
    "#lyrics = lyrics.translate(str.maketrans('','',string.punctuation)) #Remove punctuation because many songs from many sources"
   ]
  },
  {
   "cell_type": "code",
   "execution_count": 42,
   "metadata": {},
   "outputs": [
    {
     "name": "stdout",
     "output_type": "stream",
     "text": [
      "SingasongofsixpenceApocketfullofryeFourandtwentyblackbirdsBakedinapieWhenthepiewasopenedThebirdsbegantosingWasntthatadaintydishTosetbeforethekingThekingwasinhiscountinghouseCountingouthismoneyThequeenwasintheparlourEatingbreadandhoneyThemaidwasinthegardenHangingouttheclothesWhendowncameablackbirdAndpeckedoffhernose\n"
     ]
    }
   ],
   "source": [
    "print(lyrics)"
   ]
  },
  {
   "cell_type": "code",
   "execution_count": 52,
   "metadata": {},
   "outputs": [],
   "source": [
    "length = 10\n",
    "sequences = list()\n",
    "for i in range(length, len(lyrics)):\n",
    "    seq = lyrics[i-length:i+1]\n",
    "    sequences.append(seq)"
   ]
  },
  {
   "cell_type": "code",
   "execution_count": null,
   "metadata": {},
   "outputs": [],
   "source": [
    "data = '\\n'.join(sequences)\n",
    "file = open('char_sequences.txt','w')\n",
    "file.write(data)\n",
    "file.close()"
   ]
  },
  {
   "cell_type": "code",
   "execution_count": 60,
   "metadata": {},
   "outputs": [],
   "source": [
    "file = open('char_sequences.txt','r')\n",
    "raw_text = file.read()\n",
    "file.close()\n",
    "\n",
    "lines = raw_text.split('\\n')"
   ]
  },
  {
   "cell_type": "code",
   "execution_count": 66,
   "metadata": {},
   "outputs": [],
   "source": [
    "\n",
    "chars = sorted(list(set(raw_text)))\n",
    "mapping = dict((c, i) for i, c in enumerate(chars))\n"
   ]
  },
  {
   "cell_type": "code",
   "execution_count": 72,
   "metadata": {},
   "outputs": [],
   "source": [
    "sequences = list()\n",
    "for line in lines:\n",
    "    encoded_seq = [mapping[char] for char in line]\n",
    "    sequences.append(encoded_seq)"
   ]
  },
  {
   "cell_type": "code",
   "execution_count": 76,
   "metadata": {},
   "outputs": [
    {
     "name": "stdout",
     "output_type": "stream",
     "text": [
      "Vocabulary Size: 37\n"
     ]
    }
   ],
   "source": [
    "vocab_size = len(mapping)\n",
    "print('Vocabulary Size: {}'.format(vocab_size))"
   ]
  },
  {
   "cell_type": "code",
   "execution_count": null,
   "metadata": {},
   "outputs": [],
   "source": []
  }
 ],
 "metadata": {
  "kernelspec": {
   "display_name": "NLP-country-song",
   "language": "python",
   "name": "nlp-country-song"
  },
  "language_info": {
   "codemirror_mode": {
    "name": "ipython",
    "version": 3
   },
   "file_extension": ".py",
   "mimetype": "text/x-python",
   "name": "python",
   "nbconvert_exporter": "python",
   "pygments_lexer": "ipython3",
   "version": "3.7.1"
  }
 },
 "nbformat": 4,
 "nbformat_minor": 2
}
