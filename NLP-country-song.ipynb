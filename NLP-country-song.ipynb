{
 "cells": [
  {
   "cell_type": "markdown",
   "metadata": {},
   "source": [
    "<span style=\"font-size: 2em; font-weight:bold\">AI 70's Country</span>"
   ]
  },
  {
   "cell_type": "code",
   "execution_count": 1,
   "metadata": {},
   "outputs": [
    {
     "name": "stderr",
     "output_type": "stream",
     "text": [
      "Using TensorFlow backend.\n"
     ]
    },
    {
     "data": {
      "text/html": [
       "        <script type=\"text/javascript\">\n",
       "        window.PlotlyConfig = {MathJaxConfig: 'local'};\n",
       "        if (window.MathJax) {MathJax.Hub.Config({SVG: {font: \"STIX-Web\"}});}\n",
       "        if (typeof require !== 'undefined') {\n",
       "        require.undef(\"plotly\");\n",
       "        requirejs.config({\n",
       "            paths: {\n",
       "                'plotly': ['https://cdn.plot.ly/plotly-latest.min']\n",
       "            }\n",
       "        });\n",
       "        require(['plotly'], function(Plotly) {\n",
       "            window._Plotly = Plotly;\n",
       "        });\n",
       "        }\n",
       "        </script>\n",
       "        "
      ]
     },
     "metadata": {},
     "output_type": "display_data"
    }
   ],
   "source": [
    "import warnings\n",
    "warnings.filterwarnings('ignore')\n",
    "\n",
    "import scipy\n",
    "import numpy as np\n",
    "import matplotlib\n",
    "import pandas as pd\n",
    "import statsmodels\n",
    "import sklearn\n",
    "import tensorflow\n",
    "import keras\n",
    "\n",
    "from keras.models import Sequential, load_model\n",
    "from keras.layers import Dense,LSTM,Dropout\n",
    "from keras.utils import to_categorical\n",
    "from keras.preprocessing.sequence import pad_sequences\n",
    "from keras.callbacks import History\n",
    "import string\n",
    "import pyarrow as pa\n",
    "\n",
    "\n",
    "import plotly.graph_objs as go\n",
    "import plotly\n",
    "from plotly.offline import plot, iplot, init_notebook_mode\n",
    "init_notebook_mode(connected = True)\n",
    "import plotly.offline as offline\n",
    "from plotly import tools\n",
    "\n",
    "import json\n",
    "import time"
   ]
  },
  {
   "cell_type": "markdown",
   "metadata": {},
   "source": [
    "As always, data prep is the hardest part of the project.  Because I am going to use a validation set in training my model, and because Keras uses the last n% of the data as the validation set, I want to shuffle the lyrics so that my validation set contains a better representation of all the data - not just the last song.  I also want to get the most originality that I can out of the model, so I will eliminate duplicate lyrics (some songs have refrains that repeat multiple times).  "
   ]
  },
  {
   "cell_type": "code",
   "execution_count": 2,
   "metadata": {},
   "outputs": [],
   "source": [
    "lyricsCSV = pd.read_csv('lyricsTrain_25.csv',encoding='ISO-8859-1')\n",
    "lyricsCSV.sort_values(lyricsCSV.columns[0],inplace=True)\n",
    "lyricsCSV.drop_duplicates(keep='first',inplace=True)\n",
    "lyricsCSV = lyricsCSV.sample(frac=1)\n",
    "\n",
    "\n",
    "\n",
    "lyricsCSV.to_csv('lyrics.txt',sep='\\t',index=False)\n",
    "l = open('lyrics.txt','r')\n",
    "lyrics = l.read()\n",
    "l.close()"
   ]
  },
  {
   "cell_type": "markdown",
   "metadata": {},
   "source": [
    "Remove lines and print"
   ]
  },
  {
   "cell_type": "code",
   "execution_count": 3,
   "metadata": {},
   "outputs": [
    {
     "name": "stdout",
     "output_type": "stream",
     "text": [
      "I beg your pardon Jolene, Jolene There'll be a load of compromisin' And my soft shoes shining And shakin' me up so that all I really know And I wonder just how long Somehow you needed me Money made from selling a hog Come along and share the good times while we can When ever I chance to meet, some old friends on the street On the sunday morning sidewalk I pull out my fiddle and I rosin up the bow \"He said \"\"Hello, boys\"\" and then he gave us a grin 'n' said\" But myself I can't deceive I know it's only make believe My luck was so good I could do no wrong And papa, I sure hope you understand (La la la la la la la, when you're hot, you're hot) I'll just cry all night long But his pride won't let him do things to make you think he's right And it's so good to be back home again With flaming locks of auburn hair My only prayer will be some day you'll care for me but it's only make believe Well a lot of things have changed since a way back then Newberry's train songs and Blue Eyes Cryin' in the Rain Well there goes my only possession If I worked my hands on wood Them that don't know him won't like him Bitter-sweet memories That I should have been home yesterday, yesterday One day while he was working, the Gatlin boys came calling There's someone for everyone, and Tommy's love was Becky Daddy always managed to get the money somewhere As my memory turns back the pages And there's nothing I can do to keep Now you be careful I could sing you a tune and promise you the moon \"\"\"Ninety days, Jerry, when you hot, you hot\"\"\" And every time they ask me why I just smile & say But I'd rather fight the wind and rain Just like you've done before So I'm just gonna take my bags and I'm gonna walk. Wishing lord that I was stoned So smile for a while and let's be jolly Let's go to Luckenbach, Texas Do these old shoes look funny Save your love through sorrow Would you still love me? When you're runnin' down our country, man I still recall the final words my brother said to Tommy Now, it won't mean you're weak if you turn the other cheek You're walkin' on the fightin' side of me And ever' thing would start all over come break of morn And I don't mind 'em switchin' sides Honey, I know I've said it too many times before You put me high upon a pedestal I'd be a fool 'cause I finally found someone who really cares Forget I've ever known her Had a big crap game goin' back in the alley Where you belong to only me. \"I said \"\"Hey, judge, old buddy, old pal\"\"\" I'm happiest girl, in the whole U.S.A Jolene, Jolene, Jolene, Jolene Yeah, I'm proud to be a coal miner's daughter She loves him in spite of his ways that she don't understand And stumbled down the stairs But the Lord and my wife wouldn't take it very good Each lonely day's a little bit longer If I were a miller And I kept rollin' them sevens , winnin' all them pots Here you come again My hopes my dreams come true my one and only you I'd have your baby This successful life we're livin' got us feudin' I remember well, the well where I drew water I'd marry you anyway But you're down when you're ridin' the train that's takin' the long way He reached above the fireplace, and took down his daddy's picture Well I got me a fine wife I got me an ole fiddle If you were a miller Willie and Waylon and the boys But I lit my first and watched a small kid Wind whipping down the neck of my shirt Walk away from trouble if you can To meet the day Hello sunshine All the folks around Brownsville say she's crazy If you don't understand him and he don't die young Sleepin' in our king size bed With a laughing little girl Through teardrops and laughter, they'll pass through this world hand-in-hand, Well I wouldn't trade my life for diamonds and jewels \"\"\"Who gonna collect my welfare?\"\"\" A raisin' me a family and workin' on a farm And I wish you happiness Here I go Big fine cars and fancy clothes. This successful life we're livin' I'll be fine when you're gone He'd never stood one single time to prove the county wrong Mommy scrubbed our clothes on a washboard ever' day Seems like a hundred years ago (La la la la la la la) (La la la la la) He wasn't holding nothin' back, he let 'em have it all Honey it's almost nine And thank you for letting life turn out the way I hope you're old enough to understand Rain dripping off the brim of my hat Darling this will be goodbye for evermore And found my cleanest dirty shirt There once was a time when I could not imagine When the sun's comin' up I got cakes on the griddle And let her know you think about her when you're gone I wish you joy Say it isn't true and \"She's forty-one and her daddy still calls her \"\"baby\"\"\" Ain't much an old country boy like me can't hack I'd rather have my fiddle and my farmin' tools I never promised you a rose garden Oh there goes my everything I'd just as soon let you go One more hug would do And promised her he'd take her for his bride When the party's all over she'll welcome him back home again And kiss the happiest girl, in the whole U.S.A. And held me up and gave me dignity I'd be carrying the pots you made You held my hand when it was cold When I heard somethin' behind me Almost heaven, West Virginia If a tinker was my trade He was only ten years old when his daddy died in prison That's why we moved it I jest kept on rollin' and controllin' them bones My daddy taught me young how to hunt and how to whittle Something always told me they were reading Tommy wrong Cussin' at a can that he was kickin And so I'll go, but I know Just when I've begun to get myself together Out in Luckenbach, Texas ain't nobody feelin' no pain Why I've seen her fingers bleed Honey, come back But if that's what it takes to hold you You needed me, you needed me But above all this I say, yeah, when you're hot, you're hot Miner's lady, stranger to blue water Your beauty is beyond compare And it echoed thru the canyon like I needed you and you were there I'm begging of you please don't take my man As much as I love waking up next to you The radio reminds me of my home far away Your voice is soft like summer rain This successful life we're livin's got us feudin' All my memories gather round her I'd answer you yes I would Well people may try to guess, the secret of my happiness From a mail order catalog Jolene Your smile is like a breath of spring No one will ever know just how much I love you so The kids are asleep so I keep it kinda low Between Hank Williams' pain songs You've got to kiss an angel good morning Cause there's something in a sunday Like the Hatfield and McCoys \"He said, \"\"this one's for Becky, as he watched the last one fall\" I would give you the world right now on a silver platter Give me no reasons, give me alibies That they were singing Love shouldn't be so melancholy Please don't take him even though you can In her arms, he didn't have to prove he was a man Except the memory of a coal miner's daughter I turned around and there was a big old cop \"\"\"When you hot, you hot\"\"\" Let 'em be doctors and lawyers and such Would I still find you But I'm gonna be where the lights are shinin' on me Skippidity do da To complain, there was no need Here you come again and here I go But she never complains of the bad times or bad things he's done, Lord He let my friends go free and throwed the book at me \"\"\"You understand that, you hillbilly?\"\"\" Then I crossed the empty street and Tomorrow she'll probably want me back Where hustle's the name of the game And a voice is softly saying On the sleeping city sidewalk If you were a carpenter Would you have my baby? That I'd lost somehow And driving down the road I get a feeling And here I am'a walking down sixty-six How it would feel to say I'll make the bed As the tears fell on his daddy's face, he heard these words again Mommy rocked the babies at night Cause they'll never stay home and they're always alone Cause she walks dowtown with a suitcase in her hand Runnin' down the way of life That didn't hurt And gripin' 'bout the way things oughta be Then I headed back for home When you're runnin' down our country, hoss They wonder how does a man get to be this way They'd rather give you a song then diamonds or gold Can forget I've ever known her My heart or wedding ring my all my everything He turned around and grinned at me and said And I dream of the things I'll do Well a simple kinda life never did me no harm Harpin' on the wars we fight Maybe it's time we got back to the basics of love I can see the happy years we've had before Just leave it up to you and in a little while Getting cards and letters from people I don't even know Tell me you love me and don't let me cry So you better think it over I will always love you For my clothes From crying when he calls your name You make the coffee Walk with me world And I stopped beside the Sunday school And I cannot compete with you You look into my eyes and lie those pretty lies Thank God I'm a country boy And there's nothing short of dying And your soft shoes shining? When the work's all done and the sun's settlin' low I'll think of you each step of the way You're hot I read about some squirrelly guy And somewhere far away I could promise you things like big diamond rings But in the wintertime we'd all get a brand new pair But it sure seems warmer than it did Daddy loved and raised eight kids on a miner's pay I've always got a smiling face, anytime & any place West Virginia, mountain mama And would you not be above me? I gave you my onlyness And pretty soon I'm wond'rin how I came to doubt you. Honey, come back I just can't stand I had to have this talk with you I walk away from trouble when I can And I were a lady But you don't know what he means to me So baby, let's sell your diamond ring I got my song and I got you with me tonight Give me your tomorrow Just one more minute Or Phoenix Arizona There goes the one of my dreams \"\"\"Pay for my Cadillac?\"\"\" Even with someone they love Out in Luckenbach, Texas there ain't nobody feelin' no pain Cause therels something in a sunday So high that I could almost see eternity I guess I shouldn't say anything at all since you're supposed to belong to him. Is here you come again and here I go Four car garage and we're still building on I'd not miss my colored blouse \"I said, \"\"Well, son when you hot, you hot\"\"\" As they gently walk across the lonely floor Like I aint got nothing on And Jerry Jeff's train songs and Blue Eyes Cryin' in the Rain Or let go oh-whoa-whoa-whoa A lonely bell was ringing Now shine on me sunshine Then a man of low degree stood by her side Please don't take him just because you can Save your love through loneliness That I always thought it could be Is anybody goin' to San Antone He talks about you in his sleep \"\"\"If you wasn't wearin' that black robe I'd take out in back of this courthouse\" The work we done was hard Cause we both know that I'm not My days are all filled with an easy country charm Now please don't think I'm weak, I didn't turn the other cheek And don't it make my brown eyes I hope life, treats you kind Along with the sunshine You're messin' up my mind and fillin' up my senses Lonestar belt buckles and old faded Levi's and each night begins a new day And did I hear you say he was a-meeting you here today \"Whadda you mean 'contempt of court'?\"\"\" It's a skippidity do da day I've been walkin' these streets so long And wrap my heart 'round your little finger Following behind you Bad so I had one more for dessert Kiss an angel good morning Shine on me sunshine The good life he promised ain't what she's living today Misty taste of moonshine, teardrop in my eye His mama named him Tommy, but folks just called him yellow But some of them never learn it's a simple thing Not much left but the floor, nothing lives here anymore You gave me strength to stand alone again And the answer is in this song that I always sing Lord knows she don't understand him, but she does the best that she can And here is what I'll say \"I said \"\"Yeah?\"\"\" But I just can't let you go without telling you just how much I love you. At night we'd sleep 'cause we were tired Now tell me the truth A good-hearted woman loving her good timing man I, I will always, always love you It's early to rise, early in the sack Is here you come again, and here I go, here I go Good-bye, please don't cry \"When Tommy turned around they said, \"\"hey look, old yeller's leaving\"\"\" The joy of love that used to taste like And finally they jest threw up their hands and said So I fiddle when I can, work when I should Cowboys ain't easy to love and they're harder to hold Somewhere along the way And you know what I'm talkin' about I'll fix your lunch Riding out on a horse in a star-spangled rodeo Cowboys like smokey old pool rooms and clear mountain mornin's Well, I really don't mind the rain Would you miss your colored blouse Runnin' down a way of life Life ain't nothin' but a funny funny riddle \"\"\"Son, my life is over, but yours has just begun\"\"\" Caught the sunday smell But I could never love again And a smile can hide all the pain I would only be in your way To face the world out on my own again I can't believe it's true Don't it make my brown eyes blue That makes a body feel alone Here you come again lookin' better than a body has a right to And I shaved my face And here I go Half as lonesome as the sound Singin' the same old song And them that do sometimes won't know how to take him Delta Dawn, what's that flower you have on? And there go all my defenses Say anything but don't say goodbye And I will always love you I hear her voice, in the morning hour she calls me But you don't find roses growin' on stalks of clover You better look before you leap, still waters run deep Take me home, down country roads He was swingin Looking for a mysterious dark-haired man The torn dress, the shattered look was more than he could stand Buy some boots and faded jeans and go away Tell me no secrets, tell me some lies Taught me how to love and how to give just a little I know every crack in these dirty sidewalks of Broadway They love our milk and honey \"\"\"Promise me, son, not to do the things I've done\" And when you're not, you're not I sold my soul, you bought it back for me I don't need my name in the marquee lights My hopes my dreams come true my life I give for you Gotta go, I love you Sunday morning coming down Well if sweet-talkin' you could make it come true Would you marry me anyway My one and only prayer is that some day you'll care The only two things in life that make it worth livin' Well, now every time I rolled them dice I'd win And the beer I had for breakfast wasn't The secret I'm speaking of, is a woman & a man in love And offers comin' over the phone But when they're runnin' down our country, man Well life on the farm is kinda laid back I cried a tear, you wiped it dry Prettiest woman you ever laid eyes on In the park I saw a daddy And you were a lady There's gotta be a little rain some time And I can't believe it's you Cause she's a good-hearted woman; she loves her good timin' man \"You even called me \"\"friend\"\"\" Got us feuding like the Hatfields and McCoys My heart I can't control you lure my very soul I never was one of them money hungry fools Life is old there, older than the trees Don't know what's come over you On the road to my horizon This coat and tie is choking me Now the love that kept this old heart beating Of someone fryin chicken To take you to his mansion in the sky? \"Sometimes you gotta fight when you're a man\"\"\" With no way to hold my head \"\"\"Judge\"\"\" Little warm puppies and children and girls of the night I said I'd never say it again No one will ever know how much I love you so Well, I was borned a coal miner's daughter Has been shattered by the closing of the door Don't let 'em pick guitars or drive them old trucks He'll probably just ride away Gettin' card and letters from people I don't even know Who claims that he just don't believe in fightin' Rhinestone cowboy There goes my only possession But what would it matter \"\"\"And I'd try a little bit of your honor on\"\"\" People writing letters back home Good morning morning My daddy worked all night in the Van Lear coal mines And read the Bible by the coal oil light There goes my everything Well, when he took us inta court I couldn't believe my eyes Mamas' don't let your babies grow up to be cowboys Well, my fiddle was my daddy's till the day he died Take me home, country roads There's been a load of compromisin' If I were a carpenter A man could wake up dead My plans my hopes my schemes you are my every dream but it's only make believe \"\"\"Look like I'm gonna hafta haul you all in\" I didn't mean to treat you bad Let this song that I'm singin' be a warnin' But I'll still be just as gone In your high society you cry all day She just talks about the good times they've had and all the good times to come I was confused, you cleared my mind Between Hank Williams' pain songs and I hear people talkin' bad, Son, let me tell ya now exactly what I mean I'd play Sally Goodin all day if I could Honey, come back where you belong to only me. I wish you love One of them got up and met him halfway 'cross the floor Just may, just give me a call-you know where I am If you don't love it, leave it Sleeping under a table at a road side park That I've been pickin' And combed my hair \"(When you're hot, you're hot\"\")\" You've found someone new and And I love you will always love you She's a good-hearted woman in love with a good-timin' man Didn't know just what I had All day long in the field a hoin' corn And it took me back to something Could it be a faded rose from days gone by? The Gatlin boys just laughed at him when he walked into the barroom You gave me hope when I was at the end So that is why I'm gonna say it one more time \"I said \"\"well I'll tell ya one thing judge, old buddy, old pal\"\"\" Well, I guess that's about all I gotta say. The disappearing dreams of yesterday \"Son, you don't have to fight to be a man\"\"\" That's all I'm taking with me Just when I'm about to make it work without you Yonder comes a truck with the US mail When you take you gotta give so live and let live And nice guys get washed away like the snow and the rain \"And keep all that money for evidence\"\"\" My happiness depends on you We were poor but we had love And whatever you decide to do Wake up sleepy head What you need He's the only one for me Mama don't let your babies grow up to be cowboys Then I fumbled through my closet And standin' up for things they believe in And I hope that you have all \"n' I said \"\"Thanks a lot\"\"\" Taught me how to work and play a tune on the fiddle Country roads, take me home Don't it make my brown eyes Everyone considered him the coward of the county And I'll never leave, why should I leave? I know those bright lights are callin' ya, honey. They're walkin' on the fightin' side of me Thank you oh Lord for making him for me Younger than the mountains, blowing like a breeze Tommy opened up the door, and saw his Becky crying Wish she hadn't done me that way I hear footsteps slowly walking And turned my lies back into truth again Don't let 'em pick guitars and drive them old trucks Have a beautiful day, But they preach about some other way of livin' \"He said \"\"Well, when you're hot, you're hot\"\"\" My only prayer will be that some day you'll care for me but it's only make believe Our fightin' men have fought and died to keep And thank God you're a country boy People see us everywhere they all think you really care Don't know when I've been so blue Yeah, city folk drivin' in a black limousine You could have your choice of men I beg your pardon And I was just gettin' ready to roll 'em again Dark and dusty, painted on the sky When I was lost you took me home Twenty years of crawling was bottled up inside him Like a rhinestone cowboy And love her like the devil when you get back home And a mill wheel grinding \"\"\"I'll pay ya that hundred I owe ya if you'll get me outta this spot\"\"\" Well I woke up Sunday morning Blue Ridge Mountains, Shenandoah River In a cabin, on a hill in Butcher Holler He like the night life, the bright lights and good-timin' friends How you could easily take my man And there won't always be someone there to pull you out I never thought of ever leaving Butcher Holler The judge was a fishin' buddy that I recognized But honey now I do That's the one thing that daddy made sure of A lotta sad people thinkin' that's mighty keen In the summertime we didn't have shoes to wear I'm the happiest girl, in the whole U.S.A. It won't mean you're weak if you turn the other cheek Back to his arms and never know All you gotta do is smile that smile When Tommy left the barroom, not a Gatlin boy was standing \"Said, \"\"Live a good life and play the fiddle with pride\" It sure is cold today And there got all my defenses Than what I've been fighting at home She'd smile in mommy's understanding way To the place I belong And I can easily understand We've been so busy keepin' up with the Jones In her younger days they called her Delta Dawn That you ever dreamed of Why'd we move that bojangle clock so far away from the bed But if you ever want somebody to just love ya, and some day you He shoveled coal to make a poor man's dollar But there's one thing I want you to know With cigarettes and songs When you're hot, you're hot But you could've heard a pin drop when Tommy stopped and locked the door With ivory skin and eyes of emerald green If I should stay Anyplace is alright as long as I You waltz right in the door You can 'splain it all down at City Hall Is guitars that tune good and firm feelin' women And he took me by the hand and held me close to his side \"\"\"I promised you, Dad, not to do the things you've done\" So he gave my friends a little fine to pay With Waylon and Willie and the boys I looked after Tommy, 'cause he was my brother's son Than the last time I held you About the way they have to live here in this country With a subway token and a dollar tucked inside my shoe Gettin' cards and letters from people I don't even know Do you love waking up next to me A long time forgotten are dreams that just fell by the way There goes my reason for living The rest of us can count on bein' free Put all the money in and let's roll 'em again He ain't wrong he's just different \"He said \"\"Yeah\"\"\" I'd smoked my brain the night before And you fix mine They took turns at Becky, n'there was three of them And listened to the song Well me and Homer Jones and Big John Talley\n"
     ]
    }
   ],
   "source": [
    "tokens = lyrics.split()\n",
    "lyrics = ' '.join(tokens)\n",
    "print(lyrics)"
   ]
  },
  {
   "cell_type": "markdown",
   "metadata": {},
   "source": [
    "One final thing, when I look at the above lyrics, I seem to see a LOT of quotation marks.  So, I am going to just replace those with a space.  "
   ]
  },
  {
   "cell_type": "code",
   "execution_count": 4,
   "metadata": {},
   "outputs": [],
   "source": [
    "lyrics = lyrics.replace('\"',' ')"
   ]
  },
  {
   "cell_type": "markdown",
   "metadata": {},
   "source": [
    "Now, we can build sequences of characters that will be used to predict a final character"
   ]
  },
  {
   "cell_type": "code",
   "execution_count": 5,
   "metadata": {},
   "outputs": [],
   "source": [
    "length = 100 # Length of the characer sequences (because we have so much verbage,\n",
    "             # we can use a relatively large number)\n",
    "sequences = list()\n",
    "for i in range(length, len(lyrics)):\n",
    "    seq = lyrics[i-length:i+1]\n",
    "    sequences.append(seq)"
   ]
  },
  {
   "cell_type": "markdown",
   "metadata": {},
   "source": [
    "Create and save a .txt file of our sequences with line endings"
   ]
  },
  {
   "cell_type": "code",
   "execution_count": 6,
   "metadata": {},
   "outputs": [],
   "source": [
    "data = '\\n'.join(sequences)\n",
    "file = open('char_sequences.txt','w')\n",
    "file.write(data)\n",
    "file.close()"
   ]
  },
  {
   "cell_type": "markdown",
   "metadata": {},
   "source": [
    "Create a dictionary of character:number mappings "
   ]
  },
  {
   "cell_type": "code",
   "execution_count": 7,
   "metadata": {},
   "outputs": [],
   "source": [
    "file = open('char_sequences.txt','r')\n",
    "raw_text = file.read()\n",
    "file.close()\n",
    "\n",
    "lines = raw_text.split('\\n')\n",
    "\n",
    "chars = sorted(list(set(raw_text)))\n",
    "mapping = dict((c, i) for i, c in enumerate(chars))\n",
    "\n",
    "# Save the mapping as json \n",
    "json_map = json.dumps(mapping)\n",
    "__ = open('mapping.json','w')\n",
    "__.write(json_map)\n",
    "__.close()"
   ]
  },
  {
   "cell_type": "markdown",
   "metadata": {},
   "source": [
    "Use the dictionary to create sequences of numbers only (numbers that describe the characters)"
   ]
  },
  {
   "cell_type": "code",
   "execution_count": 8,
   "metadata": {},
   "outputs": [],
   "source": [
    "sequences = list()\n",
    "for line in lines:\n",
    "    encoded_seq = [mapping[char] for char in line]\n",
    "    sequences.append(encoded_seq)\n",
    "    \n"
   ]
  },
  {
   "cell_type": "markdown",
   "metadata": {},
   "source": [
    "Create input sets (with 99 characters) and output sets (1 character) and then one-hot code the sets so we can use them to train the model."
   ]
  },
  {
   "cell_type": "code",
   "execution_count": 9,
   "metadata": {},
   "outputs": [],
   "source": [
    "vocab_size = len(mapping)\n",
    "sequences = np.array(sequences)\n",
    "X, y = sequences[:,:-1], sequences[:,-1]\n",
    "sequences = [to_categorical(x, num_classes=vocab_size) for x in X] #one-hot code input\n",
    "X = np.array(sequences)\n",
    "y = to_categorical(y, num_classes=vocab_size) #one-hot code output"
   ]
  },
  {
   "cell_type": "markdown",
   "metadata": {},
   "source": [
    "Fit the model with tuning parameters determined by trial and error."
   ]
  },
  {
   "cell_type": "code",
   "execution_count": 10,
   "metadata": {},
   "outputs": [],
   "source": [
    "\n",
    "def countryTrain(paramUnits,paramEpochs,paramValSplit,paramShuffle,paramBatchSize,paramDropout):\n",
    "\n",
    "    #Define callbacks\n",
    "    es = keras.callbacks.EarlyStopping(monitor = 'acc',min_delta = .01, patience = 3, mode = 'max',verbose=1)\n",
    "    mc = keras.callbacks.ModelCheckpoint('model.drop_{}.best'.format(str(paramDropout)), monitor='loss', mode='min', save_best_only=True) # Keep best model\n",
    "\n",
    "\n",
    "    # define and fit model\n",
    "    model = Sequential()\n",
    "    model.add(LSTM(paramUnits, input_shape=(X.shape[1], X.shape[2])))\n",
    "    model.add(Dropout(paramDropout))\n",
    "    model.add(Dense(vocab_size, activation='softmax'))\n",
    "    model.compile(loss='categorical_crossentropy', optimizer='adam', metrics=['accuracy'])\n",
    "\n",
    "\n",
    "    modelLyrics = model.fit(X, y, epochs = paramEpochs, validation_split = paramValSplit, \n",
    "                            shuffle = paramShuffle, batch_size = paramBatchSize, verbose=1,callbacks=[es,mc])\n",
    "\n",
    "   \n",
    "    history = pd.DataFrame(modelLyrics.history)\n",
    "    history.to_csv('modelLyricsHistory_drop_{}.csv'.format(str(paramDropout)),index=False)\n",
    "\n"
   ]
  },
  {
   "cell_type": "code",
   "execution_count": 11,
   "metadata": {},
   "outputs": [
    {
     "name": "stdout",
     "output_type": "stream",
     "text": [
      "WARNING:tensorflow:From /home/ubuntu/Desktop/Projects/NLP-country-song/env/lib/python3.7/site-packages/tensorflow/python/framework/op_def_library.py:263: colocate_with (from tensorflow.python.framework.ops) is deprecated and will be removed in a future version.\n",
      "Instructions for updating:\n",
      "Colocations handled automatically by placer.\n",
      "WARNING:tensorflow:From /home/ubuntu/Desktop/Projects/NLP-country-song/env/lib/python3.7/site-packages/tensorflow/python/ops/math_ops.py:3066: to_int32 (from tensorflow.python.ops.math_ops) is deprecated and will be removed in a future version.\n",
      "Instructions for updating:\n",
      "Use tf.cast instead.\n",
      "Train on 20118 samples, validate on 2236 samples\n",
      "Epoch 1/100\n",
      "20118/20118 [==============================] - 195s 10ms/step - loss: 2.8877 - acc: 0.2321 - val_loss: 2.5098 - val_acc: 0.3108\n",
      "Epoch 2/100\n",
      "20118/20118 [==============================] - 196s 10ms/step - loss: 2.3632 - acc: 0.3427 - val_loss: 2.2894 - val_acc: 0.3614\n",
      "Epoch 3/100\n",
      "20118/20118 [==============================] - 193s 10ms/step - loss: 2.1848 - acc: 0.3829 - val_loss: 2.1500 - val_acc: 0.3940\n",
      "Epoch 4/100\n",
      "20118/20118 [==============================] - 192s 10ms/step - loss: 2.0299 - acc: 0.4170 - val_loss: 2.0249 - val_acc: 0.4141\n",
      "Epoch 5/100\n",
      "20118/20118 [==============================] - 192s 10ms/step - loss: 1.8996 - acc: 0.4484 - val_loss: 1.9466 - val_acc: 0.4369\n",
      "Epoch 6/100\n",
      "20118/20118 [==============================] - 193s 10ms/step - loss: 1.7737 - acc: 0.4832 - val_loss: 1.8777 - val_acc: 0.4589\n",
      "Epoch 7/100\n",
      "20118/20118 [==============================] - 201s 10ms/step - loss: 1.6397 - acc: 0.5159 - val_loss: 1.8564 - val_acc: 0.4736\n",
      "Epoch 8/100\n",
      "20118/20118 [==============================] - 204s 10ms/step - loss: 1.4996 - acc: 0.5576 - val_loss: 1.8618 - val_acc: 0.4700\n",
      "Epoch 9/100\n",
      "20118/20118 [==============================] - 202s 10ms/step - loss: 1.3443 - acc: 0.6022 - val_loss: 1.8752 - val_acc: 0.4696\n",
      "Epoch 10/100\n",
      "20118/20118 [==============================] - 241s 12ms/step - loss: 1.1726 - acc: 0.6554 - val_loss: 1.8996 - val_acc: 0.4669\n",
      "Epoch 11/100\n",
      "20118/20118 [==============================] - 527s 26ms/step - loss: 0.9979 - acc: 0.7037 - val_loss: 1.9892 - val_acc: 0.4638\n",
      "Epoch 12/100\n",
      "20118/20118 [==============================] - 522s 26ms/step - loss: 0.8116 - acc: 0.7616 - val_loss: 2.0256 - val_acc: 0.4700\n",
      "Epoch 13/100\n",
      "20118/20118 [==============================] - 634s 32ms/step - loss: 0.6346 - acc: 0.8193 - val_loss: 2.1334 - val_acc: 0.4665\n",
      "Epoch 14/100\n",
      "20118/20118 [==============================] - 513s 26ms/step - loss: 0.4812 - acc: 0.8716 - val_loss: 2.2939 - val_acc: 0.4660\n",
      "Epoch 15/100\n",
      "20118/20118 [==============================] - 547s 27ms/step - loss: 0.3436 - acc: 0.9175 - val_loss: 2.3911 - val_acc: 0.4651\n",
      "Epoch 16/100\n",
      "20118/20118 [==============================] - 579s 29ms/step - loss: 0.2420 - acc: 0.9507 - val_loss: 2.4795 - val_acc: 0.4620\n",
      "Epoch 17/100\n",
      "20118/20118 [==============================] - 580s 29ms/step - loss: 0.1677 - acc: 0.9716 - val_loss: 2.6264 - val_acc: 0.4620\n",
      "Epoch 18/100\n",
      "20118/20118 [==============================] - 622s 31ms/step - loss: 0.1177 - acc: 0.9812 - val_loss: 2.7666 - val_acc: 0.4593\n",
      "Epoch 19/100\n",
      "20118/20118 [==============================] - 885s 44ms/step - loss: 0.0904 - acc: 0.9874 - val_loss: 2.8106 - val_acc: 0.4562\n",
      "Epoch 20/100\n",
      "20118/20118 [==============================] - 590s 29ms/step - loss: 0.0735 - acc: 0.9897 - val_loss: 2.9119 - val_acc: 0.4553\n",
      "Epoch 21/100\n",
      "20118/20118 [==============================] - 674s 33ms/step - loss: 0.0697 - acc: 0.9892 - val_loss: 2.9511 - val_acc: 0.4517\n",
      "Epoch 22/100\n",
      "20118/20118 [==============================] - 778s 39ms/step - loss: 0.0814 - acc: 0.9853 - val_loss: 2.9403 - val_acc: 0.4535\n",
      "Epoch 00022: early stopping\n",
      "WARNING:tensorflow:From /home/ubuntu/Desktop/Projects/NLP-country-song/env/lib/python3.7/site-packages/keras/backend/tensorflow_backend.py:3144: calling dropout (from tensorflow.python.ops.nn_ops) with keep_prob is deprecated and will be removed in a future version.\n",
      "Instructions for updating:\n",
      "Please use `rate` instead of `keep_prob`. Rate should be set to `rate = 1 - keep_prob`.\n",
      "Train on 20118 samples, validate on 2236 samples\n",
      "Epoch 1/100\n",
      "20118/20118 [==============================] - 573s 28ms/step - loss: 2.9718 - acc: 0.2159 - val_loss: 2.6097 - val_acc: 0.2791\n",
      "Epoch 2/100\n",
      "20118/20118 [==============================] - 569s 28ms/step - loss: 2.4370 - acc: 0.3299 - val_loss: 2.2768 - val_acc: 0.3699\n",
      "Epoch 3/100\n",
      "20118/20118 [==============================] - 685s 34ms/step - loss: 2.2330 - acc: 0.3679 - val_loss: 2.1816 - val_acc: 0.3962\n",
      "Epoch 4/100\n",
      "20118/20118 [==============================] - 701s 35ms/step - loss: 2.1139 - acc: 0.3959 - val_loss: 2.1206 - val_acc: 0.4079\n",
      "Epoch 5/100\n",
      "20118/20118 [==============================] - 593s 29ms/step - loss: 2.0168 - acc: 0.4286 - val_loss: 2.0069 - val_acc: 0.4235\n",
      "Epoch 6/100\n",
      "20118/20118 [==============================] - 746s 37ms/step - loss: 1.8702 - acc: 0.4563 - val_loss: 1.9244 - val_acc: 0.4463\n",
      "Epoch 7/100\n",
      "20118/20118 [==============================] - 583s 29ms/step - loss: 1.7622 - acc: 0.4851 - val_loss: 1.9678 - val_acc: 0.4454\n",
      "Epoch 8/100\n",
      "20118/20118 [==============================] - 616s 31ms/step - loss: 1.6494 - acc: 0.5162 - val_loss: 1.8753 - val_acc: 0.4611\n",
      "Epoch 9/100\n",
      "20118/20118 [==============================] - 718s 36ms/step - loss: 1.5318 - acc: 0.5454 - val_loss: 1.8409 - val_acc: 0.4754\n",
      "Epoch 10/100\n",
      "20118/20118 [==============================] - 877s 44ms/step - loss: 1.3977 - acc: 0.5838 - val_loss: 1.8871 - val_acc: 0.4691\n",
      "Epoch 11/100\n",
      "20118/20118 [==============================] - 610s 30ms/step - loss: 1.2469 - acc: 0.6260 - val_loss: 1.9176 - val_acc: 0.4647\n",
      "Epoch 12/100\n",
      "20118/20118 [==============================] - 783s 39ms/step - loss: 1.0948 - acc: 0.6734 - val_loss: 1.9285 - val_acc: 0.4763\n",
      "Epoch 13/100\n",
      "20118/20118 [==============================] - 738s 37ms/step - loss: 0.9347 - acc: 0.7213 - val_loss: 2.0191 - val_acc: 0.4745\n",
      "Epoch 14/100\n",
      "20118/20118 [==============================] - 892s 44ms/step - loss: 0.7786 - acc: 0.7698 - val_loss: 2.1249 - val_acc: 0.4597\n",
      "Epoch 15/100\n",
      "20118/20118 [==============================] - 853s 42ms/step - loss: 0.6354 - acc: 0.8181 - val_loss: 2.1860 - val_acc: 0.4620\n",
      "Epoch 16/100\n",
      "20118/20118 [==============================] - 615s 31ms/step - loss: 0.5003 - acc: 0.8634 - val_loss: 2.2801 - val_acc: 0.4633\n",
      "Epoch 17/100\n",
      "20118/20118 [==============================] - 608s 30ms/step - loss: 0.3950 - acc: 0.8966 - val_loss: 2.3723 - val_acc: 0.4602\n",
      "Epoch 18/100\n",
      "20118/20118 [==============================] - 591s 29ms/step - loss: 0.2946 - acc: 0.9280 - val_loss: 2.5300 - val_acc: 0.4584\n",
      "Epoch 19/100\n",
      "20118/20118 [==============================] - 590s 29ms/step - loss: 0.2311 - acc: 0.9485 - val_loss: 2.6381 - val_acc: 0.4486\n",
      "Epoch 20/100\n",
      "20118/20118 [==============================] - 606s 30ms/step - loss: 0.1835 - acc: 0.9604 - val_loss: 2.6861 - val_acc: 0.4486\n",
      "Epoch 21/100\n",
      "20118/20118 [==============================] - 566s 28ms/step - loss: 0.1476 - acc: 0.9715 - val_loss: 2.7948 - val_acc: 0.4490\n",
      "Epoch 22/100\n",
      "20118/20118 [==============================] - 547s 27ms/step - loss: 0.1242 - acc: 0.9759 - val_loss: 2.8479 - val_acc: 0.4508\n",
      "Epoch 23/100\n",
      "20118/20118 [==============================] - 586s 29ms/step - loss: 0.1123 - acc: 0.9775 - val_loss: 2.9087 - val_acc: 0.4530\n",
      "Epoch 24/100\n",
      "20118/20118 [==============================] - 718s 36ms/step - loss: 0.0906 - acc: 0.9848 - val_loss: 2.9928 - val_acc: 0.4428\n",
      "Epoch 25/100\n",
      "20118/20118 [==============================] - 881s 44ms/step - loss: 0.0940 - acc: 0.9806 - val_loss: 3.0322 - val_acc: 0.4499\n",
      "Epoch 26/100\n",
      "20118/20118 [==============================] - 598s 30ms/step - loss: 0.1194 - acc: 0.9724 - val_loss: 3.0440 - val_acc: 0.4468\n",
      "Epoch 27/100\n",
      "20118/20118 [==============================] - 621s 31ms/step - loss: 0.1119 - acc: 0.9734 - val_loss: 3.0911 - val_acc: 0.4495\n",
      "Epoch 00027: early stopping\n",
      "Train on 20118 samples, validate on 2236 samples\n",
      "Epoch 1/100\n"
     ]
    },
    {
     "name": "stdout",
     "output_type": "stream",
     "text": [
      " 2560/20118 [==>...........................] - ETA: 5:48 - loss: 3.3081 - acc: 0.1672"
     ]
    },
    {
     "ename": "KeyboardInterrupt",
     "evalue": "",
     "output_type": "error",
     "traceback": [
      "\u001b[0;31m---------------------------------------------------------------------------\u001b[0m",
      "\u001b[0;31mKeyboardInterrupt\u001b[0m                         Traceback (most recent call last)",
      "\u001b[0;32m<ipython-input-11-abdb46860936>\u001b[0m in \u001b[0;36m<module>\u001b[0;34m\u001b[0m\n\u001b[1;32m     10\u001b[0m \u001b[0;32mfor\u001b[0m \u001b[0mi\u001b[0m \u001b[0;32min\u001b[0m \u001b[0mrange\u001b[0m\u001b[0;34m(\u001b[0m\u001b[0;36m0\u001b[0m\u001b[0;34m,\u001b[0m\u001b[0;36m6\u001b[0m\u001b[0;34m)\u001b[0m\u001b[0;34m:\u001b[0m\u001b[0;34m\u001b[0m\u001b[0;34m\u001b[0m\u001b[0m\n\u001b[1;32m     11\u001b[0m     \u001b[0md\u001b[0m \u001b[0;34m=\u001b[0m \u001b[0mi\u001b[0m\u001b[0;34m*\u001b[0m\u001b[0;36m0.1\u001b[0m\u001b[0;34m\u001b[0m\u001b[0;34m\u001b[0m\u001b[0m\n\u001b[0;32m---> 12\u001b[0;31m     \u001b[0mcountryTrain\u001b[0m\u001b[0;34m(\u001b[0m\u001b[0munits\u001b[0m\u001b[0;34m,\u001b[0m\u001b[0mepochs\u001b[0m\u001b[0;34m,\u001b[0m\u001b[0mvalidationSplit\u001b[0m\u001b[0;34m,\u001b[0m\u001b[0mshuffle\u001b[0m\u001b[0;34m,\u001b[0m\u001b[0mbatchSize\u001b[0m\u001b[0;34m,\u001b[0m\u001b[0md\u001b[0m\u001b[0;34m)\u001b[0m\u001b[0;34m\u001b[0m\u001b[0;34m\u001b[0m\u001b[0m\n\u001b[0m",
      "\u001b[0;32m<ipython-input-10-f5b72abc35de>\u001b[0m in \u001b[0;36mcountryTrain\u001b[0;34m(paramUnits, paramEpochs, paramValSplit, paramShuffle, paramBatchSize, paramDropout)\u001b[0m\n\u001b[1;32m     16\u001b[0m \u001b[0;34m\u001b[0m\u001b[0m\n\u001b[1;32m     17\u001b[0m     modelLyrics = model.fit(X, y, epochs = paramEpochs, validation_split = paramValSplit, \n\u001b[0;32m---> 18\u001b[0;31m                             shuffle = paramShuffle, batch_size = paramBatchSize, verbose=1,callbacks=[es,mc])\n\u001b[0m\u001b[1;32m     19\u001b[0m \u001b[0;34m\u001b[0m\u001b[0m\n\u001b[1;32m     20\u001b[0m \u001b[0;34m\u001b[0m\u001b[0m\n",
      "\u001b[0;32m~/Desktop/Projects/NLP-country-song/env/lib/python3.7/site-packages/keras/models.py\u001b[0m in \u001b[0;36mfit\u001b[0;34m(self, x, y, batch_size, epochs, verbose, callbacks, validation_split, validation_data, shuffle, class_weight, sample_weight, initial_epoch, steps_per_epoch, validation_steps, **kwargs)\u001b[0m\n\u001b[1;32m   1000\u001b[0m                               \u001b[0minitial_epoch\u001b[0m\u001b[0;34m=\u001b[0m\u001b[0minitial_epoch\u001b[0m\u001b[0;34m,\u001b[0m\u001b[0;34m\u001b[0m\u001b[0;34m\u001b[0m\u001b[0m\n\u001b[1;32m   1001\u001b[0m                               \u001b[0msteps_per_epoch\u001b[0m\u001b[0;34m=\u001b[0m\u001b[0msteps_per_epoch\u001b[0m\u001b[0;34m,\u001b[0m\u001b[0;34m\u001b[0m\u001b[0;34m\u001b[0m\u001b[0m\n\u001b[0;32m-> 1002\u001b[0;31m                               validation_steps=validation_steps)\n\u001b[0m\u001b[1;32m   1003\u001b[0m \u001b[0;34m\u001b[0m\u001b[0m\n\u001b[1;32m   1004\u001b[0m     def evaluate(self, x=None, y=None,\n",
      "\u001b[0;32m~/Desktop/Projects/NLP-country-song/env/lib/python3.7/site-packages/keras/engine/training.py\u001b[0m in \u001b[0;36mfit\u001b[0;34m(self, x, y, batch_size, epochs, verbose, callbacks, validation_split, validation_data, shuffle, class_weight, sample_weight, initial_epoch, steps_per_epoch, validation_steps, **kwargs)\u001b[0m\n\u001b[1;32m   1703\u001b[0m                               \u001b[0minitial_epoch\u001b[0m\u001b[0;34m=\u001b[0m\u001b[0minitial_epoch\u001b[0m\u001b[0;34m,\u001b[0m\u001b[0;34m\u001b[0m\u001b[0;34m\u001b[0m\u001b[0m\n\u001b[1;32m   1704\u001b[0m                               \u001b[0msteps_per_epoch\u001b[0m\u001b[0;34m=\u001b[0m\u001b[0msteps_per_epoch\u001b[0m\u001b[0;34m,\u001b[0m\u001b[0;34m\u001b[0m\u001b[0;34m\u001b[0m\u001b[0m\n\u001b[0;32m-> 1705\u001b[0;31m                               validation_steps=validation_steps)\n\u001b[0m\u001b[1;32m   1706\u001b[0m \u001b[0;34m\u001b[0m\u001b[0m\n\u001b[1;32m   1707\u001b[0m     def evaluate(self, x=None, y=None,\n",
      "\u001b[0;32m~/Desktop/Projects/NLP-country-song/env/lib/python3.7/site-packages/keras/engine/training.py\u001b[0m in \u001b[0;36m_fit_loop\u001b[0;34m(self, f, ins, out_labels, batch_size, epochs, verbose, callbacks, val_f, val_ins, shuffle, callback_metrics, initial_epoch, steps_per_epoch, validation_steps)\u001b[0m\n\u001b[1;32m   1234\u001b[0m                         \u001b[0mins_batch\u001b[0m\u001b[0;34m[\u001b[0m\u001b[0mi\u001b[0m\u001b[0;34m]\u001b[0m \u001b[0;34m=\u001b[0m \u001b[0mins_batch\u001b[0m\u001b[0;34m[\u001b[0m\u001b[0mi\u001b[0m\u001b[0;34m]\u001b[0m\u001b[0;34m.\u001b[0m\u001b[0mtoarray\u001b[0m\u001b[0;34m(\u001b[0m\u001b[0;34m)\u001b[0m\u001b[0;34m\u001b[0m\u001b[0;34m\u001b[0m\u001b[0m\n\u001b[1;32m   1235\u001b[0m \u001b[0;34m\u001b[0m\u001b[0m\n\u001b[0;32m-> 1236\u001b[0;31m                     \u001b[0mouts\u001b[0m \u001b[0;34m=\u001b[0m \u001b[0mf\u001b[0m\u001b[0;34m(\u001b[0m\u001b[0mins_batch\u001b[0m\u001b[0;34m)\u001b[0m\u001b[0;34m\u001b[0m\u001b[0;34m\u001b[0m\u001b[0m\n\u001b[0m\u001b[1;32m   1237\u001b[0m                     \u001b[0;32mif\u001b[0m \u001b[0;32mnot\u001b[0m \u001b[0misinstance\u001b[0m\u001b[0;34m(\u001b[0m\u001b[0mouts\u001b[0m\u001b[0;34m,\u001b[0m \u001b[0mlist\u001b[0m\u001b[0;34m)\u001b[0m\u001b[0;34m:\u001b[0m\u001b[0;34m\u001b[0m\u001b[0;34m\u001b[0m\u001b[0m\n\u001b[1;32m   1238\u001b[0m                         \u001b[0mouts\u001b[0m \u001b[0;34m=\u001b[0m \u001b[0;34m[\u001b[0m\u001b[0mouts\u001b[0m\u001b[0;34m]\u001b[0m\u001b[0;34m\u001b[0m\u001b[0;34m\u001b[0m\u001b[0m\n",
      "\u001b[0;32m~/Desktop/Projects/NLP-country-song/env/lib/python3.7/site-packages/keras/backend/tensorflow_backend.py\u001b[0m in \u001b[0;36m__call__\u001b[0;34m(self, inputs)\u001b[0m\n\u001b[1;32m   2480\u001b[0m         \u001b[0msession\u001b[0m \u001b[0;34m=\u001b[0m \u001b[0mget_session\u001b[0m\u001b[0;34m(\u001b[0m\u001b[0;34m)\u001b[0m\u001b[0;34m\u001b[0m\u001b[0;34m\u001b[0m\u001b[0m\n\u001b[1;32m   2481\u001b[0m         updated = session.run(fetches=fetches, feed_dict=feed_dict,\n\u001b[0;32m-> 2482\u001b[0;31m                               **self.session_kwargs)\n\u001b[0m\u001b[1;32m   2483\u001b[0m         \u001b[0;32mreturn\u001b[0m \u001b[0mupdated\u001b[0m\u001b[0;34m[\u001b[0m\u001b[0;34m:\u001b[0m\u001b[0mlen\u001b[0m\u001b[0;34m(\u001b[0m\u001b[0mself\u001b[0m\u001b[0;34m.\u001b[0m\u001b[0moutputs\u001b[0m\u001b[0;34m)\u001b[0m\u001b[0;34m]\u001b[0m\u001b[0;34m\u001b[0m\u001b[0;34m\u001b[0m\u001b[0m\n\u001b[1;32m   2484\u001b[0m \u001b[0;34m\u001b[0m\u001b[0m\n",
      "\u001b[0;32m~/Desktop/Projects/NLP-country-song/env/lib/python3.7/site-packages/tensorflow/python/client/session.py\u001b[0m in \u001b[0;36mrun\u001b[0;34m(self, fetches, feed_dict, options, run_metadata)\u001b[0m\n\u001b[1;32m    927\u001b[0m     \u001b[0;32mtry\u001b[0m\u001b[0;34m:\u001b[0m\u001b[0;34m\u001b[0m\u001b[0;34m\u001b[0m\u001b[0m\n\u001b[1;32m    928\u001b[0m       result = self._run(None, fetches, feed_dict, options_ptr,\n\u001b[0;32m--> 929\u001b[0;31m                          run_metadata_ptr)\n\u001b[0m\u001b[1;32m    930\u001b[0m       \u001b[0;32mif\u001b[0m \u001b[0mrun_metadata\u001b[0m\u001b[0;34m:\u001b[0m\u001b[0;34m\u001b[0m\u001b[0;34m\u001b[0m\u001b[0m\n\u001b[1;32m    931\u001b[0m         \u001b[0mproto_data\u001b[0m \u001b[0;34m=\u001b[0m \u001b[0mtf_session\u001b[0m\u001b[0;34m.\u001b[0m\u001b[0mTF_GetBuffer\u001b[0m\u001b[0;34m(\u001b[0m\u001b[0mrun_metadata_ptr\u001b[0m\u001b[0;34m)\u001b[0m\u001b[0;34m\u001b[0m\u001b[0;34m\u001b[0m\u001b[0m\n",
      "\u001b[0;32m~/Desktop/Projects/NLP-country-song/env/lib/python3.7/site-packages/tensorflow/python/client/session.py\u001b[0m in \u001b[0;36m_run\u001b[0;34m(self, handle, fetches, feed_dict, options, run_metadata)\u001b[0m\n\u001b[1;32m   1150\u001b[0m     \u001b[0;32mif\u001b[0m \u001b[0mfinal_fetches\u001b[0m \u001b[0;32mor\u001b[0m \u001b[0mfinal_targets\u001b[0m \u001b[0;32mor\u001b[0m \u001b[0;34m(\u001b[0m\u001b[0mhandle\u001b[0m \u001b[0;32mand\u001b[0m \u001b[0mfeed_dict_tensor\u001b[0m\u001b[0;34m)\u001b[0m\u001b[0;34m:\u001b[0m\u001b[0;34m\u001b[0m\u001b[0;34m\u001b[0m\u001b[0m\n\u001b[1;32m   1151\u001b[0m       results = self._do_run(handle, final_targets, final_fetches,\n\u001b[0;32m-> 1152\u001b[0;31m                              feed_dict_tensor, options, run_metadata)\n\u001b[0m\u001b[1;32m   1153\u001b[0m     \u001b[0;32melse\u001b[0m\u001b[0;34m:\u001b[0m\u001b[0;34m\u001b[0m\u001b[0;34m\u001b[0m\u001b[0m\n\u001b[1;32m   1154\u001b[0m       \u001b[0mresults\u001b[0m \u001b[0;34m=\u001b[0m \u001b[0;34m[\u001b[0m\u001b[0;34m]\u001b[0m\u001b[0;34m\u001b[0m\u001b[0;34m\u001b[0m\u001b[0m\n",
      "\u001b[0;32m~/Desktop/Projects/NLP-country-song/env/lib/python3.7/site-packages/tensorflow/python/client/session.py\u001b[0m in \u001b[0;36m_do_run\u001b[0;34m(self, handle, target_list, fetch_list, feed_dict, options, run_metadata)\u001b[0m\n\u001b[1;32m   1326\u001b[0m     \u001b[0;32mif\u001b[0m \u001b[0mhandle\u001b[0m \u001b[0;32mis\u001b[0m \u001b[0;32mNone\u001b[0m\u001b[0;34m:\u001b[0m\u001b[0;34m\u001b[0m\u001b[0;34m\u001b[0m\u001b[0m\n\u001b[1;32m   1327\u001b[0m       return self._do_call(_run_fn, feeds, fetches, targets, options,\n\u001b[0;32m-> 1328\u001b[0;31m                            run_metadata)\n\u001b[0m\u001b[1;32m   1329\u001b[0m     \u001b[0;32melse\u001b[0m\u001b[0;34m:\u001b[0m\u001b[0;34m\u001b[0m\u001b[0;34m\u001b[0m\u001b[0m\n\u001b[1;32m   1330\u001b[0m       \u001b[0;32mreturn\u001b[0m \u001b[0mself\u001b[0m\u001b[0;34m.\u001b[0m\u001b[0m_do_call\u001b[0m\u001b[0;34m(\u001b[0m\u001b[0m_prun_fn\u001b[0m\u001b[0;34m,\u001b[0m \u001b[0mhandle\u001b[0m\u001b[0;34m,\u001b[0m \u001b[0mfeeds\u001b[0m\u001b[0;34m,\u001b[0m \u001b[0mfetches\u001b[0m\u001b[0;34m)\u001b[0m\u001b[0;34m\u001b[0m\u001b[0;34m\u001b[0m\u001b[0m\n",
      "\u001b[0;32m~/Desktop/Projects/NLP-country-song/env/lib/python3.7/site-packages/tensorflow/python/client/session.py\u001b[0m in \u001b[0;36m_do_call\u001b[0;34m(self, fn, *args)\u001b[0m\n\u001b[1;32m   1332\u001b[0m   \u001b[0;32mdef\u001b[0m \u001b[0m_do_call\u001b[0m\u001b[0;34m(\u001b[0m\u001b[0mself\u001b[0m\u001b[0;34m,\u001b[0m \u001b[0mfn\u001b[0m\u001b[0;34m,\u001b[0m \u001b[0;34m*\u001b[0m\u001b[0margs\u001b[0m\u001b[0;34m)\u001b[0m\u001b[0;34m:\u001b[0m\u001b[0;34m\u001b[0m\u001b[0;34m\u001b[0m\u001b[0m\n\u001b[1;32m   1333\u001b[0m     \u001b[0;32mtry\u001b[0m\u001b[0;34m:\u001b[0m\u001b[0;34m\u001b[0m\u001b[0;34m\u001b[0m\u001b[0m\n\u001b[0;32m-> 1334\u001b[0;31m       \u001b[0;32mreturn\u001b[0m \u001b[0mfn\u001b[0m\u001b[0;34m(\u001b[0m\u001b[0;34m*\u001b[0m\u001b[0margs\u001b[0m\u001b[0;34m)\u001b[0m\u001b[0;34m\u001b[0m\u001b[0;34m\u001b[0m\u001b[0m\n\u001b[0m\u001b[1;32m   1335\u001b[0m     \u001b[0;32mexcept\u001b[0m \u001b[0merrors\u001b[0m\u001b[0;34m.\u001b[0m\u001b[0mOpError\u001b[0m \u001b[0;32mas\u001b[0m \u001b[0me\u001b[0m\u001b[0;34m:\u001b[0m\u001b[0;34m\u001b[0m\u001b[0;34m\u001b[0m\u001b[0m\n\u001b[1;32m   1336\u001b[0m       \u001b[0mmessage\u001b[0m \u001b[0;34m=\u001b[0m \u001b[0mcompat\u001b[0m\u001b[0;34m.\u001b[0m\u001b[0mas_text\u001b[0m\u001b[0;34m(\u001b[0m\u001b[0me\u001b[0m\u001b[0;34m.\u001b[0m\u001b[0mmessage\u001b[0m\u001b[0;34m)\u001b[0m\u001b[0;34m\u001b[0m\u001b[0;34m\u001b[0m\u001b[0m\n",
      "\u001b[0;32m~/Desktop/Projects/NLP-country-song/env/lib/python3.7/site-packages/tensorflow/python/client/session.py\u001b[0m in \u001b[0;36m_run_fn\u001b[0;34m(feed_dict, fetch_list, target_list, options, run_metadata)\u001b[0m\n\u001b[1;32m   1317\u001b[0m       \u001b[0mself\u001b[0m\u001b[0;34m.\u001b[0m\u001b[0m_extend_graph\u001b[0m\u001b[0;34m(\u001b[0m\u001b[0;34m)\u001b[0m\u001b[0;34m\u001b[0m\u001b[0;34m\u001b[0m\u001b[0m\n\u001b[1;32m   1318\u001b[0m       return self._call_tf_sessionrun(\n\u001b[0;32m-> 1319\u001b[0;31m           options, feed_dict, fetch_list, target_list, run_metadata)\n\u001b[0m\u001b[1;32m   1320\u001b[0m \u001b[0;34m\u001b[0m\u001b[0m\n\u001b[1;32m   1321\u001b[0m     \u001b[0;32mdef\u001b[0m \u001b[0m_prun_fn\u001b[0m\u001b[0;34m(\u001b[0m\u001b[0mhandle\u001b[0m\u001b[0;34m,\u001b[0m \u001b[0mfeed_dict\u001b[0m\u001b[0;34m,\u001b[0m \u001b[0mfetch_list\u001b[0m\u001b[0;34m)\u001b[0m\u001b[0;34m:\u001b[0m\u001b[0;34m\u001b[0m\u001b[0;34m\u001b[0m\u001b[0m\n",
      "\u001b[0;32m~/Desktop/Projects/NLP-country-song/env/lib/python3.7/site-packages/tensorflow/python/client/session.py\u001b[0m in \u001b[0;36m_call_tf_sessionrun\u001b[0;34m(self, options, feed_dict, fetch_list, target_list, run_metadata)\u001b[0m\n\u001b[1;32m   1405\u001b[0m     return tf_session.TF_SessionRun_wrapper(\n\u001b[1;32m   1406\u001b[0m         \u001b[0mself\u001b[0m\u001b[0;34m.\u001b[0m\u001b[0m_session\u001b[0m\u001b[0;34m,\u001b[0m \u001b[0moptions\u001b[0m\u001b[0;34m,\u001b[0m \u001b[0mfeed_dict\u001b[0m\u001b[0;34m,\u001b[0m \u001b[0mfetch_list\u001b[0m\u001b[0;34m,\u001b[0m \u001b[0mtarget_list\u001b[0m\u001b[0;34m,\u001b[0m\u001b[0;34m\u001b[0m\u001b[0;34m\u001b[0m\u001b[0m\n\u001b[0;32m-> 1407\u001b[0;31m         run_metadata)\n\u001b[0m\u001b[1;32m   1408\u001b[0m \u001b[0;34m\u001b[0m\u001b[0m\n\u001b[1;32m   1409\u001b[0m   \u001b[0;32mdef\u001b[0m \u001b[0m_call_tf_sessionprun\u001b[0m\u001b[0;34m(\u001b[0m\u001b[0mself\u001b[0m\u001b[0;34m,\u001b[0m \u001b[0mhandle\u001b[0m\u001b[0;34m,\u001b[0m \u001b[0mfeed_dict\u001b[0m\u001b[0;34m,\u001b[0m \u001b[0mfetch_list\u001b[0m\u001b[0;34m)\u001b[0m\u001b[0;34m:\u001b[0m\u001b[0;34m\u001b[0m\u001b[0;34m\u001b[0m\u001b[0m\n",
      "\u001b[0;31mKeyboardInterrupt\u001b[0m: "
     ]
    }
   ],
   "source": [
    "#Define parameters  -\n",
    "units = 512  # From the mentioned article in data science\n",
    "epochs = 100  # Just a large number since I am using early stopping\n",
    "validationSplit = 0.1 # My data set is small so I want to use as much as possible to train vs. validate\n",
    "shuffle = True\n",
    "batchSize = 64 # Doubled the default batch size to speed up training\n",
    "dropOut = .5  # http://papers.nips.cc/paper/4878-understanding-dropout.pdf\n",
    "\n",
    "\n",
    "for i in range(0,6):\n",
    "    d = i*0.1\n",
    "    countryTrain(units,epochs,validationSplit,shuffle,batchSize,d)"
   ]
  },
  {
   "cell_type": "code",
   "execution_count": null,
   "metadata": {},
   "outputs": [],
   "source": [
    "# store history"
   ]
  },
  {
   "cell_type": "code",
   "execution_count": null,
   "metadata": {},
   "outputs": [],
   "source": []
  },
  {
   "cell_type": "markdown",
   "metadata": {},
   "source": [
    "Create a function that encodes a kickoff text string and then plugs it into our trained model"
   ]
  },
  {
   "cell_type": "markdown",
   "metadata": {},
   "source": [
    "# generate a sequence of characters with a language model\n",
    "def generate_seq(model, mapping, seq_length, seed_lyric, n_chars):\n",
    "    lyrics = seed_lyric\n",
    "    for __ in range(n_chars):\n",
    "    # encode the characters as integers\n",
    "        encoded = [mapping[char] for char in lyrics]\n",
    "    # truncate sequences to a fixed length\n",
    "        encoded = pad_sequences([encoded], maxlen=seq_length, truncating='pre')\n",
    "    # one hot encode\n",
    "        encoded = to_categorical(encoded, num_classes=len(mapping))\n",
    "    # predict character\n",
    "        yhat = model.predict_classes(encoded, verbose=0)\n",
    "    # reverse map integer to character\n",
    "        out_char = ''\n",
    "        for char, index in mapping.items():\n",
    "            if index == yhat:\n",
    "                out_char = char\n",
    "                break\n",
    "    # append to input\n",
    "        lyrics += char\n",
    "    return lyrics"
   ]
  },
  {
   "cell_type": "markdown",
   "metadata": {},
   "source": [
    "Is there a song other than Stairway to Heaven that I could have used for the kickoff sequence?"
   ]
  },
  {
   "cell_type": "markdown",
   "metadata": {},
   "source": [
    "startLyrics = \"As I walk through the valley of the shadow of death I take a look at my life and realize there's not\""
   ]
  },
  {
   "cell_type": "markdown",
   "metadata": {},
   "source": [
    "Run the model and print the lyrics"
   ]
  },
  {
   "cell_type": "markdown",
   "metadata": {},
   "source": [
    "model = load_model('model_5_31.best')\n",
    "lyricsFinal = generate_seq(model,mapping,length,startLyrics,1000)\n",
    "print(lyricsFinal)"
   ]
  },
  {
   "cell_type": "markdown",
   "metadata": {},
   "source": [
    "df = pd.read_json('modelLyricsHistory.json')"
   ]
  },
  {
   "cell_type": "markdown",
   "metadata": {},
   "source": [
    "df"
   ]
  }
 ],
 "metadata": {
  "kernelspec": {
   "display_name": "NLP-country-song",
   "language": "python",
   "name": "nlp-country-song"
  },
  "language_info": {
   "codemirror_mode": {
    "name": "ipython",
    "version": 3
   },
   "file_extension": ".py",
   "mimetype": "text/x-python",
   "name": "python",
   "nbconvert_exporter": "python",
   "pygments_lexer": "ipython3",
   "version": "3.7.1"
  }
 },
 "nbformat": 4,
 "nbformat_minor": 2
}
