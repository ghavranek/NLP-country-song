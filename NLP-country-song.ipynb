{
 "cells": [
  {
   "cell_type": "markdown",
   "metadata": {},
   "source": [
    "<span style=\"font-size: 2em; font-weight:bold\">AI 70's Country</span>"
   ]
  },
  {
   "cell_type": "code",
   "execution_count": 1,
   "metadata": {},
   "outputs": [
    {
     "name": "stderr",
     "output_type": "stream",
     "text": [
      "Using TensorFlow backend.\n"
     ]
    },
    {
     "data": {
      "text/html": [
       "        <script type=\"text/javascript\">\n",
       "        window.PlotlyConfig = {MathJaxConfig: 'local'};\n",
       "        if (window.MathJax) {MathJax.Hub.Config({SVG: {font: \"STIX-Web\"}});}\n",
       "        if (typeof require !== 'undefined') {\n",
       "        require.undef(\"plotly\");\n",
       "        requirejs.config({\n",
       "            paths: {\n",
       "                'plotly': ['https://cdn.plot.ly/plotly-latest.min']\n",
       "            }\n",
       "        });\n",
       "        require(['plotly'], function(Plotly) {\n",
       "            window._Plotly = Plotly;\n",
       "        });\n",
       "        }\n",
       "        </script>\n",
       "        "
      ]
     },
     "metadata": {},
     "output_type": "display_data"
    }
   ],
   "source": [
    "import warnings\n",
    "warnings.filterwarnings('ignore')\n",
    "\n",
    "import scipy\n",
    "import numpy as np\n",
    "import matplotlib\n",
    "import pandas as pd\n",
    "import statsmodels\n",
    "import sklearn\n",
    "import tensorflow\n",
    "import keras\n",
    "\n",
    "from keras.models import Sequential, load_model\n",
    "from keras.layers import Dense,LSTM\n",
    "from keras.utils import to_categorical\n",
    "from keras.preprocessing.sequence import pad_sequences\n",
    "from keras.callbacks import History\n",
    "import string\n",
    "import pyarrow as pa\n",
    "\n",
    "\n",
    "import plotly.graph_objs as go\n",
    "import plotly\n",
    "from plotly.offline import plot, iplot, init_notebook_mode\n",
    "init_notebook_mode(connected = True)\n",
    "import plotly.offline as offline\n",
    "from plotly import tools\n",
    "\n",
    "import json"
   ]
  },
  {
   "cell_type": "markdown",
   "metadata": {},
   "source": [
    "As always, data prep is the hardest part of the project.  Because I am going to use a validation set in training my model, and because Keras uses the last n% of the data as the validation set, I want to shuffle the lyrics so that my validation set contains a better representation of all the data - not just the last song.  I also want to get the most originality that I can out of the model, so I will eliminate duplicate lyrics (some songs have refrains that repeat multiple times).  "
   ]
  },
  {
   "cell_type": "code",
   "execution_count": 2,
   "metadata": {},
   "outputs": [],
   "source": [
    "lyricsCSV = pd.read_csv('lyricsTrain.csv',encoding='ISO-8859-1')\n",
    "lyricsCSV.sort_values(lyricsCSV.columns[0],inplace=True)\n",
    "lyricsCSV.drop_duplicates(keep='first',inplace=True)\n",
    "lyricsCSV = lyricsCSV.sample(frac=1)\n",
    "\n",
    "\n",
    "\n",
    "lyricsCSV.to_csv('lyrics.txt',sep='\\t',index=False)\n",
    "l = open('lyrics.txt','r')\n",
    "lyrics = l.read()\n",
    "l.close()"
   ]
  },
  {
   "cell_type": "markdown",
   "metadata": {},
   "source": [
    "Remove lines and print"
   ]
  },
  {
   "cell_type": "code",
   "execution_count": 3,
   "metadata": {},
   "outputs": [
    {
     "name": "stdout",
     "output_type": "stream",
     "text": [
      "I beg your pardon Or let go oh-whoa-whoa-whoa Now you be careful And here I am'a walking down sixty-six I'll just cry all night long Except I can't sleep Do these old shoes look funny Walk away from trouble if you can Where you belong to only me. \"I said \"\"Hey, judge, old buddy, old pal\"\"\" When ever I chance to meet, some old friends on the street And held me up and gave me dignity All you gotta do is smile that smile Of someone fryin chicken Yeah, city folk drivin' in a black limousine Honey, I know I've said it too many times before We were poor but we had love Lay it soft upon my skin And them that do sometimes won't know how to take him Please don't take him just because you can But when he lo-oves me, he really lo-oves me Thinking over things I wish I'd said (ooh-ooh) I'd rather wonder a little and have his lovin' They been walking thirty miles Give me your tomorrow But if you ever want somebody to just love ya, and some day you I don't care what's right or wrong I can't believe it's true Just to know means so much to me There'll be a load of compromisin' While she lays sleeping, I stay out late at night and play my songs Go out and find herself And who knows, maybe, on some special night, if my song is right Oh there goes my everything Like your imitation love for me And each step brings you closer And you fix mine Love shouldn't be so melancholy There goes my everything You're just as lovely \"\"\"And I'd try a little bit of your honor on\"\"\" I sold my soul, you bought it back for me But his pride won't let him do things to make you think he's right Jolene Honey it's almost nine But they're only imitation Good morning morning And I'm so sorry And found my cleanest dirty shirt I'll be fine when you're gone Daddy always managed to get the money somewhere \"He said \"\"Yeah\"\"\" \"Said, \"\"Live a good life and play the fiddle with pride\" Shake it loose and let it fall Or I could ask what I really want to know \"Sometimes you gotta fight when you're a man\"\"\" And tomorrow's out of sight Sunday morning coming down I said I'd never say it again He'd never stood one single time to prove the county wrong Then I see my old guitar in the night Wonderin' if my man's been doin' me wrong And promised her he'd take her for his bride The only two things in life that make it worth livin' Hello sunshine (La la la la la la la) (La la la la la) Just like you've done before My hopes my dreams come true my one and only you Then I fumbled through my closet The work we done was hard Out in Luckenbach, Texas there ain't nobody feelin' no pain A doctor and a lawyer man And the beer I had for breakfast wasn't \"He said, \"\"this one's for Becky, as he watched the last one fall\" Would you marry me anyway But they preach about some other way of livin' Our fightin' men have fought and died to keep But you're down when you're ridin' the train that's takin' the long way Jolene, Jolene, Jolene, Jolene If I worked my hands on wood I'm doin' alright In the park I saw a daddy You gave me strength to stand alone again \"When Tommy turned around they said, \"\"hey look, old yeller's leaving\"\"\" \"\"\"When you hot, you hot\"\"\" I know those bright lights are callin' ya, honey. Do you love waking up next to me And I stopped beside the Sunday school Make up her mind between Here you come again lookin' better than a body has a right to Don't let 'em pick guitars or drive them old trucks From crying when he calls your name Thank you darlin' I'm happiest girl, in the whole U.S.A And when you're not, you're not Honey, come back Thinking over things I wish I'd said (fade) Mommy scrubbed our clothes on a washboard ever' day In a wrestling match to get His hand led hers away In her arms, he didn't have to prove he was a man Just waiting for me like a secret friend, and there's no end To the place I belong Getting cards and letters from people I don't even know Mommy rocked the babies at night If a tinker was my trade Paper roses, paper roses, So I fiddle when I can, work when I should Taught me how to work and play a tune on the fiddle And so I'll go, but I know That I should have been home yesterday, yesterday Bitter-sweet memories But myself I can't deceive I know it's only make believe Have a beautiful day, When the work's all done and the sun's settlin' low I never thought of ever leaving Butcher Holler I turned around and there was a big old cop Comeback darlin' That's all I'm taking with me It was almost like a song And ever' thing would start all over come break of morn Here you come again and here I go Miner's lady, stranger to blue water Would you treat me like the devil tonight I will find a way Well a lot of things have changed since a way back then Tomorrow she'll probably want me back Is here you come again, and here I go, here I go Not much left but the floor, nothing lives here anymore \"Whadda you mean 'contempt of court'?\"\"\" Back when ever since the world began In route to L.A. to get Somehow you needed me That's why we moved it He'll probably just ride away Tell me no secrets, tell me some lies \"And I come to her and say, \"\"it was all right, \"\" and I hold her tight\" And if you should ever And I wish you happiness I'm sleeping single in a double bed Another sleepless night and it's the same old stor-ory Shedding tears for And combed my hair Would you have my baby? Sometimes when he comes home I'm cookin' breakfast Save your love through loneliness I won't try to understand He talks about you in his sleep I remember well, the well where I drew water Where hustle's the name of the game She'd smile in mommy's understanding way Your smile is like a breath of spring My heart I can't control you lure my very soul If you want your job you'd better I will always love you While she lays, while she waits for me And I were a lady I pull out my fiddle and I rosin up the bow With no way to hold my head Til the early mornin' light What you need And read the Bible by the coal oil light Or Phoenix Arizona So he gave my friends a little fine to pay My only prayer will be some day you'll care for me but it's only make believe But like a big red rose that's made of paper Life ain't nothin' but a funny funny riddle Been a whole lot a good women That makes a body feel alone Now my broken heart This successful life we're livin' She loves him in spite of his ways that she don't understand I jest kept on rollin' and controllin' them bones I'd just as soon let you go Back to his arms and never know Somewhere along the way And stumbled down the stairs And you came to me Thinking over things I wish I'd said \"\"\"Judge\"\"\" And gripin' 'bout the way things oughta be So I'm just gonna take my bags and I'm gonna walk. Sleeping single in a double bed (ooh-oo-ooh) But if that's what it takes to hold you Yesterday is dead and gone Has been shattered by the closing of the door Anyplace is alright as long as I One more hug would do And a voice is softly saying Gettin' cards and letters from people I don't even know Hello darlin' Honey, come back where you belong to only me. Someone comes along He wasn't holding nothin' back, he let 'em have it all Wind whipping down the neck of my shirt And wrap my heart 'round your little finger And I shaved my face \"\"\"Ninety days, Jerry, when you hot, you hot\"\"\" I hear her voice, in the morning hour she calls me I never promised you a rose garden \"And quietly she says \"\"how was your night?\"\"\" I told her someday if she was my girl, I could change the world He was only ten years old when his daddy died in prison \"I said, \"\"Well, son when you hot, you hot\"\"\" I looked after Tommy, 'cause he was my brother's son Let the devil take tomorrow Rhinestone cowboy So if I said you had a beautiful body If I swore you were an angel, The kids are asleep so I keep it kinda low You've got to kiss an angel good morning \"He said, \"\"Come on out and say what's on your mind\"\"\" Well I got me a fine wife I got me an ole fiddle Didn't know just what I had A lonely bell was ringing Well, now every time I rolled them dice I'd win But I'd rather fight the wind and rain Oh when he lo-oves me, he really lo-oves me Delta Dawn, what's that flower you have on? Maybe it's time we got back to the basics of love Til the sunlight has touched your face Got a whole lot a good woman Tossing, turning, trying to forget (you-ou) Well I wouldn't trade my life for diamonds and jewels And I kept rollin' them sevens , winnin' all them pots It's too sad to write As my memory turns back the pages Life is old there, older than the trees Harpin' on the wars we fight I guess I shouldn't say anything at all since you're supposed to belong to him. As the tears fell on his daddy's face, he heard these words again He loved me all the way-ay And I was just gettin' ready to roll 'em again And whatever you decide to do They took turns at Becky, n'there was three of them \"You even called me \"\"friend\"\"\" Wake up sleepy head Bad so I had one more for dessert And every time they ask me why I just smile & say And turned my lies back into truth again I needed you and you were there Now the love that kept this old heart beating And I wonder just how long But you don't know what he means to me The district attorney said you better A long time forgotten are dreams that just fell by the way There's been a load of compromisin' Well, I guess that's about all I gotta say. Who claims that he just don't believe in fightin' I could sing you a tune and promise you the moon My luck was so good I could do no wrong My only prayer will be that some day you'll care for me but it's only make believe Then a man of low degree stood by her side I still recall the final words my brother said to Tommy January through December And somewhere far away Tossing, turning, trying to forget (ahh-ah) I read about some squirrelly guy Taught me how to love and how to give just a little Big fine cars and fancy clothes. And I cannot compete with you My one and only prayer is that some day you'll care And it's sad to be alone I realise the way your eyes deceive me With cigarettes and songs A brown eyed handsome man Then I headed back for home I cried a tear, you wiped it dry It won't mean you're weak if you turn the other cheek With flaming locks of auburn hair I've been layin' in bed thinkin' like a woman Wish she hadn't done me that way My heart or wedding ring my all my everything Cross the sand Just for old time's sake There isn't any sweetness in your heart And it echoed thru the canyon like I walk away from trouble when I can Milo Venus was a beautiful lass When I heard somethin' behind me I got to try to find a way Your love for her grew While she lays waiting, I stumble to the kitchen for a bite But she lost both her arms I thought that you would be a perfect lover He let my friends go free and throwed the book at me But she has faith in me, and so I go on trying faithfully With ivory skin and eyes of emerald green You're hot And thank you for letting life turn out the way Honey, come back I just can't stand She had the world \"I said \"\"well I'll tell ya one thing judge, old buddy, old pal\"\"\" Then the flame became a dying ember Let me kiss you I could by lying with you instead Each lonely day's a little bit longer I hear people talkin' bad, Is guitars that tune good and firm feelin' women And who knows maybe on some special night, if my song is right And I dream of the things I'll do Let's go to Luckenbach, Texas And I'll never leave, why should I leave? I'll fix your lunch I'm begging of you please don't take my man I wish you love Lord knows she don't understand him, but she does the best that she can You've found someone new and I'd be a fool 'cause I finally found someone who really cares And there's nothing I can do to keep She left you here drowning in your tears, here I can see the happy years we've had before All my memories gather round her There's nothin' left for me to say-ay Why I've seen her fingers bleed Cries for you each night But I could never love again We've been so busy keepin' up with the Jones I got to go now Are you happy? And standin' up for things they believe in Cause there's something in a sunday Oh how real those roses seem to me As much as I love waking up next to you Riding out on a horse in a star-spangled rodeo To lose these memories Tell you 'bout my friends out on the coast I've always got a smiling face, anytime & any place Once in every life May God bless you Well if sweet-talkin' you could make it come true When Tommy left the barroom, not a Gatlin boy was standing Well, I was borned a coal miner's daughter They're walkin' on the fightin' side of me Don't let 'em pick guitars and drive them old trucks To take you to his mansion in the sky? And it's good when I finally make it home, all alone Don't know when I've been so blue And I cry all night 'til dawn I'd not miss my colored blouse A man could wake up dead And you know what I'm talkin' about But you don't find roses growin' on stalks of clover Well people may try to guess, the secret of my happiness When you're the only one at two in the morning Now we can talk all night about the weather Money made from selling a hog But I just can't let you go without telling you just how much I love you. All day long in the field a hoin' corn Three thousand years But it's much too sad to write I'm the happiest girl, in the whole U.S.A. I was confused, you cleared my mind Well life on the farm is kinda laid back The judge was a fishin' buddy that I recognized West Virginia, mountain mama The judges wife called up I haven't slept a wink all night long And kiss the happiest girl, in the whole U.S.A. Why'd we move that bojangle clock so far away from the bed And a smile can hide all the pain Yonder comes a truck with the US mail I'd answer you yes I would God, her love is true I'd pour me a drink, but I'd only be sorry When you're runnin' down our country, hoss Take me home, country roads \"\"\"If you wasn't wearin' that black robe I'd take out in back of this courthouse\" Like the Hatfield and McCoys A brown eyede handsome man And nice guys get washed away like the snow and the rain \"\"\"Pay for my Cadillac?\"\"\" My eyes are not blue Beautiful daughter couldn't \"Son, you don't have to fight to be a man\"\"\" Don't it make my brown eyes Willie and Waylon and the boys Following behind you But in the wintertime we'd all get a brand new pair In your high society you cry all day And we were so in love I know every crack in these dirty sidewalks of Broadway And I'm torn between the things that I should do And then one winter day He was sitting in the witness stand And he took me by the hand and held me close to his side And I don't mind 'em switchin' sides Is here you come again and here I go Cause therels something in a sunday That's the one thing that daddy made sure of She was your morning light At night we'd sleep 'cause we were tired Cowboys ain't easy to love and they're harder to hold Where you've stayed for years You put me high upon a pedestal Take me home, down country roads Makes my temper rise with jealousy That I did you wrong Thinking over things I wish I'd said (ahh-ah) This successful life we're livin's got us feudin' What's that darlin' He's the only one for me And It's almost like a song Come along and share the good times while we can \"He said \"\"Well, when you're hot, you're hot\"\"\" As long as he makes everything alright today-ay He shoveled coal to make a poor man's dollar Country roads, take me home Them that don't know him won't like him Through teardrops and laughter, they'll pass through this world hand-in-hand, Out in Luckenbach, Texas ain't nobody feelin' no pain So high that I could almost see eternity Mamas' don't let your babies grow up to be cowboys And it's so good to be back home again \"But daddy always told me, \"\"Don't make small talk\"\"\" I told her someday, if she was my girl, I could change the world I guess he needs some time away from me And I love you will always love you Just leave it up to you and in a little while We had such a perfect year And shakin' me up so that all I really know Goodbye darlin' There's someone for everyone, and Tommy's love was Becky \"n' I said \"\"Thanks a lot\"\"\" So you better think it over Back ever since the world began Is anybody goin' to San Antone Free that brown eyed man Even with someone they love The joy of love that used to taste like And you were a lady But I'm gonna be where the lights are shinin' on me Nice to see you Like I aint got nothing on You're walkin' on the fightin' side of me I say, yeah, when you're hot, you're hot With my little songs, I was wrong My plans my hopes my schemes you are my every dream but it's only make believe Cause we both know that I'm not My daddy worked all night in the Van Lear coal mines Cause they'll never stay home and they're always alone And offers comin' over the phone That I'd lost somehow Let me hold you in my arms For my clothes That they were singing And would you not be above me? On the sleeping city sidewalk Of unemployment Her smile told of no night I could ask a lot of crazy questions Sleeping single in a double bed Now I'm the one sleeping all alo-oh-one If you were a carpenter I, I will always, always love you And there go all my defenses Please don't take him even though you can That you ever dreamed of You were in my arms Give me no reasons, give me alibies I-Im sleeping single in a double bed If you don't understand him and he don't die young It's a skippidity do da day I hope you're old enough to understand There goes my only possession Dark and dusty, painted on the sky Well there goes my only possession \"She's forty-one and her daddy still calls her \"\"baby\"\"\" The radio reminds me of my home far away But I'll still be just as gone I had to have this talk with you You held my hand when it was cold And Jerry Jeff's train songs and Blue Eyes Cryin' in the Rain The rain can fall so soft against the window Mamma told her daughter I'd rather have my fiddle and my farmin' tools To face the world out on my own again \"He said \"\"Hello, boys\"\" and then he gave us a grin 'n' said\" To meet the day Of a love so warm and true Thank God I'm a country boy Except the memory of a coal miner's daughter Tell me you love me and don't let me cry I'm sleeping single in a double bed (ah-hah-ah) Let this song that I'm singin' be a warnin' I'd play Sally Goodin all day if I could You seemed so full of sweetness at the start \"\"\"Look like I'm gonna hafta haul you all in\" In a cabin, on a hill in Butcher Holler He ain't wrong he's just different You can 'splain it all down at City Hall I'm not ever gonna worry about tomorrow I'll be waiting for you Take the ribbon from my hair When you take you gotta give so live and let live As you used to be I will find a way, find a way Find it in your heart What I'm tryin' to say is that But some of them never learn it's a simple thing Skippidity do da And I hope that you have all In her younger days they called her Delta Dawn I'd marry you anyway Well a simple kinda life never did me no harm All the folks around Brownsville say she's crazy Just when I've begun to get myself together I would only be in your way A lotta sad people thinkin' that's mighty keen If I said you had a beautiful body And I will always love you Blue Ridge Mountains, Shenandoah River So baby, let's sell your diamond ring All at once you weren't here Yeah, I'm proud to be a coal miner's daughter \"\"\"Promise me, son, not to do the things I've done\" The torn dress, the shattered look was more than he could stand And papa, I sure hope you understand I could promise you things like big diamond rings About the way they have to live here in this country My daddy taught me young how to hunt and how to whittle I wish you joy One of them got up and met him halfway 'cross the floor I gave you my onlyness She's a good-hearted woman in love with a good-timin' man Well me and Homer Jones and Big John Talley Sleepin' in our king size bed And I can easily understand Now shine on me sunshine And she says to wake her up when I am through One day while he was working, the Gatlin boys came calling Buy some boots and faded jeans and go away There once was a time when I could not imagine Look up darlin' If you were a miller But tonight I need a friend This coat and tie is choking me Now, it won't mean you're weak if you turn the other cheek And sometimes all the nights can be so long The secret I'm speaking of, is a woman & a man in love When the party's all over she'll welcome him back home again I'm not Lisa, my name is Julie I don't need my name in the marquee lights Arrested on charges And my soft shoes shining Ain't much an old country boy like me can't hack Til the sunlight shines through your face There goes my reason for living When you're runnin' down our country, man And did I hear you say he was a-meeting you here today They love our milk and honey I hope life, treats you kind You make the coffee But you could've heard a pin drop when Tommy stopped and locked the door Like the shadows on the wall Let 'em be doctors and lawyers and such Than the last time I held you Would you miss your colored blouse And she believes in me, I'll never know just what she sees in me Here I go Would you hold it against me Thank you oh Lord for making him for me Half as lonesome as the sound And it took me back to something If I were a carpenter Had a big crap game goin' back in the alley She fought and won herself And finally they jest threw up their hands and said No one will ever know just how much I love you so The destination was So that is why I'm gonna say it one more time Cause when he loves me he loves me a-all the way \"\"\"You understand that, you hillbilly?\"\"\" I-I'm sleeping single in a double bed (ooh-oo-ooh) How it would feel to say He turned around and grinned at me and said The sun can shine so bright up in the sky The Gatlin boys just laughed at him when he walked into the barroom So take away the flowers that you gave me You waltz right in the door When I was lost you took me home It sure is cold today If I were a miller Could it be a faded rose from days gone by? And the answer is in this song that I always sing Between Hank Williams' pain songs But honey now I do To think he might be out with another woman A good-hearted woman loving her good timing man You could have your choice of men Then I crossed the empty street and (La la la la la la la, when you're hot, you're hot) How you could easily take my man How am I doin'? And let her know you think about her when you're gone When the sun's comin' up I got cakes on the griddle My happiness depends on you That I've been pickin' I hear footsteps slowly walking Newberry's train songs and Blue Eyes Cryin' in the Rain Little warm puppies and children and girls of the night I'd smoked my brain the night before And here is what I'll say No one will ever know how much I love you so People see us everywhere they all think you really care Save your love through sorrow You look into my eyes and lie those pretty lies Sleeping under a table at a road side park That didn't hurt Tommy opened up the door, and saw his Becky crying Jolene, Jolene Say it isn't true and Son, let me tell ya now exactly what I mean And here I go How's your new love Would I still find you Help me make it through the night He reached above the fireplace, and took down his daddy's picture Daddy loved and raised eight kids on a miner's pay \"(When you're hot, you're hot\"\")\" Come and lay down by my side Would you still love me? But when they're runnin' down our country, man Good-bye, please don't cry Caught the sunday smell Would your flowing love come quench me Just like your daddy is And love her like the devil when you get back home In the palm of her hand My days are all filled with an easy country charm People writing letters back home And I can't believe it's you And a mill wheel grinding To complain, there was no need But mine won't leave you You needed me, you needed me The good life he promised ain't what she's living today \"\"\"I'll pay ya that hundred I owe ya if you'll get me outta this spot\"\"\" I'd have your baby But all these years I've never caught him cheatin' That I always thought it could be Lisa left you years ago But what would it matter If you don't love it, leave it You're messin' up my mind and fillin' up my senses And driving down the road I get a feeling Like a rhinestone cowboy \"\"\"Son, my life is over, but yours has just begun\"\"\" I beg your pardon And there got all my defenses On the sunday morning sidewalk With a laughing little girl And pretty soon I'm wond'rin how I came to doubt you. While she lays dreaming, I try to get undressed without the light There goes the one of my dreams My hopes my dreams come true my life I give for you Cause she's a good-hearted woman; she loves her good timin' man Lonestar belt buckles and old faded Levi's and each night begins a new day All I'm takin' is your time In the summertime we didn't have shoes to wear Along with the sunshine I've been walkin' these streets so long Say anything but don't say goodbye It's been a long time Almost heaven, West Virginia With Waylon and Willie and the boys If I should stay I love you and I miss you Well, when he took us inta court I couldn't believe my eyes Twenty years of crawling was bottled up inside him You better look before you leap, still waters run deep One more time To forgive me Got us feuding like the Hatfields and McCoys As they gently walk across the lonely floor \"\"\"I promised you, Dad, not to do the things you've done\" He like the night life, the bright lights and good-timin' friends Cowboys like smokey old pool rooms and clear mountain mornin's I never was one of them money hungry fools Shine on me sunshine With each rising sun And listened to the song Runnin' down the way of life Hope you're doin' fine Sleeping single in a double bed (ah-hah-ah) They'd rather give you a song then diamonds or gold Runnin' down a way of life Cussin' at a can that he was kickin With a subway token and a dollar tucked inside my shoe The disappearing dreams of yesterday Looking for a mysterious dark-haired man \"I said \"\"Yeah?\"\"\" I don't want to be alone Gettin' card and letters from people I don't even know And thank God you're a country boy But above all this Flying cross the desert in a TWA The rest of us can count on bein' free But it sure seems warmer than it did They wonder how does a man get to be this way Cause drinking doubles alone, don't make it a par-arty And there won't always be someone there to pull you out On the road to my horizon I would give you the world right now on a silver platter To the things you seek to find And send the kind that you remind me of She just talks about the good times they've had and all the good times to come \"\"\"Who gonna collect my welfare?\"\"\" Something always told me they were reading Tommy wrong And don't it make my brown eyes Darling this will be goodbye for evermore He was swingin Prettiest woman you ever laid eyes on And your soft shoes shining? Rain dripping off the brim of my hat Now tell me the truth Kiss an angel good morning Just may, just give me a call-you know where I am Wishing lord that I was stoned Crying Lisa, Lisa Right where you belong I could be lying with you instead But the Lord and my wife wouldn't take it very good Way back in history With tender looks that I mistook for love There's gotta be a little rain some time Seems like a hundred years ago You gave me hope when I was at the end And there's nothing short of dying Gotta go, I love you Don't know what's come over you Everyone considered him the coward of the county It's early to rise, early in the sack Mama don't let your babies grow up to be cowboys A raisin' me a family and workin' on a farm That's what the trouble was Younger than the mountains, blowing like a breeze Put all the money in and let's roll 'em again Well, I really don't mind the rain But she never complains of the bad times or bad things he's done, Lord Walk with me world Misty taste of moonshine, teardrop in my eye But there's one thing I want you to know If I were dying of thirst Between Hank Williams' pain songs and When you're hot, you're hot While she lays crying, I fumble with a melody or two I got my song and I got you with me tonight Singin' the same old song I'd be carrying the pots you made I'll make the bed Now please don't think I'm weak, I didn't turn the other cheek Just when I'm about to make it work without you Than what I've been fighting at home Cause she walks dowtown with a suitcase in her hand I'll think of you each step of the way Your voice is soft like summer rain This successful life we're livin' got us feudin' Well I woke up Sunday morning I didn't mean to treat you bad Don't it make my brown eyes blue Here you come again Your beauty is beyond compare Just one more minute When he lo-oves me, he really lo-oves me Forget I've ever known her Well, my fiddle was my daddy's till the day he died But I lit my first and watched a small kid Saw a women walking \"And keep all that money for evidence\"\"\" His mama named him Tommy, but folks just called him yellow So smile for a while and let's be jolly I should have held you but I let you go Can forget I've ever known her Four car garage and we're still building on From a mail order catalog\n"
     ]
    }
   ],
   "source": [
    "tokens = lyrics.split()\n",
    "lyrics = ' '.join(tokens)\n",
    "print(lyrics)"
   ]
  },
  {
   "cell_type": "markdown",
   "metadata": {},
   "source": [
    "One final thing, when I look at the above lyrics, I seem to see a LOT of quotation marks.  So, I am going to just replace those with a space.  "
   ]
  },
  {
   "cell_type": "code",
   "execution_count": 4,
   "metadata": {},
   "outputs": [],
   "source": [
    "lyrics = lyrics.replace('\"',' ')"
   ]
  },
  {
   "cell_type": "markdown",
   "metadata": {},
   "source": [
    "Now, we can build sequences of characters that will be used to predict a final character"
   ]
  },
  {
   "cell_type": "code",
   "execution_count": 5,
   "metadata": {},
   "outputs": [],
   "source": [
    "length = 100 # Length of the characer sequences (because we have so much verbage,\n",
    "             # we can use a relatively large number)\n",
    "sequences = list()\n",
    "for i in range(length, len(lyrics)):\n",
    "    seq = lyrics[i-length:i+1]\n",
    "    sequences.append(seq)"
   ]
  },
  {
   "cell_type": "markdown",
   "metadata": {},
   "source": [
    "Create and save a .txt file of our sequences with line endings"
   ]
  },
  {
   "cell_type": "code",
   "execution_count": 6,
   "metadata": {},
   "outputs": [],
   "source": [
    "data = '\\n'.join(sequences)\n",
    "file = open('char_sequences.txt','w')\n",
    "file.write(data)\n",
    "file.close()"
   ]
  },
  {
   "cell_type": "markdown",
   "metadata": {},
   "source": [
    "Create a dictionary of character:number mappings "
   ]
  },
  {
   "cell_type": "code",
   "execution_count": 7,
   "metadata": {},
   "outputs": [],
   "source": [
    "file = open('char_sequences.txt','r')\n",
    "raw_text = file.read()\n",
    "file.close()\n",
    "\n",
    "lines = raw_text.split('\\n')\n",
    "\n",
    "chars = sorted(list(set(raw_text)))\n",
    "mapping = dict((c, i) for i, c in enumerate(chars))\n",
    "\n",
    "# Save the mapping as json \n",
    "json_map = json.dumps(mapping)\n",
    "__ = open('mapping.json','w')\n",
    "__.write(json_map)\n",
    "__.close()"
   ]
  },
  {
   "cell_type": "markdown",
   "metadata": {},
   "source": [
    "Use the dictionary to create sequences of numbers only (numbers that describe the characters)"
   ]
  },
  {
   "cell_type": "code",
   "execution_count": 8,
   "metadata": {},
   "outputs": [],
   "source": [
    "sequences = list()\n",
    "for line in lines:\n",
    "    encoded_seq = [mapping[char] for char in line]\n",
    "    sequences.append(encoded_seq)\n",
    "    \n"
   ]
  },
  {
   "cell_type": "markdown",
   "metadata": {},
   "source": [
    "Create input sets (with 99 characters) and output sets (1 character) and then one-hot code the sets so we can use them to train the model."
   ]
  },
  {
   "cell_type": "code",
   "execution_count": 9,
   "metadata": {},
   "outputs": [],
   "source": [
    "vocab_size = len(mapping)\n",
    "sequences = np.array(sequences)\n",
    "X, y = sequences[:,:-1], sequences[:,-1]\n",
    "sequences = [to_categorical(x, num_classes=vocab_size) for x in X] #one-hot code input\n",
    "X = np.array(sequences)\n",
    "y = to_categorical(y, num_classes=vocab_size) #one-hot code output"
   ]
  },
  {
   "cell_type": "markdown",
   "metadata": {},
   "source": [
    "Fit the model"
   ]
  },
  {
   "cell_type": "code",
   "execution_count": 10,
   "metadata": {},
   "outputs": [
    {
     "name": "stdout",
     "output_type": "stream",
     "text": [
      "WARNING:tensorflow:From /home/ubuntu/Desktop/Projects/NLP-country-song/env/lib/python3.7/site-packages/tensorflow/python/framework/op_def_library.py:263: colocate_with (from tensorflow.python.framework.ops) is deprecated and will be removed in a future version.\n",
      "Instructions for updating:\n",
      "Colocations handled automatically by placer.\n",
      "WARNING:tensorflow:From /home/ubuntu/Desktop/Projects/NLP-country-song/env/lib/python3.7/site-packages/tensorflow/python/ops/math_ops.py:3066: to_int32 (from tensorflow.python.ops.math_ops) is deprecated and will be removed in a future version.\n",
      "Instructions for updating:\n",
      "Use tf.cast instead.\n",
      "Train on 23356 samples, validate on 5839 samples\n",
      "Epoch 1/100\n",
      "23356/23356 [==============================] - 303s 13ms/step - loss: 2.6861 - acc: 0.2801 - val_loss: 2.3915 - val_acc: 0.3381\n",
      "Epoch 2/100\n",
      "23356/23356 [==============================] - 300s 13ms/step - loss: 2.2377 - acc: 0.3779 - val_loss: 2.2030 - val_acc: 0.3879\n",
      "Epoch 3/100\n",
      "23356/23356 [==============================] - 303s 13ms/step - loss: 2.0209 - acc: 0.4283 - val_loss: 1.9515 - val_acc: 0.4408\n",
      "Epoch 4/100\n",
      "23356/23356 [==============================] - 300s 13ms/step - loss: 1.8236 - acc: 0.4705 - val_loss: 1.8489 - val_acc: 0.4621\n",
      "Epoch 5/100\n",
      "23356/23356 [==============================] - 303s 13ms/step - loss: 1.6652 - acc: 0.5124 - val_loss: 1.7994 - val_acc: 0.4756\n",
      "Epoch 6/100\n",
      "23356/23356 [==============================] - 302s 13ms/step - loss: 1.5000 - acc: 0.5575 - val_loss: 1.7617 - val_acc: 0.4980\n",
      "Epoch 7/100\n",
      "23356/23356 [==============================] - 304s 13ms/step - loss: 1.3257 - acc: 0.6059 - val_loss: 1.7474 - val_acc: 0.5069\n",
      "Epoch 8/100\n",
      "23356/23356 [==============================] - 308s 13ms/step - loss: 1.1304 - acc: 0.6629 - val_loss: 1.7750 - val_acc: 0.5117\n",
      "Epoch 9/100\n",
      "23356/23356 [==============================] - 308s 13ms/step - loss: 0.9330 - acc: 0.7204 - val_loss: 1.8645 - val_acc: 0.5008\n",
      "Epoch 10/100\n",
      "23356/23356 [==============================] - 306s 13ms/step - loss: 0.7410 - acc: 0.7813 - val_loss: 1.9381 - val_acc: 0.5066\n",
      "Epoch 11/100\n",
      "23356/23356 [==============================] - 498s 21ms/step - loss: 0.6514 - acc: 0.8101 - val_loss: 1.9773 - val_acc: 0.5013\n",
      "Epoch 12/100\n",
      "23356/23356 [==============================] - 857s 37ms/step - loss: 0.4191 - acc: 0.8926 - val_loss: 2.1185 - val_acc: 0.5011\n",
      "Epoch 13/100\n",
      "23356/23356 [==============================] - 848s 36ms/step - loss: 0.2712 - acc: 0.9425 - val_loss: 2.2592 - val_acc: 0.4987\n",
      "Epoch 14/100\n",
      "23356/23356 [==============================] - 989s 42ms/step - loss: 0.1986 - acc: 0.9623 - val_loss: 2.3945 - val_acc: 0.4937\n",
      "Epoch 15/100\n",
      "23356/23356 [==============================] - 943s 40ms/step - loss: 0.1573 - acc: 0.9715 - val_loss: 2.4945 - val_acc: 0.4919\n",
      "Epoch 16/100\n",
      "23356/23356 [==============================] - 892s 38ms/step - loss: 0.1378 - acc: 0.9735 - val_loss: 2.5969 - val_acc: 0.4871\n",
      "Epoch 17/100\n",
      "23356/23356 [==============================] - 892s 38ms/step - loss: 0.1498 - acc: 0.9674 - val_loss: 2.6707 - val_acc: 0.4902\n",
      "Epoch 18/100\n",
      "23356/23356 [==============================] - 899s 38ms/step - loss: 0.1465 - acc: 0.9668 - val_loss: 2.6968 - val_acc: 0.4848\n",
      "Epoch 00018: early stopping\n"
     ]
    }
   ],
   "source": [
    "units = 512\n",
    "epochs = 100\n",
    "\n",
    "# Define early stopping callbacks\n",
    "es = keras.callbacks.EarlyStopping(monitor = 'val_acc',min_delta = .01, patience = 10, mode = 'max',verbose=1)\n",
    "\n",
    "\n",
    "# define and fit model\n",
    "model = Sequential()\n",
    "model.add(LSTM(units, input_shape=(X.shape[1], X.shape[2]))) # changed verbosity to 1  This takes a long time to run\n",
    "                                                           # so you will want verbosity at some level.\n",
    "model.add(Dense(vocab_size, activation='softmax'))\n",
    "model.compile(loss='categorical_crossentropy', optimizer='adam', metrics=['accuracy'])\n",
    "\n",
    "modelLyrics = model.fit(X, y, epochs = epochs, validation_split = 0.2, shuffle = True, verbose=1,callbacks=[es])\n",
    "\n",
    "\n",
    "#save model and history\n",
    "model.save('model.units512.es_val_acc.2')\n",
    "\n",
    "json_hist = json.dumps(modelLyrics.history)\n",
    "__ = open('modelLyricsHistory.json','w')\n",
    "__.write(json_hist)\n",
    "__.close()\n",
    "\n"
   ]
  },
  {
   "cell_type": "code",
   "execution_count": 11,
   "metadata": {},
   "outputs": [],
   "source": [
    "history = modelLyrics.historyI"
   ]
  },
  {
   "cell_type": "code",
   "execution_count": 12,
   "metadata": {},
   "outputs": [],
   "source": [
    "json2 = json.dumps(history)"
   ]
  },
  {
   "cell_type": "code",
   "execution_count": 13,
   "metadata": {},
   "outputs": [],
   "source": [
    "# store history"
   ]
  },
  {
   "cell_type": "markdown",
   "metadata": {},
   "source": [
    "Create a function that encodes a kickoff text string and then plugs it into our trained model"
   ]
  },
  {
   "cell_type": "code",
   "execution_count": 14,
   "metadata": {
    "scrolled": false
   },
   "outputs": [
    {
     "ename": "FileNotFoundError",
     "evalue": "[Errno 2] No such file or directory: 'verboseUnits512.txt'",
     "output_type": "error",
     "traceback": [
      "\u001b[0;31m---------------------------------------------------------------------------\u001b[0m",
      "\u001b[0;31mFileNotFoundError\u001b[0m                         Traceback (most recent call last)",
      "\u001b[0;32m<ipython-input-14-c65527ab4fbb>\u001b[0m in \u001b[0;36m<module>\u001b[0;34m\u001b[0m\n\u001b[0;32m----> 1\u001b[0;31m \u001b[0m__\u001b[0m \u001b[0;34m=\u001b[0m \u001b[0mopen\u001b[0m\u001b[0;34m(\u001b[0m\u001b[0;34m'verboseUnits512.txt'\u001b[0m\u001b[0;34m,\u001b[0m\u001b[0;34m'r'\u001b[0m\u001b[0;34m)\u001b[0m\u001b[0;34m\u001b[0m\u001b[0;34m\u001b[0m\u001b[0m\n\u001b[0m\u001b[1;32m      2\u001b[0m \u001b[0mverbose\u001b[0m \u001b[0;34m=\u001b[0m \u001b[0m__\u001b[0m\u001b[0;34m.\u001b[0m\u001b[0mread\u001b[0m\u001b[0;34m(\u001b[0m\u001b[0;34m)\u001b[0m\u001b[0;34m\u001b[0m\u001b[0;34m\u001b[0m\u001b[0m\n\u001b[1;32m      3\u001b[0m \u001b[0m__\u001b[0m\u001b[0;34m.\u001b[0m\u001b[0mclose\u001b[0m\u001b[0;34m(\u001b[0m\u001b[0;34m)\u001b[0m\u001b[0;34m\u001b[0m\u001b[0;34m\u001b[0m\u001b[0m\n\u001b[1;32m      4\u001b[0m \u001b[0;34m\u001b[0m\u001b[0m\n\u001b[1;32m      5\u001b[0m \u001b[0mverbose\u001b[0m \u001b[0;34m=\u001b[0m \u001b[0mverbose\u001b[0m\u001b[0;34m.\u001b[0m\u001b[0mreplace\u001b[0m\u001b[0;34m(\u001b[0m\u001b[0;34m'loss: '\u001b[0m\u001b[0;34m,\u001b[0m\u001b[0;34m\"$\"\u001b[0m\u001b[0;34m)\u001b[0m\u001b[0;34m\u001b[0m\u001b[0;34m\u001b[0m\u001b[0m\n",
      "\u001b[0;31mFileNotFoundError\u001b[0m: [Errno 2] No such file or directory: 'verboseUnits512.txt'"
     ]
    }
   ],
   "source": [
    "__ = open('verboseUnits512.txt','r')\n",
    "verbose = __.read()\n",
    "__.close()\n",
    "\n",
    "verbose = verbose.replace('loss: ',\"$\")\n",
    "verbose = verbose.replace('acc: ',\"+\")\n",
    "\n",
    "loss = ' '.join([word for word in verbose.split() if word.startswith(\"$\")])\n",
    "loss = loss.split(\"$\")[1:]\n",
    "loss = list(map(float,loss))\n",
    "\n",
    "acc = ' '.join([word for word in verbose.split() if word.startswith(\"+\")])\n",
    "acc = acc.split(\"+\")[1:]\n",
    "acc = list(map(float,acc))\n",
    "\n",
    "\n",
    "df = pd.DataFrame({'loss':loss,'acc':acc})\n",
    "\n",
    "loss = go.Scatter(y=df.loss,x=df.index,line={'color':'#072b61'},name='loss')\n",
    "acc = go.Scatter(y=df.acc,x=df.index,line={'color':'#146320'},name='acc',yaxis='y2')\n",
    "\n",
    "layout = go.Layout(title='loss and acc vs Epoch',xaxis={'title':'Epoch'},yaxis = {'title':'loss','showgrid':False},yaxis2 = {'title':'acc','overlaying':'y','side':'right','showgrid':False})\n",
    "\n",
    "fig = go.Figure(data=[loss,acc],layout=layout)\n",
    "\n",
    "offline.iplot(fig)"
   ]
  },
  {
   "cell_type": "code",
   "execution_count": 15,
   "metadata": {},
   "outputs": [],
   "source": [
    "# generate a sequence of characters with a language model\n",
    "def generate_seq(model, mapping, seq_length, seed_lyric, n_chars):\n",
    "    lyrics = seed_lyric\n",
    "    for __ in range(n_chars):\n",
    "    # encode the characters as integers\n",
    "        encoded = [mapping[char] for char in lyrics]\n",
    "    # truncate sequences to a fixed length\n",
    "        encoded = pad_sequences([encoded], maxlen=seq_length, truncating='pre')\n",
    "    # one hot encode\n",
    "        encoded = to_categorical(encoded, num_classes=len(mapping))\n",
    "    # predict character\n",
    "        yhat = model.predict_classes(encoded, verbose=0)\n",
    "    # reverse map integer to character\n",
    "        out_char = ''\n",
    "        for char, index in mapping.items():\n",
    "            if index == yhat:\n",
    "                out_char = char\n",
    "                break\n",
    "    # append to input\n",
    "        lyrics += char\n",
    "    return lyrics"
   ]
  },
  {
   "cell_type": "markdown",
   "metadata": {},
   "source": [
    "Is there a song other than Stairway to Heaven that I could have used for the kickoff sequence?"
   ]
  },
  {
   "cell_type": "code",
   "execution_count": 16,
   "metadata": {},
   "outputs": [],
   "source": [
    "startLyrics = \"Playing ethnicky jazz To parade your snazz On your five-grand stereo Braggin' that you know How the \""
   ]
  },
  {
   "cell_type": "markdown",
   "metadata": {},
   "source": [
    "Run the model and print the lyrics"
   ]
  },
  {
   "cell_type": "code",
   "execution_count": 19,
   "metadata": {},
   "outputs": [
    {
     "name": "stdout",
     "output_type": "stream",
     "text": [
      "Playing ethnicky jazz To parade your snazz On your five-grand stereo Braggin' that you know How the live through sorrow You look into mine becter Lise ain't nobody feelin' no pain So high that I could almost leve you And some day you clockes my and some day you clockes my and some day you clockes my and some day you clockes my and some day you clockes my and some day you clockes my and some day you clockes my and some day you clockes my and some day you clockes my and some day you clockes my and some day you clockes my and some day you clockes my and some day you clockes my and some day you clockes my and some day you clockes my and some day you clockes my and some day you clockes my and some day you clockes my and some day you clockes my and some day you clockes my and some day you clockes my and some day you clockes my and some day you clockes my and some day you clockes my and some day you clockes my and some day you clockes my and some day you clockes my and some day you clockes my and some day you clockes my and some day you clockes my and some day you clockes my and some day yo\n"
     ]
    }
   ],
   "source": [
    "model = load_model('model.units512.es_val_acc')\n",
    "lyricsFinal = generate_seq(model,mapping,length,startLyrics,1000)\n",
    "print(lyricsFinal)"
   ]
  },
  {
   "cell_type": "code",
   "execution_count": 20,
   "metadata": {},
   "outputs": [],
   "source": [
    "df = pd.read_json('modelLyricsHistory.json')"
   ]
  },
  {
   "cell_type": "code",
   "execution_count": 21,
   "metadata": {},
   "outputs": [
    {
     "data": {
      "text/html": [
       "<div>\n",
       "<style scoped>\n",
       "    .dataframe tbody tr th:only-of-type {\n",
       "        vertical-align: middle;\n",
       "    }\n",
       "\n",
       "    .dataframe tbody tr th {\n",
       "        vertical-align: top;\n",
       "    }\n",
       "\n",
       "    .dataframe thead th {\n",
       "        text-align: right;\n",
       "    }\n",
       "</style>\n",
       "<table border=\"1\" class=\"dataframe\">\n",
       "  <thead>\n",
       "    <tr style=\"text-align: right;\">\n",
       "      <th></th>\n",
       "      <th>val_loss</th>\n",
       "      <th>val_acc</th>\n",
       "      <th>loss</th>\n",
       "      <th>acc</th>\n",
       "    </tr>\n",
       "  </thead>\n",
       "  <tbody>\n",
       "    <tr>\n",
       "      <th>0</th>\n",
       "      <td>2.391513</td>\n",
       "      <td>0.338072</td>\n",
       "      <td>2.686099</td>\n",
       "      <td>0.280099</td>\n",
       "    </tr>\n",
       "    <tr>\n",
       "      <th>1</th>\n",
       "      <td>2.203031</td>\n",
       "      <td>0.387909</td>\n",
       "      <td>2.237684</td>\n",
       "      <td>0.377890</td>\n",
       "    </tr>\n",
       "    <tr>\n",
       "      <th>2</th>\n",
       "      <td>1.951543</td>\n",
       "      <td>0.440829</td>\n",
       "      <td>2.020886</td>\n",
       "      <td>0.428327</td>\n",
       "    </tr>\n",
       "    <tr>\n",
       "      <th>3</th>\n",
       "      <td>1.848852</td>\n",
       "      <td>0.462065</td>\n",
       "      <td>1.823551</td>\n",
       "      <td>0.470543</td>\n",
       "    </tr>\n",
       "    <tr>\n",
       "      <th>4</th>\n",
       "      <td>1.799370</td>\n",
       "      <td>0.475595</td>\n",
       "      <td>1.665167</td>\n",
       "      <td>0.512417</td>\n",
       "    </tr>\n",
       "    <tr>\n",
       "      <th>5</th>\n",
       "      <td>1.761656</td>\n",
       "      <td>0.498030</td>\n",
       "      <td>1.499977</td>\n",
       "      <td>0.557458</td>\n",
       "    </tr>\n",
       "    <tr>\n",
       "      <th>6</th>\n",
       "      <td>1.747415</td>\n",
       "      <td>0.506936</td>\n",
       "      <td>1.325721</td>\n",
       "      <td>0.605926</td>\n",
       "    </tr>\n",
       "    <tr>\n",
       "      <th>7</th>\n",
       "      <td>1.775016</td>\n",
       "      <td>0.511731</td>\n",
       "      <td>1.130380</td>\n",
       "      <td>0.662870</td>\n",
       "    </tr>\n",
       "    <tr>\n",
       "      <th>8</th>\n",
       "      <td>1.864464</td>\n",
       "      <td>0.500771</td>\n",
       "      <td>0.932956</td>\n",
       "      <td>0.720414</td>\n",
       "    </tr>\n",
       "    <tr>\n",
       "      <th>9</th>\n",
       "      <td>1.938054</td>\n",
       "      <td>0.506594</td>\n",
       "      <td>0.741048</td>\n",
       "      <td>0.781255</td>\n",
       "    </tr>\n",
       "    <tr>\n",
       "      <th>10</th>\n",
       "      <td>1.977335</td>\n",
       "      <td>0.501284</td>\n",
       "      <td>0.651373</td>\n",
       "      <td>0.810113</td>\n",
       "    </tr>\n",
       "    <tr>\n",
       "      <th>11</th>\n",
       "      <td>2.118546</td>\n",
       "      <td>0.501113</td>\n",
       "      <td>0.419072</td>\n",
       "      <td>0.892576</td>\n",
       "    </tr>\n",
       "    <tr>\n",
       "      <th>12</th>\n",
       "      <td>2.259209</td>\n",
       "      <td>0.498716</td>\n",
       "      <td>0.271179</td>\n",
       "      <td>0.942456</td>\n",
       "    </tr>\n",
       "    <tr>\n",
       "      <th>13</th>\n",
       "      <td>2.394458</td>\n",
       "      <td>0.493749</td>\n",
       "      <td>0.198606</td>\n",
       "      <td>0.962279</td>\n",
       "    </tr>\n",
       "    <tr>\n",
       "      <th>14</th>\n",
       "      <td>2.494537</td>\n",
       "      <td>0.491865</td>\n",
       "      <td>0.157297</td>\n",
       "      <td>0.971528</td>\n",
       "    </tr>\n",
       "    <tr>\n",
       "      <th>15</th>\n",
       "      <td>2.596871</td>\n",
       "      <td>0.487070</td>\n",
       "      <td>0.137799</td>\n",
       "      <td>0.973497</td>\n",
       "    </tr>\n",
       "    <tr>\n",
       "      <th>16</th>\n",
       "      <td>2.670750</td>\n",
       "      <td>0.490152</td>\n",
       "      <td>0.149783</td>\n",
       "      <td>0.967417</td>\n",
       "    </tr>\n",
       "    <tr>\n",
       "      <th>17</th>\n",
       "      <td>2.696839</td>\n",
       "      <td>0.484843</td>\n",
       "      <td>0.146528</td>\n",
       "      <td>0.966775</td>\n",
       "    </tr>\n",
       "  </tbody>\n",
       "</table>\n",
       "</div>"
      ],
      "text/plain": [
       "    val_loss   val_acc      loss       acc\n",
       "0   2.391513  0.338072  2.686099  0.280099\n",
       "1   2.203031  0.387909  2.237684  0.377890\n",
       "2   1.951543  0.440829  2.020886  0.428327\n",
       "3   1.848852  0.462065  1.823551  0.470543\n",
       "4   1.799370  0.475595  1.665167  0.512417\n",
       "5   1.761656  0.498030  1.499977  0.557458\n",
       "6   1.747415  0.506936  1.325721  0.605926\n",
       "7   1.775016  0.511731  1.130380  0.662870\n",
       "8   1.864464  0.500771  0.932956  0.720414\n",
       "9   1.938054  0.506594  0.741048  0.781255\n",
       "10  1.977335  0.501284  0.651373  0.810113\n",
       "11  2.118546  0.501113  0.419072  0.892576\n",
       "12  2.259209  0.498716  0.271179  0.942456\n",
       "13  2.394458  0.493749  0.198606  0.962279\n",
       "14  2.494537  0.491865  0.157297  0.971528\n",
       "15  2.596871  0.487070  0.137799  0.973497\n",
       "16  2.670750  0.490152  0.149783  0.967417\n",
       "17  2.696839  0.484843  0.146528  0.966775"
      ]
     },
     "execution_count": 21,
     "metadata": {},
     "output_type": "execute_result"
    }
   ],
   "source": [
    "df"
   ]
  }
 ],
 "metadata": {
  "kernelspec": {
   "display_name": "NLP-country-song",
   "language": "python",
   "name": "nlp-country-song"
  },
  "language_info": {
   "codemirror_mode": {
    "name": "ipython",
    "version": 3
   },
   "file_extension": ".py",
   "mimetype": "text/x-python",
   "name": "python",
   "nbconvert_exporter": "python",
   "pygments_lexer": "ipython3",
   "version": "3.7.1"
  }
 },
 "nbformat": 4,
 "nbformat_minor": 2
}
