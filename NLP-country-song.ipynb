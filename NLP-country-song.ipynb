{
 "cells": [
  {
   "cell_type": "code",
   "execution_count": 1,
   "metadata": {},
   "outputs": [
    {
     "name": "stderr",
     "output_type": "stream",
     "text": [
      "Using TensorFlow backend.\n"
     ]
    }
   ],
   "source": [
    "import scipy\n",
    "import numpy as np\n",
    "import matplotlib\n",
    "import pandas as pd\n",
    "import statsmodels\n",
    "import sklearn\n",
    "import tensorflow\n",
    "from keras.models import Sequential\n",
    "from keras.layers import Dense,LSTM\n",
    "from keras.utils import to_categorical\n",
    "from keras.preprocessing.sequence import pad_sequences\n",
    "import string\n",
    "import pyarrow as pa\n"
   ]
  },
  {
   "cell_type": "markdown",
   "metadata": {},
   "source": [
    "Will put into csv first so that can randomly sort since combining so many songs from so many artists."
   ]
  },
  {
   "cell_type": "code",
   "execution_count": 2,
   "metadata": {},
   "outputs": [],
   "source": [
    "lyricsCSV = pd.read_csv('lyrics.csv',encoding='ISO-8859-1')\n",
    "#lyricsSample = lyricsCSV.sample(frac=1)\n",
    "#lyricsSample.head()\n",
    "#lyricsSample.to_csv('lyrics.txt',sep='\\t',index=False)\n",
    "lyricsCSV.to_csv('lyrics.txt',sep='\\t',index=False)"
   ]
  },
  {
   "cell_type": "code",
   "execution_count": 3,
   "metadata": {},
   "outputs": [],
   "source": [
    "l = open('lyrics.txt','r')\n",
    "lyrics = l.read()\n",
    "l.close()"
   ]
  },
  {
   "cell_type": "code",
   "execution_count": 4,
   "metadata": {},
   "outputs": [],
   "source": [
    "tokens = lyrics.split()\n",
    "lyrics = ' '.join(tokens)\n",
    "#lyrics = lyrics.translate(str.maketrans('','',string.punctuation)) #Remove punctuation because many songs from many sources"
   ]
  },
  {
   "cell_type": "code",
   "execution_count": 5,
   "metadata": {},
   "outputs": [
    {
     "name": "stdout",
     "output_type": "stream",
     "text": [
      "Sing a song of sixpence, A pocket full of rye. Four and twenty blackbirds, Baked in a pie. When the pie was opened The birds began to sing; Wasn't that a dainty dish, To set before the king. The king was in his counting house, Counting out his money; The queen was in the parlour, Eating bread and honey. The maid was in the garden, Hanging out the clothes, When down came a blackbird And pecked off her nose.\n"
     ]
    }
   ],
   "source": [
    "print(lyrics)"
   ]
  },
  {
   "cell_type": "code",
   "execution_count": 6,
   "metadata": {},
   "outputs": [],
   "source": [
    "length = 10\n",
    "sequences = list()\n",
    "for i in range(length, len(lyrics)):\n",
    "    seq = lyrics[i-length:i+1]\n",
    "    sequences.append(seq)"
   ]
  },
  {
   "cell_type": "code",
   "execution_count": 7,
   "metadata": {},
   "outputs": [],
   "source": [
    "data = '\\n'.join(sequences)\n",
    "file = open('char_sequences.txt','w')\n",
    "file.write(data)\n",
    "file.close()"
   ]
  },
  {
   "cell_type": "code",
   "execution_count": 8,
   "metadata": {},
   "outputs": [],
   "source": [
    "file = open('char_sequences.txt','r')\n",
    "raw_text = file.read()\n",
    "file.close()\n",
    "\n",
    "lines = raw_text.split('\\n')"
   ]
  },
  {
   "cell_type": "code",
   "execution_count": 9,
   "metadata": {},
   "outputs": [],
   "source": [
    "chars = sorted(list(set(raw_text)))\n",
    "mapping = dict((c, i) for i, c in enumerate(chars))\n"
   ]
  },
  {
   "cell_type": "code",
   "execution_count": 10,
   "metadata": {},
   "outputs": [],
   "source": [
    "sequences = list()\n",
    "for line in lines:\n",
    "    encoded_seq = [mapping[char] for char in line]\n",
    "    sequences.append(encoded_seq)"
   ]
  },
  {
   "cell_type": "code",
   "execution_count": 11,
   "metadata": {},
   "outputs": [
    {
     "name": "stdout",
     "output_type": "stream",
     "text": [
      "Vocabulary Size: 38\n"
     ]
    }
   ],
   "source": [
    "vocab_size = len(mapping)\n",
    "print('Vocabulary Size: {}'.format(vocab_size))"
   ]
  },
  {
   "cell_type": "code",
   "execution_count": 12,
   "metadata": {},
   "outputs": [],
   "source": [
    "\n",
    "sequences = np.array(sequences)\n",
    "X, y = sequences[:,:-1], sequences[:,-1]\n"
   ]
  },
  {
   "cell_type": "code",
   "execution_count": 13,
   "metadata": {},
   "outputs": [],
   "source": [
    "sequences = [to_categorical(x, num_classes=vocab_size) for x in X]\n",
    "X = np.array(sequences)\n",
    "y = to_categorical(y, num_classes=vocab_size)"
   ]
  },
  {
   "cell_type": "code",
   "execution_count": 14,
   "metadata": {},
   "outputs": [
    {
     "name": "stdout",
     "output_type": "stream",
     "text": [
      "WARNING:tensorflow:From /home/ubuntu/Desktop/Projects/NLP-country-song/env/lib/python3.7/site-packages/tensorflow/python/framework/op_def_library.py:263: colocate_with (from tensorflow.python.framework.ops) is deprecated and will be removed in a future version.\n",
      "Instructions for updating:\n",
      "Colocations handled automatically by placer.\n",
      "_________________________________________________________________\n",
      "Layer (type)                 Output Shape              Param #   \n",
      "=================================================================\n",
      "lstm_1 (LSTM)                (None, 75)                34200     \n",
      "_________________________________________________________________\n",
      "dense_1 (Dense)              (None, 38)                2888      \n",
      "=================================================================\n",
      "Total params: 37,088\n",
      "Trainable params: 37,088\n",
      "Non-trainable params: 0\n",
      "_________________________________________________________________\n",
      "None\n"
     ]
    }
   ],
   "source": [
    "# define model   MAY NEED TO ADJUST 75\n",
    "model = Sequential()\n",
    "model.add(LSTM(75, input_shape=(X.shape[1], X.shape[2])))\n",
    "model.add(Dense(vocab_size, activation='softmax'))\n",
    "print(model.summary())"
   ]
  },
  {
   "cell_type": "code",
   "execution_count": 15,
   "metadata": {},
   "outputs": [
    {
     "name": "stdout",
     "output_type": "stream",
     "text": [
      "WARNING:tensorflow:From /home/ubuntu/Desktop/Projects/NLP-country-song/env/lib/python3.7/site-packages/tensorflow/python/ops/math_ops.py:3066: to_int32 (from tensorflow.python.ops.math_ops) is deprecated and will be removed in a future version.\n",
      "Instructions for updating:\n",
      "Use tf.cast instead.\n",
      "Epoch 1/100\n",
      " - 1s - loss: 3.6117 - acc: 0.1028\n",
      "Epoch 2/100\n",
      " - 0s - loss: 3.4797 - acc: 0.1880\n",
      "Epoch 3/100\n",
      " - 0s - loss: 3.1779 - acc: 0.1905\n",
      "Epoch 4/100\n",
      " - 0s - loss: 3.0531 - acc: 0.1905\n",
      "Epoch 5/100\n",
      " - 0s - loss: 3.0178 - acc: 0.1905\n",
      "Epoch 6/100\n",
      " - 0s - loss: 2.9955 - acc: 0.1905\n",
      "Epoch 7/100\n",
      " - 0s - loss: 2.9828 - acc: 0.1905\n",
      "Epoch 8/100\n",
      " - 0s - loss: 2.9712 - acc: 0.1905\n",
      "Epoch 9/100\n",
      " - 0s - loss: 2.9544 - acc: 0.1905\n",
      "Epoch 10/100\n",
      " - 0s - loss: 2.9465 - acc: 0.1905\n",
      "Epoch 11/100\n",
      " - 0s - loss: 2.9414 - acc: 0.1905\n",
      "Epoch 12/100\n",
      " - 0s - loss: 2.9159 - acc: 0.1905\n",
      "Epoch 13/100\n",
      " - 0s - loss: 2.8953 - acc: 0.1905\n",
      "Epoch 14/100\n",
      " - 0s - loss: 2.8755 - acc: 0.1905\n",
      "Epoch 15/100\n",
      " - 0s - loss: 2.8515 - acc: 0.1955\n",
      "Epoch 16/100\n",
      " - 0s - loss: 2.8208 - acc: 0.2005\n",
      "Epoch 17/100\n",
      " - 0s - loss: 2.7866 - acc: 0.2356\n",
      "Epoch 18/100\n",
      " - 0s - loss: 2.7598 - acc: 0.2055\n",
      "Epoch 19/100\n",
      " - 0s - loss: 2.7229 - acc: 0.2807\n",
      "Epoch 20/100\n",
      " - 0s - loss: 2.6811 - acc: 0.2531\n",
      "Epoch 21/100\n",
      " - 0s - loss: 2.6268 - acc: 0.2807\n",
      "Epoch 22/100\n",
      " - 0s - loss: 2.5790 - acc: 0.2807\n",
      "Epoch 23/100\n",
      " - 0s - loss: 2.5322 - acc: 0.2957\n",
      "Epoch 24/100\n",
      " - 0s - loss: 2.4852 - acc: 0.3208\n",
      "Epoch 25/100\n",
      " - 0s - loss: 2.4327 - acc: 0.3183\n",
      "Epoch 26/100\n",
      " - 0s - loss: 2.3973 - acc: 0.3258\n",
      "Epoch 27/100\n",
      " - 0s - loss: 2.3525 - acc: 0.3634\n",
      "Epoch 28/100\n",
      " - 0s - loss: 2.3129 - acc: 0.3609\n",
      "Epoch 29/100\n",
      " - 0s - loss: 2.2612 - acc: 0.3810\n",
      "Epoch 30/100\n",
      " - 0s - loss: 2.2485 - acc: 0.3509\n",
      "Epoch 31/100\n",
      " - 0s - loss: 2.1745 - acc: 0.3835\n",
      "Epoch 32/100\n",
      " - 0s - loss: 2.1412 - acc: 0.4060\n",
      "Epoch 33/100\n",
      " - 0s - loss: 2.0949 - acc: 0.4010\n",
      "Epoch 34/100\n",
      " - 0s - loss: 2.0535 - acc: 0.4236\n",
      "Epoch 35/100\n",
      " - 0s - loss: 2.0053 - acc: 0.4411\n",
      "Epoch 36/100\n",
      " - 0s - loss: 1.9577 - acc: 0.4411\n",
      "Epoch 37/100\n",
      " - 0s - loss: 1.9271 - acc: 0.4461\n",
      "Epoch 38/100\n",
      " - 0s - loss: 1.8937 - acc: 0.4461\n",
      "Epoch 39/100\n",
      " - 0s - loss: 1.8274 - acc: 0.4887\n",
      "Epoch 40/100\n",
      " - 0s - loss: 1.7985 - acc: 0.4962\n",
      "Epoch 41/100\n",
      " - 0s - loss: 1.7583 - acc: 0.5013\n",
      "Epoch 42/100\n",
      " - 0s - loss: 1.7037 - acc: 0.5414\n",
      "Epoch 43/100\n",
      " - 0s - loss: 1.6550 - acc: 0.5439\n",
      "Epoch 44/100\n",
      " - 0s - loss: 1.6146 - acc: 0.5614\n",
      "Epoch 45/100\n",
      " - 0s - loss: 1.5956 - acc: 0.5639\n",
      "Epoch 46/100\n",
      " - 0s - loss: 1.5366 - acc: 0.5764\n",
      "Epoch 47/100\n",
      " - 0s - loss: 1.4881 - acc: 0.6140\n",
      "Epoch 48/100\n",
      " - 0s - loss: 1.4529 - acc: 0.6266\n",
      "Epoch 49/100\n",
      " - 0s - loss: 1.4263 - acc: 0.6216\n",
      "Epoch 50/100\n",
      " - 0s - loss: 1.3768 - acc: 0.6466\n",
      "Epoch 51/100\n",
      " - 0s - loss: 1.3510 - acc: 0.6266\n",
      "Epoch 52/100\n",
      " - 0s - loss: 1.3088 - acc: 0.6617\n",
      "Epoch 53/100\n",
      " - 0s - loss: 1.2709 - acc: 0.6917\n",
      "Epoch 54/100\n",
      " - 0s - loss: 1.2480 - acc: 0.6992\n",
      "Epoch 55/100\n",
      " - 0s - loss: 1.1987 - acc: 0.6967\n",
      "Epoch 56/100\n",
      " - 0s - loss: 1.1592 - acc: 0.7469\n",
      "Epoch 57/100\n",
      " - 0s - loss: 1.1188 - acc: 0.7118\n",
      "Epoch 58/100\n",
      " - 0s - loss: 1.0973 - acc: 0.7569\n",
      "Epoch 59/100\n",
      " - 0s - loss: 1.0511 - acc: 0.7694\n",
      "Epoch 60/100\n",
      " - 0s - loss: 1.0094 - acc: 0.7895\n",
      "Epoch 61/100\n",
      " - 0s - loss: 0.9949 - acc: 0.7769\n",
      "Epoch 62/100\n",
      " - 0s - loss: 0.9592 - acc: 0.8045\n",
      "Epoch 63/100\n",
      " - 0s - loss: 0.9148 - acc: 0.8195\n",
      "Epoch 64/100\n",
      " - 0s - loss: 0.8874 - acc: 0.8170\n",
      "Epoch 65/100\n",
      " - 0s - loss: 0.8486 - acc: 0.8571\n",
      "Epoch 66/100\n",
      " - 0s - loss: 0.8174 - acc: 0.8496\n",
      "Epoch 67/100\n",
      " - 0s - loss: 0.7894 - acc: 0.8697\n",
      "Epoch 68/100\n",
      " - 0s - loss: 0.7553 - acc: 0.8822\n",
      "Epoch 69/100\n",
      " - 0s - loss: 0.7539 - acc: 0.8922\n",
      "Epoch 70/100\n",
      " - 0s - loss: 0.7119 - acc: 0.8897\n",
      "Epoch 71/100\n",
      " - 0s - loss: 0.6848 - acc: 0.8872\n",
      "Epoch 72/100\n",
      " - 0s - loss: 0.6608 - acc: 0.9148\n",
      "Epoch 73/100\n",
      " - 0s - loss: 0.6237 - acc: 0.9198\n",
      "Epoch 74/100\n",
      " - 0s - loss: 0.5992 - acc: 0.9298\n",
      "Epoch 75/100\n",
      " - 0s - loss: 0.5756 - acc: 0.9449\n",
      "Epoch 76/100\n",
      " - 0s - loss: 0.5578 - acc: 0.9449\n",
      "Epoch 77/100\n",
      " - 0s - loss: 0.5275 - acc: 0.9499\n",
      "Epoch 78/100\n",
      " - 0s - loss: 0.5106 - acc: 0.9649\n",
      "Epoch 79/100\n",
      " - 0s - loss: 0.4957 - acc: 0.9624\n",
      "Epoch 80/100\n",
      " - 0s - loss: 0.4759 - acc: 0.9674\n",
      "Epoch 81/100\n",
      " - 0s - loss: 0.4538 - acc: 0.9624\n",
      "Epoch 82/100\n",
      " - 0s - loss: 0.4437 - acc: 0.9674\n",
      "Epoch 83/100\n",
      " - 0s - loss: 0.4133 - acc: 0.9724\n",
      "Epoch 84/100\n",
      " - 0s - loss: 0.4033 - acc: 0.9674\n",
      "Epoch 85/100\n",
      " - 0s - loss: 0.3766 - acc: 0.9724\n",
      "Epoch 86/100\n",
      " - 0s - loss: 0.3659 - acc: 0.9774\n",
      "Epoch 87/100\n",
      " - 0s - loss: 0.3497 - acc: 0.9774\n",
      "Epoch 88/100\n",
      " - 0s - loss: 0.3404 - acc: 0.9825\n",
      "Epoch 89/100\n",
      " - 0s - loss: 0.3250 - acc: 0.9799\n",
      "Epoch 90/100\n",
      " - 0s - loss: 0.3078 - acc: 0.9875\n",
      "Epoch 91/100\n",
      " - 0s - loss: 0.3005 - acc: 0.9799\n",
      "Epoch 92/100\n",
      " - 0s - loss: 0.2826 - acc: 0.9875\n",
      "Epoch 93/100\n",
      " - 0s - loss: 0.2690 - acc: 0.9900\n",
      "Epoch 94/100\n",
      " - 0s - loss: 0.2564 - acc: 0.9875\n",
      "Epoch 95/100\n",
      " - 0s - loss: 0.2484 - acc: 0.9875\n",
      "Epoch 96/100\n",
      " - 0s - loss: 0.2464 - acc: 0.9850\n",
      "Epoch 97/100\n",
      " - 0s - loss: 0.2323 - acc: 0.9875\n",
      "Epoch 98/100\n",
      " - 0s - loss: 0.2187 - acc: 0.9900\n",
      "Epoch 99/100\n",
      " - 0s - loss: 0.2138 - acc: 0.9900\n",
      "Epoch 100/100\n",
      " - 0s - loss: 0.2102 - acc: 0.9925\n"
     ]
    },
    {
     "data": {
      "text/plain": [
       "<keras.callbacks.History at 0x7f48326984a8>"
      ]
     },
     "execution_count": 15,
     "metadata": {},
     "output_type": "execute_result"
    }
   ],
   "source": [
    "#MAY NEED TO ADJUST 100\n",
    "\n",
    "model.compile(loss='categorical_crossentropy', optimizer='adam', metrics=['accuracy'])\n",
    "# fit model\n",
    "model.fit(X, y, epochs=100, verbose=2)"
   ]
  },
  {
   "cell_type": "code",
   "execution_count": 27,
   "metadata": {},
   "outputs": [],
   "source": [
    "# generate a sequence of characters with a language model\n",
    "def generate_seq(model, mapping, seq_length, seed_lyric, n_chars):\n",
    "    lyrics = seed_lyric\n",
    "    for __ in range(n_chars):\n",
    "    # encode the characters as integers\n",
    "        encoded = [mapping[char] for char in lyrics]\n",
    "    # truncate sequences to a fixed length\n",
    "        encoded = pad_sequences([encoded], maxlen=seq_length, truncating='pre')\n",
    "    # one hot encode\n",
    "        encoded = to_categorical(encoded, num_classes=len(mapping))\n",
    "    # predict character\n",
    "        yhat = model.predict_classes(encoded, verbose=0)\n",
    "    # reverse map integer to character\n",
    "        out_char = ''\n",
    "        for char, index in mapping.items():\n",
    "            if index == yhat:\n",
    "                out_char = char\n",
    "                break\n",
    "    # append to input\n",
    "        lyrics += char\n",
    "    return lyrics"
   ]
  },
  {
   "cell_type": "code",
   "execution_count": 28,
   "metadata": {},
   "outputs": [
    {
     "name": "stdout",
     "output_type": "stream",
     "text": [
      "Song blacktind Ah poeee. The i\n"
     ]
    }
   ],
   "source": [
    "print(generate_seq(model,mapping,10,'Song black',20))"
   ]
  }
 ],
 "metadata": {
  "kernelspec": {
   "display_name": "NLP-country-song",
   "language": "python",
   "name": "nlp-country-song"
  },
  "language_info": {
   "codemirror_mode": {
    "name": "ipython",
    "version": 3
   },
   "file_extension": ".py",
   "mimetype": "text/x-python",
   "name": "python",
   "nbconvert_exporter": "python",
   "pygments_lexer": "ipython3",
   "version": "3.7.1"
  }
 },
 "nbformat": 4,
 "nbformat_minor": 2
}
