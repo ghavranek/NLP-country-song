{
 "cells": [
  {
   "cell_type": "markdown",
   "metadata": {},
   "source": [
    "<span style=\"font-size: 2em; font-weight:bold\">AI 70's Country</span>"
   ]
  },
  {
   "cell_type": "code",
   "execution_count": 11,
   "metadata": {},
   "outputs": [],
   "source": [
    "import scipy\n",
    "import numpy as np\n",
    "import matplotlib\n",
    "import pandas as pd\n",
    "import statsmodels\n",
    "import sklearn\n",
    "import tensorflow\n",
    "from keras.models import Sequential, load_model\n",
    "from keras.layers import Dense,LSTM\n",
    "from keras.utils import to_categorical\n",
    "from keras.preprocessing.sequence import pad_sequences\n",
    "import string\n",
    "import pyarrow as pa\n"
   ]
  },
  {
   "cell_type": "markdown",
   "metadata": {},
   "source": [
    "It was much easier to copy lyrics into a spreadsheet, save as csv, and then convert to straight text than it was to copy directly into a text document."
   ]
  },
  {
   "cell_type": "code",
   "execution_count": 2,
   "metadata": {},
   "outputs": [],
   "source": [
    "lyricsCSV = pd.read_csv('lyrics.csv',encoding='ISO-8859-1')\n",
    "lyricsCSV.to_csv('lyrics.txt',sep='\\t',index=False)\n",
    "l = open('lyrics.txt','r')\n",
    "lyrics = l.read()\n",
    "l.close()"
   ]
  },
  {
   "cell_type": "markdown",
   "metadata": {},
   "source": [
    "Remove lines and print"
   ]
  },
  {
   "cell_type": "code",
   "execution_count": 3,
   "metadata": {},
   "outputs": [
    {
     "name": "stdout",
     "output_type": "stream",
     "text": [
      "I beg your pardon I never promised you a rose garden Along with the sunshine There's gotta be a little rain some time When you take you gotta give so live and let live Or let go oh-whoa-whoa-whoa I beg your pardon I never promised you a rose garden I could promise you things like big diamond rings But you don't find roses growin' on stalks of clover So you better think it over Well if sweet-talkin' you could make it come true I would give you the world right now on a silver platter But what would it matter So smile for a while and let's be jolly Love shouldn't be so melancholy Come along and share the good times while we can I beg your pardon I never promised you a rose garden Along with the sunshine There's gotta be a little rain some time I beg your pardon I never promised you a rose garden I could sing you a tune and promise you the moon But if that's what it takes to hold you I'd just as soon let you go But there's one thing I want you to know You better look before you leap, still waters run deep And there won't always be someone there to pull you out And you know what I'm talkin' about So smile for a while and let's be jolly Love shouldn't be so melancholy Come along and share the good times while we can I beg your pardon I never promised you a rose garden Along with the sunshine There's gotta be a little rain some time I've been walkin' these streets so long Singin' the same old song I know every crack in these dirty sidewalks of Broadway Where hustle's the name of the game And nice guys get washed away like the snow and the rain There's been a load of compromisin' On the road to my horizon But I'm gonna be where the lights are shinin' on me Like a rhinestone cowboy Riding out on a horse in a star-spangled rodeo Like a rhinestone cowboy Getting cards and letters from people I don't even know And offers comin' over the phone Well, I really don't mind the rain And a smile can hide all the pain But you're down when you're ridin' the train that's takin' the long way And I dream of the things I'll do With a subway token and a dollar tucked inside my shoe There'll be a load of compromisin' On the road to my horizon But I'm gonna be where the lights are shinin' on me Like a rhinestone cowboy Riding out on a horse in a star-spangled rodeo Rhinestone cowboy Gettin' cards and letters from people I don't even know And offers comin' over the phone Like a rhinestone cowboy Riding out on a horse in a star-spangled rodeo Like a rhinestone cowboy Gettin' card and letters from people I don't even know Like a rhinestone cowboy Riding out on a horse in a star-spangled rodeo When ever I chance to meet, some old friends on the street They wonder how does a man get to be this way I've always got a smiling face, anytime & any place And every time they ask me why I just smile & say You've got to kiss an angel good morning And let her know you think about her when you're gone Kiss an angel good morning And love her like the devil when you get back home Well people may try to guess, the secret of my happiness But some of them never learn it's a simple thing The secret I'm speaking of, is a woman & a man in love And the answer is in this song that I always sing You've got to kiss an angel good morning And let her know you think about her when you're gone Kiss an angel good morning And love her like the devil when you get back home Kiss an angel good morning And let her know you think about her when you're gone Kiss an angel good morning And love her like the devil when you get back home I hear people talkin' bad, About the way they have to live here in this country Harpin' on the wars we fight And gripin' 'bout the way things oughta be And I don't mind 'em switchin' sides And standin' up for things they believe in But when they're runnin' down our country, man They're walkin' on the fightin' side of me They're walkin' on the fightin' side of me Runnin' down a way of life Our fightin' men have fought and died to keep If you don't love it, leave it Let this song that I'm singin' be a warnin' When you're runnin' down our country, hoss You're walkin' on the fightin' side of me I read about some squirrelly guy Who claims that he just don't believe in fightin' And I wonder just how long The rest of us can count on bein' free They love our milk and honey But they preach about some other way of livin' But when they're runnin' down our country, man They're walkin' on the fightin' side of me They're walkin' on the fightin' side of me Runnin' down the way of life Our fightin' men have fought and died to keep If you don't love it, leave it Let this song that I'm singin' be a warnin' When you're runnin' down our country, man You're walkin' on the fightin' side of me You're walkin' on the fightin' side of me Runnin' down the way of life Our fightin' men have fought and died to keep If you don't love it, leave it Let this song that I'm singin' be a warnin' When you're runnin' down our country, hoss You're walkin' on the fightin' side of me Don't know when I've been so blue Don't know what's come over you You've found someone new and Don't it make my brown eyes blue I'll be fine when you're gone I'll just cry all night long Say it isn't true and Don't it make my brown eyes blue Tell me no secrets, tell me some lies Give me no reasons, give me alibies Tell me you love me and don't let me cry Say anything but don't say goodbye I didn't mean to treat you bad Didn't know just what I had But honey now I do And don't it make my brown eyes Don't it make my brown eyes Don't it make my brown eyes blue Well I woke up Sunday morning With no way to hold my head That didn't hurt And the beer I had for breakfast wasn't Bad so I had one more for dessert Then I fumbled through my closet For my clothes And found my cleanest dirty shirt And I shaved my face And combed my hair And stumbled down the stairs To meet the day I'd smoked my brain the night before With cigarettes and songs That I've been pickin' But I lit my first and watched a small kid Cussin' at a can that he was kickin Then I crossed the empty street and Caught the sunday smell Of someone fryin chicken And it took me back to something That I'd lost somehow Somewhere along the way On the sunday morning sidewalk Wishing lord that I was stoned Cause there's something in a sunday That makes a body feel alone And there's nothing short of dying Half as lonesome as the sound On the sleeping city sidewalk Sunday morning coming down In the park I saw a daddy With a laughing little girl He was swingin And I stopped beside the Sunday school And listened to the song That they were singing Then I headed back for home And somewhere far away A lonely bell was ringing And it echoed thru the canyon like The disappearing dreams of yesterday On the sunday morning sidewalk Wishing lord that I was stoned Cause therels something in a sunday That makes a body feel alone And there's nothing short of dying Half as lonesome as the sound On the sleeping city sidewalk Sunday morning coming down Almost heaven, West Virginia Blue Ridge Mountains, Shenandoah River Life is old there, older than the trees Younger than the mountains, blowing like a breeze Country roads, take me home To the place I belong West Virginia, mountain mama Take me home, country roads All my memories gather round her Miner's lady, stranger to blue water Dark and dusty, painted on the sky Misty taste of moonshine, teardrop in my eye Country roads, take me home To the place I belong West Virginia, mountain mama Take me home, country roads I hear her voice, in the morning hour she calls me The radio reminds me of my home far away And driving down the road I get a feeling That I should have been home yesterday, yesterday Country roads, take me home To the place I belong West Virginia, mountain mama Take me home, country roads Country roads, take me home To the place I belong West Virginia, mountain mama Take me home, country roads Take me home, down country roads Take me home, down country roads Well life on the farm is kinda laid back Ain't much an old country boy like me can't hack It's early to rise, early in the sack Thank God I'm a country boy Well a simple kinda life never did me no harm A raisin' me a family and workin' on a farm My days are all filled with an easy country charm Thank God I'm a country boy Well I got me a fine wife I got me an ole fiddle When the sun's comin' up I got cakes on the griddle Life ain't nothin' but a funny funny riddle Thank God I'm a country boy When the work's all done and the sun's settlin' low I pull out my fiddle and I rosin up the bow The kids are asleep so I keep it kinda low Thank God I'm a country boy I'd play Sally Goodin all day if I could But the Lord and my wife wouldn't take it very good So I fiddle when I can, work when I should Thank God I'm a country boy Well I got me a fine wife I got me an ole fiddle When the sun's comin' up I got cakes on the griddle Life ain't nothin' but a funny funny riddle Thank God I'm a country boy Well I wouldn't trade my life for diamonds and jewels I never was one of them money hungry fools I'd rather have my fiddle and my farmin' tools Thank God I'm a country boy Yeah, city folk drivin' in a black limousine A lotta sad people thinkin' that's mighty keen Son, let me tell ya now exactly what I mean Thank God I'm a country boy Well I got me a fine wife I got me an ole fiddle When the sun's comin' up I got cakes on the griddle Life ain't nothin' but a funny funny riddle Thank God I'm a country boy Well, my fiddle was my daddy's till the day he died And he took me by the hand and held me close to his side \"Said, \"\"Live a good life and play the fiddle with pride\" And thank God you're a country boy My daddy taught me young how to hunt and how to whittle Taught me how to work and play a tune on the fiddle Taught me how to love and how to give just a little Thank God I'm a country boy Well I got me a fine wife I got me an ole fiddle When the sun's comin' up I got cakes on the griddle Life ain't nothin' but a funny funny riddle Thank God I'm a country boy If I should stay I would only be in your way And so I'll go, but I know I'll think of you each step of the way And I will always love you I will always love you Bitter-sweet memories That's all I'm taking with me Good-bye, please don't cry Cause we both know that I'm not What you need I will always love you I will always love you I hope life, treats you kind And I hope that you have all That you ever dreamed of I wish you joy And I wish you happiness But above all this I wish you love And I love you will always love you I, I will always, always love you I will always love you I will always love you I will always love you Rain dripping off the brim of my hat It sure is cold today And here I am'a walking down sixty-six Wish she hadn't done me that way Sleeping under a table at a road side park A man could wake up dead But it sure seems warmer than it did Sleepin' in our king size bed Is anybody goin' to San Antone Or Phoenix Arizona Anyplace is alright as long as I Can forget I've ever known her Wind whipping down the neck of my shirt Like I aint got nothing on But I'd rather fight the wind and rain Than what I've been fighting at home Yonder comes a truck with the US mail People writing letters back home Tomorrow she'll probably want me back But I'll still be just as gone Is anybody goin' to San Antone Or Phoenix Arizona Anyplace is alright as long as I Can forget I've ever known her Anyplace is alright as long as I Forget I've ever known her Cowboys ain't easy to love and they're harder to hold They'd rather give you a song then diamonds or gold Lonestar belt buckles and old faded Levi's and each night begins a new day If you don't understand him and he don't die young He'll probably just ride away Mamas' don't let your babies grow up to be cowboys Don't let 'em pick guitars or drive them old trucks Let 'em be doctors and lawyers and such Mamas' don't let your babies grow up to be cowboys Cause they'll never stay home and they're always alone Even with someone they love Cowboys like smokey old pool rooms and clear mountain mornin's Little warm puppies and children and girls of the night Them that don't know him won't like him And them that do sometimes won't know how to take him He ain't wrong he's just different But his pride won't let him do things to make you think he's right Mama don't let your babies grow up to be cowboys Don't let 'em pick guitars and drive them old trucks Let 'em be doctors and lawyers and such Mama don't let your babies grow up to be cowboys Cause they'll never stay home and they're always alone Even with someone they love Mamas' don't let your babies grow up to be cowboys Don't let 'em pick guitars and drive them old trucks Let 'em be doctors and lawyers and such Honey, I know I've said it too many times before I said I'd never say it again I guess I shouldn't say anything at all since you're supposed to belong to him. But I just can't let you go without telling you just how much I love you. So that is why I'm gonna say it one more time Honey, come back I just can't stand Each lonely day's a little bit longer Than the last time I held you Seems like a hundred years ago Back to his arms and never know The joy of love that used to taste like Honey, come back where you belong to only me. Well, I guess that's about all I gotta say. So I'm just gonna take my bags and I'm gonna walk. I know those bright lights are callin' ya, honey. Big fine cars and fancy clothes. But if you ever want somebody to just love ya, and some day you Just may, just give me a call-you know where I am And here is what I'll say Honey, come back I just can't stand Each lonely day's a little bit longer Than the last time I held you Seems like a hundred years ago Back to his arms and never know The joy of love that used to taste like Honey, come back where you belong to only me. Honey, come back where you belong to only me. Honey, come back Where you belong to only me. Honey, come back where you belong to only me. People see us everywhere they all think you really care But myself I can't deceive I know it's only make believe My one and only prayer is that some day you'll care My hopes my dreams come true my one and only you No one will ever know how much I love you so My only prayer will be some day you'll care for me but it's only make believe My hopes my dreams come true my life I give for you My heart or wedding ring my all my everything My heart I can't control you lure my very soul My plans my hopes my schemes you are my every dream but it's only make believe My one and only prayer is that some day you'll care My hopes my dreams come true my one and only you No one will ever know just how much I love you so My only prayer will be that some day you'll care for me but it's only make believe Delta Dawn, what's that flower you have on? Could it be a faded rose from days gone by? And did I hear you say he was a-meeting you here today To take you to his mansion in the sky? \"She's forty-one and her daddy still calls her \"\"baby\"\"\" All the folks around Brownsville say she's crazy Cause she walks dowtown with a suitcase in her hand Looking for a mysterious dark-haired man In her younger days they called her Delta Dawn Prettiest woman you ever laid eyes on Then a man of low degree stood by her side And promised her he'd take her for his bride Delta Dawn, what's that flower you have on? Could it be a faded rose from days gone by? And did I hear you say he was a-meeting you here today To take you to his mansion in the sky? Delta Dawn, what's that flower you have on? Could it be a faded rose from days gone by? And did I hear you say he was a-meeting you here today To take you to his mansion in the sky? Delta Dawn, what's that flower you have on? Could it be a faded rose from days gone by? And did I hear you say he was a-meeting you here today To take you to his mansion in the sky? Delta Dawn, what's that flower you have on? Could it be a faded rose from days gone by? And did I hear you say he was a-meeting you here today To take you to his mansion in the sky? Everyone considered him the coward of the county He'd never stood one single time to prove the county wrong His mama named him Tommy, but folks just called him yellow Something always told me they were reading Tommy wrong He was only ten years old when his daddy died in prison I looked after Tommy, 'cause he was my brother's son I still recall the final words my brother said to Tommy \"\"\"Son, my life is over, but yours has just begun\"\"\" \"\"\"Promise me, son, not to do the things I've done\" Walk away from trouble if you can It won't mean you're weak if you turn the other cheek I hope you're old enough to understand \"Son, you don't have to fight to be a man\"\"\" There's someone for everyone, and Tommy's love was Becky In her arms, he didn't have to prove he was a man One day while he was working, the Gatlin boys came calling They took turns at Becky, n'there was three of them Tommy opened up the door, and saw his Becky crying The torn dress, the shattered look was more than he could stand He reached above the fireplace, and took down his daddy's picture As the tears fell on his daddy's face, he heard these words again \"\"\"Promise me, son, not to do the things I've done\" Walk away from trouble if you can Now, it won't mean you're weak if you turn the other cheek I hope you're old enough to understand \"Son, you don't have to fight to be a man\"\"\" The Gatlin boys just laughed at him when he walked into the barroom One of them got up and met him halfway 'cross the floor \"When Tommy turned around they said, \"\"hey look, old yeller's leaving\"\"\" But you could've heard a pin drop when Tommy stopped and locked the door Twenty years of crawling was bottled up inside him He wasn't holding nothin' back, he let 'em have it all When Tommy left the barroom, not a Gatlin boy was standing \"He said, \"\"this one's for Becky, as he watched the last one fall\" \"\"\"I promised you, Dad, not to do the things you've done\" I walk away from trouble when I can Now please don't think I'm weak, I didn't turn the other cheek And papa, I sure hope you understand \"Sometimes you gotta fight when you're a man\"\"\" There goes my only possession There goes my everything I hear footsteps slowly walking As they gently walk across the lonely floor And a voice is softly saying Darling this will be goodbye for evermore There goes my reason for living There goes the one of my dreams There goes my only possession Oh there goes my everything As my memory turns back the pages I can see the happy years we've had before Now the love that kept this old heart beating Has been shattered by the closing of the door There goes my reason for living There goes the one of my dreams Well there goes my only possession Oh there goes my everything There goes my only possession Oh there goes my everything A long time forgotten are dreams that just fell by the way The good life he promised ain't what she's living today But she never complains of the bad times or bad things he's done, Lord She just talks about the good times they've had and all the good times to come She's a good-hearted woman in love with a good-timin' man She loves him in spite of his ways that she don't understand Through teardrops and laughter, they'll pass through this world hand-in-hand, A good-hearted woman loving her good timing man He like the night life, the bright lights and good-timin' friends When the party's all over she'll welcome him back home again Lord knows she don't understand him, but she does the best that she can Cause she's a good-hearted woman; she loves her good timin' man She's a good-hearted woman in love with a good-timin' man She loves him in spite of his ways that she don't understand Through teardrops and laughter, they'll pass through this world hand-in-hand, A good-hearted woman loving her good timing man Jolene, Jolene, Jolene, Jolene I'm begging of you please don't take my man Jolene, Jolene, Jolene, Jolene Please don't take him just because you can Your beauty is beyond compare With flaming locks of auburn hair With ivory skin and eyes of emerald green Your smile is like a breath of spring Your voice is soft like summer rain And I cannot compete with you Jolene He talks about you in his sleep And there's nothing I can do to keep From crying when he calls your name Jolene And I can easily understand How you could easily take my man But you don't know what he means to me Jolene Jolene, Jolene, Jolene, Jolene I'm begging of you please don't take my man Jolene, Jolene, Jolene, Jolene Please don't take him just because you can You could have your choice of men But I could never love again He's the only one for me Jolene I had to have this talk with you My happiness depends on you And whatever you decide to do Jolene Jolene, Jolene, Jolene, Jolene I'm begging of you please don't take my man Jolene, Jolene, Jolene, Jolene Please don't take him even though you can Jolene, Jolene Well, I was borned a coal miner's daughter In a cabin, on a hill in Butcher Holler We were poor but we had love That's the one thing that daddy made sure of He shoveled coal to make a poor man's dollar My daddy worked all night in the Van Lear coal mines All day long in the field a hoin' corn Mommy rocked the babies at night And read the Bible by the coal oil light And ever' thing would start all over come break of morn Daddy loved and raised eight kids on a miner's pay Mommy scrubbed our clothes on a washboard ever' day Why I've seen her fingers bleed To complain, there was no need She'd smile in mommy's understanding way In the summertime we didn't have shoes to wear But in the wintertime we'd all get a brand new pair From a mail order catalog Money made from selling a hog Daddy always managed to get the money somewhere Yeah, I'm proud to be a coal miner's daughter I remember well, the well where I drew water The work we done was hard At night we'd sleep 'cause we were tired I never thought of ever leaving Butcher Holler Well a lot of things have changed since a way back then And it's so good to be back home again Not much left but the floor, nothing lives here anymore Except the memory of a coal miner's daughter I cried a tear, you wiped it dry I was confused, you cleared my mind I sold my soul, you bought it back for me And held me up and gave me dignity Somehow you needed me You gave me strength to stand alone again To face the world out on my own again You put me high upon a pedestal So high that I could almost see eternity You needed me, you needed me And I can't believe it's you I can't believe it's true I needed you and you were there And I'll never leave, why should I leave? I'd be a fool 'cause I finally found someone who really cares You held my hand when it was cold When I was lost you took me home You gave me hope when I was at the end And turned my lies back into truth again \"You even called me \"\"friend\"\"\" You gave me strength to stand alone again To face the world out on my own again You put me high upon a pedestal So high that I could almost see eternity You needed me, you needed me You needed me, you needed me Well me and Homer Jones and Big John Talley Had a big crap game goin' back in the alley And I kept rollin' them sevens , winnin' all them pots My luck was so good I could do no wrong I jest kept on rollin' and controllin' them bones And finally they jest threw up their hands and said \"\"\"When you hot, you hot\"\"\" \"I said \"\"Yeah?\"\"\" When you're hot, you're hot And when you're not, you're not Put all the money in and let's roll 'em again When you're hot, you're hot (La la la la la la la) (La la la la la) (La la la la la la la, when you're hot, you're hot) Well, now every time I rolled them dice I'd win And I was just gettin' ready to roll 'em again When I heard somethin' behind me I turned around and there was a big old cop \"He said \"\"Hello, boys\"\" and then he gave us a grin 'n' said\" \"\"\"Look like I'm gonna hafta haul you all in\" \"And keep all that money for evidence\"\"\" \"I said, \"\"Well, son when you hot, you hot\"\"\" \"He said \"\"Yeah\"\"\" When you're hot, you're hot And when you're not, you're not You can 'splain it all down at City Hall I say, yeah, when you're hot, you're hot You're hot (La la la la la la la) (La la la la la) (La la la la la la la, when you're hot, you're hot) Well, when he took us inta court I couldn't believe my eyes The judge was a fishin' buddy that I recognized \"I said \"\"Hey, judge, old buddy, old pal\"\"\" \"\"\"I'll pay ya that hundred I owe ya if you'll get me outta this spot\"\"\" So he gave my friends a little fine to pay He turned around and grinned at me and said \"\"\"Ninety days, Jerry, when you hot, you hot\"\"\" \"n' I said \"\"Thanks a lot\"\"\" When you're hot, you're hot And when you're not, you're not He let my friends go free and throwed the book at me \"He said \"\"Well, when you're hot, you're hot\"\"\" \"I said \"\"well I'll tell ya one thing judge, old buddy, old pal\"\"\" \"\"\"If you wasn't wearin' that black robe I'd take out in back of this courthouse\" \"\"\"And I'd try a little bit of your honor on\"\"\" \"\"\"You understand that, you hillbilly?\"\"\" \"\"\"Who gonna collect my welfare?\"\"\" \"(When you're hot, you're hot\"\")\" \"\"\"Pay for my Cadillac?\"\"\" \"Whadda you mean 'contempt of court'?\"\"\" \"(When you're hot, you're hot\"\")\" \"\"\"Judge\"\"\" The only two things in life that make it worth livin' Is guitars that tune good and firm feelin' women I don't need my name in the marquee lights I got my song and I got you with me tonight Maybe it's time we got back to the basics of love Let's go to Luckenbach, Texas With Waylon and Willie and the boys This successful life we're livin' Got us feuding like the Hatfields and McCoys Between Hank Williams' pain songs and Newberry's train songs and Blue Eyes Cryin' in the Rain Out in Luckenbach, Texas ain't nobody feelin' no pain So baby, let's sell your diamond ring Buy some boots and faded jeans and go away This coat and tie is choking me In your high society you cry all day We've been so busy keepin' up with the Jones Four car garage and we're still building on Maybe it's time we got back to the basics of love Let's go to Luckenbach, Texas With Waylon and Willie and the boys This successful life we're livin' got us feudin' Like the Hatfield and McCoys Between Hank Williams' pain songs and Newberry's train songs and Blue Eyes Cryin' in the Rain Out in Luckenbach, Texas ain't nobody feelin' no pain Let's go to Luckenbach, Texas Willie and Waylon and the boys This successful life we're livin's got us feudin' Like the Hatfield and McCoys Between Hank Williams' pain songs And Jerry Jeff's train songs and Blue Eyes Cryin' in the Rain Out in Luckenbach, Texas there ain't nobody feelin' no pain Here you come again Just when I've begun to get myself together You waltz right in the door Just like you've done before And wrap my heart 'round your little finger Here you come again Just when I'm about to make it work without you You look into my eyes and lie those pretty lies And pretty soon I'm wond'rin how I came to doubt you. All you gotta do is smile that smile And there go all my defenses Just leave it up to you and in a little while You're messin' up my mind and fillin' up my senses Here you come again lookin' better than a body has a right to And shakin' me up so that all I really know Is here you come again and here I go All you gotta do is smile that smile And there got all my defenses Just leave it up to you and in a little while You're messin' up my mind and fillin' up my senses Here you come again lookin' better than a body has a right to And shakin' me up so that all I really know Is here you come again, and here I go, here I go And here I go And here I go Here you come again and here I go Here I go Shine on me sunshine Walk with me world It's a skippidity do da day I'm the happiest girl, in the whole U.S.A. Good morning morning Hello sunshine Wake up sleepy head Why'd we move that bojangle clock so far away from the bed Just one more minute That's why we moved it One more hug would do Do you love waking up next to me As much as I love waking up next to you You make the coffee I'll make the bed I'll fix your lunch And you fix mine Now tell me the truth Do these old shoes look funny Honey it's almost nine Now you be careful Gotta go, I love you Have a beautiful day, And kiss the happiest girl, in the whole U.S.A. Skippidity do da Thank you oh Lord for making him for me And thank you for letting life turn out the way That I always thought it could be There once was a time when I could not imagine How it would feel to say I'm happiest girl, in the whole U.S.A Now shine on me sunshine Walk with me world It's a skippidity do da day I'm the happiest girl, in the whole U.S.A. Shine on me sunshine Walk with me world It's a skippidity do da day I'm the happiest girl, in the whole U.S.A. Shine on me sunshine Walk with me world It's a skippidity do da day I'm the happiest girl, in the whole U.S.A. If I were a carpenter And you were a lady Would you marry me anyway Would you have my baby? If you were a carpenter And I were a lady I'd marry you anyway I'd have your baby If a tinker was my trade Would I still find you I'd be carrying the pots you made Following behind you Save your love through loneliness Save your love through sorrow I gave you my onlyness Give me your tomorrow If I were a miller And a mill wheel grinding Would you miss your colored blouse And your soft shoes shining? If you were a miller And a mill wheel grinding I'd not miss my colored blouse And my soft shoes shining Save your love through loneliness Save your love through sorrow I gave you my onlyness Give me your tomorrow If I worked my hands on wood Would you still love me? I'd answer you yes I would And would you not be above me? If I were a carpenter And you were a lady I'd marry you anyway I'd have your baby Save your love through loneliness Save your love through sorrow I gave you my onlyness Give me your tomorrow\n"
     ]
    }
   ],
   "source": [
    "tokens = lyrics.split()\n",
    "lyrics = ' '.join(tokens)\n",
    "print(lyrics)"
   ]
  },
  {
   "cell_type": "markdown",
   "metadata": {},
   "source": [
    "We will build sequences of characters that will then be used to predict a final character"
   ]
  },
  {
   "cell_type": "code",
   "execution_count": 4,
   "metadata": {},
   "outputs": [],
   "source": [
    "length = 100 # Length of the characer sequences (because we have so much verbage,\n",
    "             # we can use a relatively large number)\n",
    "sequences = list()\n",
    "for i in range(length, len(lyrics)):\n",
    "    seq = lyrics[i-length:i+1]\n",
    "    sequences.append(seq)"
   ]
  },
  {
   "cell_type": "markdown",
   "metadata": {},
   "source": [
    "Create and save a .txt file of our sequences with line endings"
   ]
  },
  {
   "cell_type": "code",
   "execution_count": 5,
   "metadata": {},
   "outputs": [],
   "source": [
    "data = '\\n'.join(sequences)\n",
    "file = open('char_sequences.txt','w')\n",
    "file.write(data)\n",
    "file.close()"
   ]
  },
  {
   "cell_type": "markdown",
   "metadata": {},
   "source": [
    "Create a dictionary of character:number mappings "
   ]
  },
  {
   "cell_type": "code",
   "execution_count": 6,
   "metadata": {},
   "outputs": [],
   "source": [
    "file = open('char_sequences.txt','r')\n",
    "raw_text = file.read()\n",
    "file.close()\n",
    "\n",
    "lines = raw_text.split('\\n')\n",
    "\n",
    "chars = sorted(list(set(raw_text)))\n",
    "mapping = dict((c, i) for i, c in enumerate(chars))"
   ]
  },
  {
   "cell_type": "markdown",
   "metadata": {},
   "source": [
    "Use the dictionary to create sequences of numbers only (numbers that describe the characters)"
   ]
  },
  {
   "cell_type": "code",
   "execution_count": 7,
   "metadata": {},
   "outputs": [
    {
     "name": "stderr",
     "output_type": "stream",
     "text": [
      "IOPub data rate exceeded.\n",
      "The notebook server will temporarily stop sending output\n",
      "to the client in order to avoid crashing it.\n",
      "To change this limit, set the config variable\n",
      "`--NotebookApp.iopub_data_rate_limit`.\n",
      "\n",
      "Current values:\n",
      "NotebookApp.iopub_data_rate_limit=1000000.0 (bytes/sec)\n",
      "NotebookApp.rate_limit_window=3.0 (secs)\n",
      "\n"
     ]
    }
   ],
   "source": [
    "sequences = list()\n",
    "for line in lines:\n",
    "    encoded_seq = [mapping[char] for char in line]\n",
    "    sequences.append(encoded_seq)\n",
    "    \n",
    "print(sequences)"
   ]
  },
  {
   "cell_type": "markdown",
   "metadata": {},
   "source": [
    "Create input sets (with 99 characters) and output sets (1 character) and then one-hot code the sets so we can use them to train the model."
   ]
  },
  {
   "cell_type": "code",
   "execution_count": 9,
   "metadata": {},
   "outputs": [],
   "source": [
    "vocab_size = len(mapping)\n",
    "sequences = np.array(sequences)\n",
    "X, y = sequences[:,:-1], sequences[:,-1]\n",
    "sequences = [to_categorical(x, num_classes=vocab_size) for x in X] #one-hot code input\n",
    "X = np.array(sequences)\n",
    "y = to_categorical(y, num_classes=vocab_size) #one-hot code output"
   ]
  },
  {
   "cell_type": "markdown",
   "metadata": {},
   "source": [
    "Fit the model  (<span style=\"color: red\">this may take some time</span>)"
   ]
  },
  {
   "cell_type": "code",
   "execution_count": 18,
   "metadata": {
    "scrolled": false
   },
   "outputs": [
    {
     "name": "stdout",
     "output_type": "stream",
     "text": [
      "Epoch 1/100\n",
      "29904/29904 [==============================] - 378s 13ms/step - loss: 2.6382 - acc: 0.2929\n",
      "Epoch 2/100\n",
      "29904/29904 [==============================] - 378s 13ms/step - loss: 2.0663 - acc: 0.4072\n",
      "Epoch 3/100\n",
      "29904/29904 [==============================] - 375s 13ms/step - loss: 1.7803 - acc: 0.4848\n",
      "Epoch 4/100\n",
      "29904/29904 [==============================] - 371s 12ms/step - loss: 1.5133 - acc: 0.5593\n",
      "Epoch 5/100\n",
      "29904/29904 [==============================] - 378s 13ms/step - loss: 1.2440 - acc: 0.6419\n",
      "Epoch 6/100\n",
      "29904/29904 [==============================] - 443s 15ms/step - loss: 0.9956 - acc: 0.7102\n",
      "Epoch 7/100\n",
      "29904/29904 [==============================] - 466s 16ms/step - loss: 0.7891 - acc: 0.7715\n",
      "Epoch 8/100\n",
      "29904/29904 [==============================] - 470s 16ms/step - loss: 0.6106 - acc: 0.8230\n",
      "Epoch 9/100\n",
      "29904/29904 [==============================] - 416s 14ms/step - loss: 0.4684 - acc: 0.8655\n",
      "Epoch 10/100\n",
      "29904/29904 [==============================] - 382s 13ms/step - loss: 0.3531 - acc: 0.9013\n",
      "Epoch 11/100\n",
      "29904/29904 [==============================] - 1116s 37ms/step - loss: 0.2623 - acc: 0.9306\n",
      "Epoch 12/100\n",
      "29904/29904 [==============================] - 1205s 40ms/step - loss: 0.2105 - acc: 0.9470\n",
      "Epoch 13/100\n",
      "29904/29904 [==============================] - 1220s 41ms/step - loss: 0.1696 - acc: 0.9580\n",
      "Epoch 14/100\n",
      "29904/29904 [==============================] - 1149s 38ms/step - loss: 0.1456 - acc: 0.9654\n",
      "Epoch 15/100\n",
      "29904/29904 [==============================] - 944s 32ms/step - loss: 0.1333 - acc: 0.9682\n",
      "Epoch 16/100\n",
      "29904/29904 [==============================] - 1096s 37ms/step - loss: 0.1219 - acc: 0.9713\n",
      "Epoch 17/100\n",
      "29904/29904 [==============================] - 1087s 36ms/step - loss: 0.1267 - acc: 0.9696\n",
      "Epoch 18/100\n",
      "29904/29904 [==============================] - 1092s 37ms/step - loss: 0.1043 - acc: 0.9758\n",
      "Epoch 19/100\n",
      "29904/29904 [==============================] - 1199s 40ms/step - loss: 0.1068 - acc: 0.9739\n",
      "Epoch 20/100\n",
      "29904/29904 [==============================] - 983s 33ms/step - loss: 0.0954 - acc: 0.9771\n",
      "Epoch 21/100\n",
      "29904/29904 [==============================] - 1087s 36ms/step - loss: 0.1037 - acc: 0.9742\n",
      "Epoch 22/100\n",
      "29904/29904 [==============================] - 1337s 45ms/step - loss: 0.0971 - acc: 0.9755\n",
      "Epoch 23/100\n",
      "29904/29904 [==============================] - 1079s 36ms/step - loss: 0.0905 - acc: 0.9771\n",
      "Epoch 24/100\n",
      "29904/29904 [==============================] - 933s 31ms/step - loss: 0.0817 - acc: 0.9808\n",
      "Epoch 25/100\n",
      "29904/29904 [==============================] - 1038s 35ms/step - loss: 0.0757 - acc: 0.9824\n",
      "Epoch 26/100\n",
      "29904/29904 [==============================] - 1057s 35ms/step - loss: 0.1038 - acc: 0.9720\n",
      "Epoch 27/100\n",
      "29904/29904 [==============================] - 1024s 34ms/step - loss: 0.0917 - acc: 0.9754\n",
      "Epoch 28/100\n",
      "29904/29904 [==============================] - 1047s 35ms/step - loss: 0.0746 - acc: 0.9817\n",
      "Epoch 29/100\n",
      "29904/29904 [==============================] - 1057s 35ms/step - loss: 0.0772 - acc: 0.9809\n",
      "Epoch 30/100\n",
      "29904/29904 [==============================] - 1047s 35ms/step - loss: 0.0899 - acc: 0.9761\n",
      "Epoch 31/100\n",
      "29904/29904 [==============================] - 992s 33ms/step - loss: 0.0953 - acc: 0.9744\n",
      "Epoch 32/100\n",
      "29904/29904 [==============================] - 1107s 37ms/step - loss: 0.0732 - acc: 0.9807\n",
      "Epoch 33/100\n",
      "29904/29904 [==============================] - 997s 33ms/step - loss: 0.0627 - acc: 0.9840\n",
      "Epoch 34/100\n",
      "29904/29904 [==============================] - 1119s 37ms/step - loss: 0.0804 - acc: 0.9789\n",
      "Epoch 35/100\n",
      "29904/29904 [==============================] - 978s 33ms/step - loss: 0.0856 - acc: 0.9770\n",
      "Epoch 36/100\n",
      "29904/29904 [==============================] - 1099s 37ms/step - loss: 0.0739 - acc: 0.9805\n",
      "Epoch 37/100\n",
      "29904/29904 [==============================] - 1073s 36ms/step - loss: 0.0676 - acc: 0.9821\n",
      "Epoch 38/100\n",
      "29904/29904 [==============================] - 1031s 34ms/step - loss: 0.0718 - acc: 0.9805\n",
      "Epoch 39/100\n",
      "29904/29904 [==============================] - 927s 31ms/step - loss: 0.0747 - acc: 0.9793\n",
      "Epoch 40/100\n",
      "29904/29904 [==============================] - 940s 31ms/step - loss: 0.0701 - acc: 0.9813\n",
      "Epoch 41/100\n",
      "29904/29904 [==============================] - 1119s 37ms/step - loss: 0.0666 - acc: 0.9827\n",
      "Epoch 42/100\n",
      "29904/29904 [==============================] - 949s 32ms/step - loss: 0.0664 - acc: 0.9820\n",
      "Epoch 43/100\n",
      "29904/29904 [==============================] - 1032s 35ms/step - loss: 0.0666 - acc: 0.9824\n",
      "Epoch 44/100\n",
      "29904/29904 [==============================] - 1024s 34ms/step - loss: 0.0633 - acc: 0.9829\n",
      "Epoch 45/100\n",
      "29904/29904 [==============================] - 1059s 35ms/step - loss: 0.0632 - acc: 0.9836\n",
      "Epoch 46/100\n",
      "29904/29904 [==============================] - 1047s 35ms/step - loss: 0.0632 - acc: 0.9835\n",
      "Epoch 47/100\n",
      "29904/29904 [==============================] - 1135s 38ms/step - loss: 0.0726 - acc: 0.9801\n",
      "Epoch 48/100\n",
      "29904/29904 [==============================] - 1003s 34ms/step - loss: 0.0649 - acc: 0.9830\n",
      "Epoch 49/100\n",
      "29904/29904 [==============================] - 1055s 35ms/step - loss: 0.0516 - acc: 0.9866\n",
      "Epoch 50/100\n",
      "29904/29904 [==============================] - 1025s 34ms/step - loss: 0.0512 - acc: 0.9870\n",
      "Epoch 51/100\n",
      "29904/29904 [==============================] - 961s 32ms/step - loss: 0.0760 - acc: 0.9788\n",
      "Epoch 52/100\n",
      "29904/29904 [==============================] - 1126s 38ms/step - loss: 0.0668 - acc: 0.9814\n",
      "Epoch 53/100\n",
      "29904/29904 [==============================] - 1018s 34ms/step - loss: 0.0539 - acc: 0.9849\n",
      "Epoch 54/100\n",
      "29904/29904 [==============================] - 1031s 34ms/step - loss: 0.0506 - acc: 0.9867\n",
      "Epoch 55/100\n",
      "29904/29904 [==============================] - 1123s 38ms/step - loss: 0.0658 - acc: 0.9826\n",
      "Epoch 56/100\n",
      "29904/29904 [==============================] - 1056s 35ms/step - loss: 0.0655 - acc: 0.9819\n",
      "Epoch 57/100\n",
      "29904/29904 [==============================] - 976s 33ms/step - loss: 0.0410 - acc: 0.9894\n",
      "Epoch 58/100\n",
      "29904/29904 [==============================] - 1045s 35ms/step - loss: 0.0416 - acc: 0.9890\n",
      "Epoch 59/100\n",
      "29904/29904 [==============================] - 981s 33ms/step - loss: 0.0633 - acc: 0.9830\n",
      "Epoch 60/100\n",
      "29904/29904 [==============================] - 1056s 35ms/step - loss: 0.0814 - acc: 0.9762\n",
      "Epoch 61/100\n",
      "29904/29904 [==============================] - 1046s 35ms/step - loss: 0.0474 - acc: 0.9874\n",
      "Epoch 62/100\n",
      "29904/29904 [==============================] - 1185s 40ms/step - loss: 0.0368 - acc: 0.9910\n",
      "Epoch 63/100\n",
      "29904/29904 [==============================] - 1196s 40ms/step - loss: 0.0368 - acc: 0.9911\n",
      "Epoch 64/100\n",
      "29904/29904 [==============================] - 1195s 40ms/step - loss: 0.0672 - acc: 0.9810\n",
      "Epoch 65/100\n",
      "29904/29904 [==============================] - 1123s 38ms/step - loss: 0.0772 - acc: 0.9772\n",
      "Epoch 66/100\n",
      "29904/29904 [==============================] - 995s 33ms/step - loss: 0.0403 - acc: 0.9894\n",
      "Epoch 67/100\n",
      "29904/29904 [==============================] - 1008s 34ms/step - loss: 0.0310 - acc: 0.9916\n",
      "Epoch 68/100\n",
      "29904/29904 [==============================] - 1060s 35ms/step - loss: 0.0466 - acc: 0.9881\n",
      "Epoch 69/100\n",
      "29904/29904 [==============================] - 1103s 37ms/step - loss: 0.0764 - acc: 0.9787\n",
      "Epoch 70/100\n",
      "29904/29904 [==============================] - 998s 33ms/step - loss: 0.0453 - acc: 0.9878\n",
      "Epoch 71/100\n",
      "29904/29904 [==============================] - 933s 31ms/step - loss: 0.0364 - acc: 0.9906\n",
      "Epoch 72/100\n",
      "29904/29904 [==============================] - 1146s 38ms/step - loss: 0.0356 - acc: 0.9912\n",
      "Epoch 73/100\n",
      "29904/29904 [==============================] - 964s 32ms/step - loss: 0.0631 - acc: 0.9832\n",
      "Epoch 74/100\n",
      "29904/29904 [==============================] - 1049s 35ms/step - loss: 0.0633 - acc: 0.9824\n",
      "Epoch 75/100\n",
      "29904/29904 [==============================] - 1024s 34ms/step - loss: 0.0383 - acc: 0.9892\n",
      "Epoch 76/100\n",
      "29904/29904 [==============================] - 1135s 38ms/step - loss: 0.0293 - acc: 0.9928\n",
      "Epoch 77/100\n",
      "29904/29904 [==============================] - 961s 32ms/step - loss: 0.0472 - acc: 0.9872\n",
      "Epoch 78/100\n",
      "29904/29904 [==============================] - 968s 32ms/step - loss: 0.0672 - acc: 0.9817\n",
      "Epoch 79/100\n"
     ]
    },
    {
     "name": "stdout",
     "output_type": "stream",
     "text": [
      "29904/29904 [==============================] - 1143s 38ms/step - loss: 0.0445 - acc: 0.9872\n",
      "Epoch 80/100\n",
      "29904/29904 [==============================] - 1005s 34ms/step - loss: 0.0309 - acc: 0.9920\n",
      "Epoch 81/100\n",
      "29904/29904 [==============================] - 1076s 36ms/step - loss: 0.0305 - acc: 0.9926\n",
      "Epoch 82/100\n",
      "29904/29904 [==============================] - 1065s 36ms/step - loss: 0.0670 - acc: 0.9819\n",
      "Epoch 83/100\n",
      "29904/29904 [==============================] - 978s 33ms/step - loss: 0.0536 - acc: 0.9845\n",
      "Epoch 84/100\n",
      "29904/29904 [==============================] - 987s 33ms/step - loss: 0.0346 - acc: 0.9903\n",
      "Epoch 85/100\n",
      "29904/29904 [==============================] - 1041s 35ms/step - loss: 0.0256 - acc: 0.9932\n",
      "Epoch 86/100\n",
      "29904/29904 [==============================] - 1033s 35ms/step - loss: 0.0314 - acc: 0.9912\n",
      "Epoch 87/100\n",
      "29904/29904 [==============================] - 938s 31ms/step - loss: 0.0653 - acc: 0.9816\n",
      "Epoch 88/100\n",
      "29904/29904 [==============================] - 1088s 36ms/step - loss: 0.0462 - acc: 0.9870\n",
      "Epoch 89/100\n",
      "29904/29904 [==============================] - 1007s 34ms/step - loss: 0.0274 - acc: 0.9928\n",
      "Epoch 90/100\n",
      "29904/29904 [==============================] - 1140s 38ms/step - loss: 0.0247 - acc: 0.9935\n",
      "Epoch 91/100\n",
      "29904/29904 [==============================] - 1042s 35ms/step - loss: 0.0318 - acc: 0.9915\n",
      "Epoch 92/100\n",
      "29904/29904 [==============================] - 1092s 37ms/step - loss: 0.0733 - acc: 0.9782\n",
      "Epoch 93/100\n",
      "29904/29904 [==============================] - 1121s 37ms/step - loss: 0.0461 - acc: 0.9865\n",
      "Epoch 94/100\n",
      "29904/29904 [==============================] - 996s 33ms/step - loss: 0.0245 - acc: 0.9931\n",
      "Epoch 95/100\n",
      "29904/29904 [==============================] - 1122s 38ms/step - loss: 0.0185 - acc: 0.9948\n",
      "Epoch 96/100\n",
      "29904/29904 [==============================] - 1053s 35ms/step - loss: 0.0356 - acc: 0.9905\n",
      "Epoch 97/100\n",
      "29904/29904 [==============================] - 983s 33ms/step - loss: 0.0696 - acc: 0.9803\n",
      "Epoch 98/100\n",
      "29904/29904 [==============================] - 1040s 35ms/step - loss: 0.0424 - acc: 0.9880\n",
      "Epoch 99/100\n",
      "29904/29904 [==============================] - 978s 33ms/step - loss: 0.0279 - acc: 0.9921\n",
      "Epoch 100/100\n",
      "29904/29904 [==============================] - 1056s 35ms/step - loss: 0.0283 - acc: 0.9924\n"
     ]
    }
   ],
   "source": [
    "units = 512\n",
    "epochs = 100\n",
    "\n",
    "\n",
    "\n",
    "# define and fit model\n",
    "model = Sequential()\n",
    "model.add(LSTM(units, input_shape=(X.shape[1], X.shape[2]))) # changed verbosity to 1  This takes a long time to run\n",
    "                                                             # so you will want verbosity at some level.\n",
    "model.add(Dense(vocab_size, activation='softmax'))\n",
    "model.compile(loss='categorical_crossentropy', optimizer='adam', metrics=['accuracy'])\n",
    "model.fit(X, y, epochs=epochs, verbose=1)\n",
    "model.save('model.units512')"
   ]
  },
  {
   "cell_type": "code",
   "execution_count": 18,
   "metadata": {},
   "outputs": [],
   "source": [
    "model.save('model.h5')"
   ]
  },
  {
   "cell_type": "code",
   "execution_count": 12,
   "metadata": {},
   "outputs": [
    {
     "name": "stdout",
     "output_type": "stream",
     "text": [
      "WARNING:tensorflow:From /home/ubuntu/Desktop/Projects/NLP-country-song/env/lib/python3.7/site-packages/tensorflow/python/framework/op_def_library.py:263: colocate_with (from tensorflow.python.framework.ops) is deprecated and will be removed in a future version.\n",
      "Instructions for updating:\n",
      "Colocations handled automatically by placer.\n",
      "WARNING:tensorflow:From /home/ubuntu/Desktop/Projects/NLP-country-song/env/lib/python3.7/site-packages/tensorflow/python/ops/math_ops.py:3066: to_int32 (from tensorflow.python.ops.math_ops) is deprecated and will be removed in a future version.\n",
      "Instructions for updating:\n",
      "Use tf.cast instead.\n"
     ]
    }
   ],
   "source": [
    "model = load_model('model.h5')"
   ]
  },
  {
   "cell_type": "code",
   "execution_count": 20,
   "metadata": {},
   "outputs": [],
   "source": [
    "model = load_model('model.units512')"
   ]
  },
  {
   "cell_type": "code",
   "execution_count": null,
   "metadata": {},
   "outputs": [],
   "source": []
  },
  {
   "cell_type": "code",
   "execution_count": null,
   "metadata": {},
   "outputs": [],
   "source": []
  },
  {
   "cell_type": "markdown",
   "metadata": {},
   "source": [
    "Create a function that encodes a kickoff text string and then plugs it into our trained model"
   ]
  },
  {
   "cell_type": "code",
   "execution_count": 13,
   "metadata": {},
   "outputs": [],
   "source": [
    "# generate a sequence of characters with a language model\n",
    "def generate_seq(model, mapping, seq_length, seed_lyric, n_chars):\n",
    "    lyrics = seed_lyric\n",
    "    for __ in range(n_chars):\n",
    "    # encode the characters as integers\n",
    "        encoded = [mapping[char] for char in lyrics]\n",
    "    # truncate sequences to a fixed length\n",
    "        encoded = pad_sequences([encoded], maxlen=seq_length, truncating='pre')\n",
    "    # one hot encode\n",
    "        encoded = to_categorical(encoded, num_classes=len(mapping))\n",
    "    # predict character\n",
    "        yhat = model.predict_classes(encoded, verbose=0)\n",
    "    # reverse map integer to character\n",
    "        out_char = ''\n",
    "        for char, index in mapping.items():\n",
    "            if index == yhat:\n",
    "                out_char = char\n",
    "                break\n",
    "    # append to input\n",
    "        lyrics += char\n",
    "    return lyrics"
   ]
  },
  {
   "cell_type": "markdown",
   "metadata": {},
   "source": [
    "Is there a song other than Stairway to Heaven that I could have used for the kickoff sequence?"
   ]
  },
  {
   "cell_type": "code",
   "execution_count": 14,
   "metadata": {},
   "outputs": [],
   "source": [
    "startLyrics = \"I beg your pardon I never promised you a rose garden Along with the sunshine There's gotta be a litt\""
   ]
  },
  {
   "cell_type": "markdown",
   "metadata": {},
   "source": [
    "Run the model and print the lyrics"
   ]
  },
  {
   "cell_type": "code",
   "execution_count": 15,
   "metadata": {},
   "outputs": [
    {
     "name": "stdout",
     "output_type": "stream",
     "text": [
      "I beg your pardon I never promised you a rose garden Along with the sunshine There's gotta be a little rain some time I'm along and someone they promised you can I'd smile with you Jolene, Jolene Please don't take my hanestong cowboy Well than the fightin' better that I held wath the froer every the good to she day you ther whe way for by ckind you harm you gotta forget I've fich And I can't sun your know where to tase you the son't semeted the barroom lett the way of livin' over the shonin' me alrobout he was ond me And I really day I'd talla wall alwnis and that home and they promise you the bary, meos, ten I wiln if he was a-meeting you here today To take you to his mansion in the sky? Delta Dawn, what's that flower you have on? Could it be a faded rose from days gone by? And did I hear you say he was a-meeting you here today To take you the soul alone And there got I've a good-tety some talking of the floosed my the good times whith a all good my son I said \"\"was all door live mer to be a may ole for amond that I could in the fight And I won't me ow only Sunderstand \"Son, you don\n"
     ]
    }
   ],
   "source": [
    "lyricsFinal = generate_seq(model,mapping,length,startLyrics,1000)\n",
    "print(lyricsFinal)"
   ]
  },
  {
   "cell_type": "markdown",
   "metadata": {},
   "source": [
    "neurons = 75 \n",
    "epochs = 100\n",
    "vocab_size = len(mapping)\n",
    "\n",
    "\n",
    "# define and fit model\n",
    "model2 = Sequential()\n",
    "model2.add(LSTM(neurons, input_shape=(X.shape[1], X.shape[2])))\n",
    "model2.add(Dense(vocab_size, activation='softmax'))\n",
    "model2.compile(loss='categorical_crossentropy', optimizer='adam', metrics=['accuracy'])\n",
    "model2.fit(X, y, epochs=epochs, verbose=2)"
   ]
  },
  {
   "cell_type": "markdown",
   "metadata": {},
   "source": [
    "def generate_seq2(model, mapping, seq_length, seed_lyric, n_chars):\n",
    "    lyrics = seed_lyric\n",
    "    for __ in range(n_chars):\n",
    "    # encode the characters as integers\n",
    "        encoded = [mapping[char] for char in lyrics]\n",
    "    # truncate sequences to a fixed length\n",
    "        encoded = pad_sequences([encoded], maxlen=seq_length, truncating='pre')\n",
    "    # one hot encode\n",
    "        encoded = to_categorical(encoded, num_classes=len(mapping))\n",
    "    # predict character\n",
    "        yhat = model.predict_classes(encoded, verbose=0)\n",
    "    # reverse map integer to character\n",
    "        out_char = ''\n",
    "        for char, index in mapping.items():\n",
    "            if index == yhat:\n",
    "                out_char = char\n",
    "                break\n",
    "    # append to input\n",
    "        lyrics += char\n",
    "    return lyrics"
   ]
  },
  {
   "cell_type": "markdown",
   "metadata": {},
   "source": [
    "print(generate_seq(model2,mapping,length,startLyrics,1000))"
   ]
  }
 ],
 "metadata": {
  "kernelspec": {
   "display_name": "NLP-country-song",
   "language": "python",
   "name": "nlp-country-song"
  },
  "language_info": {
   "codemirror_mode": {
    "name": "ipython",
    "version": 3
   },
   "file_extension": ".py",
   "mimetype": "text/x-python",
   "name": "python",
   "nbconvert_exporter": "python",
   "pygments_lexer": "ipython3",
   "version": "3.7.1"
  }
 },
 "nbformat": 4,
 "nbformat_minor": 2
}
