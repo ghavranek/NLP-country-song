{
 "cells": [
  {
   "cell_type": "markdown",
   "metadata": {},
   "source": [
    "<span style=\"font-size: 2em; font-weight:bold\">AI 70's Country</span>"
   ]
  },
  {
   "cell_type": "code",
   "execution_count": 1,
   "metadata": {},
   "outputs": [
    {
     "name": "stderr",
     "output_type": "stream",
     "text": [
      "Using TensorFlow backend.\n"
     ]
    },
    {
     "data": {
      "text/html": [
       "        <script type=\"text/javascript\">\n",
       "        window.PlotlyConfig = {MathJaxConfig: 'local'};\n",
       "        if (window.MathJax) {MathJax.Hub.Config({SVG: {font: \"STIX-Web\"}});}\n",
       "        if (typeof require !== 'undefined') {\n",
       "        require.undef(\"plotly\");\n",
       "        requirejs.config({\n",
       "            paths: {\n",
       "                'plotly': ['https://cdn.plot.ly/plotly-latest.min']\n",
       "            }\n",
       "        });\n",
       "        require(['plotly'], function(Plotly) {\n",
       "            window._Plotly = Plotly;\n",
       "        });\n",
       "        }\n",
       "        </script>\n",
       "        "
      ]
     },
     "metadata": {},
     "output_type": "display_data"
    }
   ],
   "source": [
    "import warnings\n",
    "warnings.filterwarnings('ignore')\n",
    "\n",
    "import scipy\n",
    "import numpy as np\n",
    "import matplotlib\n",
    "import pandas as pd\n",
    "import statsmodels\n",
    "import sklearn\n",
    "import tensorflow\n",
    "import keras\n",
    "\n",
    "from keras.models import Sequential, load_model\n",
    "from keras.layers import Dense,LSTM\n",
    "from keras.utils import to_categorical\n",
    "from keras.preprocessing.sequence import pad_sequences\n",
    "from keras.callbacks import History\n",
    "import string\n",
    "import pyarrow as pa\n",
    "\n",
    "\n",
    "import plotly.graph_objs as go\n",
    "import plotly\n",
    "from plotly.offline import plot, iplot, init_notebook_mode\n",
    "init_notebook_mode(connected = True)\n",
    "import plotly.offline as offline\n",
    "from plotly import tools\n",
    "\n",
    "import json"
   ]
  },
  {
   "cell_type": "markdown",
   "metadata": {},
   "source": [
    "As always, data prep is the hardest part of the project.  Because I am going to use a validation set in training my model, and because Keras uses the last n% of the data as the validation set, I want to shuffle the lyrics so that my validation set contains a better representation of all the data - not just the last song.  I also want to get the most originality that I can out of the model, so I will eliminate duplicate lyrics (some songs have refrains that repeat multiple times).  "
   ]
  },
  {
   "cell_type": "code",
   "execution_count": 2,
   "metadata": {},
   "outputs": [],
   "source": [
    "lyricsCSV = pd.read_csv('lyrics.csv',encoding='ISO-8859-1')\n",
    "lyricsCSV.sort_values('lyrics',inplace=True)\n",
    "lyricsCSV.drop_duplicates(keep='first',inplace=True)\n",
    "lyricsCSV = lyricsCSV.sample(frac=1)\n",
    "\n",
    "\n",
    "\n",
    "lyricsCSV.to_csv('lyrics.txt',sep='\\t',index=False)\n",
    "l = open('lyrics.txt','r')\n",
    "lyrics = l.read()\n",
    "l.close()"
   ]
  },
  {
   "cell_type": "markdown",
   "metadata": {},
   "source": [
    "Remove lines and print"
   ]
  },
  {
   "cell_type": "code",
   "execution_count": 3,
   "metadata": {},
   "outputs": [
    {
     "name": "stdout",
     "output_type": "stream",
     "text": [
      "lyrics Even with someone they love From crying when he calls your name A raisin' me a family and workin' on a farm (La la la la la la la) (La la la la la) \"\"\"If you wasn't wearin' that black robe I'd take out in back of this courthouse\" And shakin' me up so that all I really know And standin' up for things they believe in I, I will always, always love you I needed you and you were there I walk away from trouble when I can Here you come again lookin' better than a body has a right to Rhinestone cowboy To take you to his mansion in the sky? Cussin' at a can that he was kickin Don't let 'em pick guitars or drive them old trucks That didn't hurt I'd be carrying the pots you made And thank God you're a country boy He'd never stood one single time to prove the county wrong And my soft shoes shining She's a good-hearted woman in love with a good-timin' man Like I aint got nothing on All day long in the field a hoin' corn I could sing you a tune and promise you the moon He shoveled coal to make a poor man's dollar With a laughing little girl Honey, come back Life is old there, older than the trees \"Son, you don't have to fight to be a man\"\"\" Following behind you That's all I'm taking with me But it sure seems warmer than it did From a mail order catalog Newberry's train songs and Blue Eyes Cryin' in the Rain Here I go But the Lord and my wife wouldn't take it very good Out in Luckenbach, Texas there ain't nobody feelin' no pain That I always thought it could be Them that don't know him won't like him And he took me by the hand and held me close to his side When the work's all done and the sun's settlin' low Cause therels something in a sunday I'd just as soon let you go Honey it's almost nine And whatever you decide to do And there won't always be someone there to pull you out Runnin' down a way of life And I kept rollin' them sevens , winnin' all them pots Of someone fryin chicken Tommy opened up the door, and saw his Becky crying And a voice is softly saying This successful life we're livin' Thank you oh Lord for making him for me Put all the money in and let's roll 'em again So smile for a while and let's be jolly This coat and tie is choking me There's gotta be a little rain some time \"Whadda you mean 'contempt of court'?\"\"\" With ivory skin and eyes of emerald green And a mill wheel grinding The rest of us can count on bein' free Delta Dawn, what's that flower you have on? You're hot Sleepin' in our king size bed Cause there's something in a sunday It won't mean you're weak if you turn the other cheek If a tinker was my trade He let my friends go free and throwed the book at me But what would it matter My happiness depends on you In her arms, he didn't have to prove he was a man And don't it make my brown eyes My one and only prayer is that some day you'll care I beg your pardon I could promise you things like big diamond rings You gave me hope when I was at the end Cowboys ain't easy to love and they're harder to hold And stumbled down the stairs I'll just cry all night long To meet the day Cause we both know that I'm not Harpin' on the wars we fight And turned my lies back into truth again We were poor but we had love How it would feel to say Walk with me world And you know what I'm talkin' about And a smile can hide all the pain If I were a carpenter My daddy taught me young how to hunt and how to whittle I gave you my onlyness But I'd rather fight the wind and rain And read the Bible by the coal oil light I had to have this talk with you When you're hot, you're hot Then I headed back for home Your beauty is beyond compare Wishing lord that I was stoned There goes my only possession Between Hank Williams' pain songs and Buy some boots and faded jeans and go away I can't believe it's true Well I woke up Sunday morning But she never complains of the bad times or bad things he's done, Lord If you don't understand him and he don't die young Not much left but the floor, nothing lives here anymore Well, my fiddle was my daddy's till the day he died There's been a load of compromisin' A lotta sad people thinkin' that's mighty keen I say, yeah, when you're hot, you're hot Well a simple kinda life never did me no harm I was confused, you cleared my mind And finally they jest threw up their hands and said Is here you come again, and here I go, here I go You waltz right in the door In the summertime we didn't have shoes to wear And when you're not, you're not Let's go to Luckenbach, Texas So I'm just gonna take my bags and I'm gonna walk. Daddy always managed to get the money somewhere Kiss an angel good morning Twenty years of crawling was bottled up inside him My only prayer will be some day you'll care for me but it's only make believe Just may, just give me a call-you know where I am Yeah, city folk drivin' in a black limousine She just talks about the good times they've had and all the good times to come He was only ten years old when his daddy died in prison Four car garage and we're still building on So baby, let's sell your diamond ring But I'll still be just as gone On the road to my horizon I'd smoked my brain the night before Thank God I'm a country boy Love shouldn't be so melancholy Come along and share the good times while we can But above all this The work we done was hard Don't it make my brown eyes blue In your high society you cry all day And ever' thing would start all over come break of morn We've been so busy keepin' up with the Jones My luck was so good I could do no wrong But I just can't let you go without telling you just how much I love you. Would you have my baby? There goes the one of my dreams I cried a tear, you wiped it dry Anyplace is alright as long as I \"\"\"Pay for my Cadillac?\"\"\" And thank you for letting life turn out the way Dark and dusty, painted on the sky And here I am'a walking down sixty-six Could it be a faded rose from days gone by? Would I still find you Well people may try to guess, the secret of my happiness Don't it make my brown eyes I jest kept on rollin' and controllin' them bones My hopes my dreams come true my life I give for you Maybe it's time we got back to the basics of love Out in Luckenbach, Texas ain't nobody feelin' no pain Just when I've begun to get myself together I read about some squirrelly guy But myself I can't deceive I know it's only make believe Tell me you love me and don't let me cry Your voice is soft like summer rain And offers comin' over the phone Do these old shoes look funny Wake up sleepy head And the answer is in this song that I always sing When Tommy left the barroom, not a Gatlin boy was standing I'm the happiest girl, in the whole U.S.A. Do you love waking up next to me Here you come again Everyone considered him the coward of the county Daddy loved and raised eight kids on a miner's pay \"Said, \"\"Live a good life and play the fiddle with pride\" Oh there goes my everything He turned around and grinned at me and said When I heard somethin' behind me Is guitars that tune good and firm feelin' women You make the coffee But some of them never learn it's a simple thing Is here you come again and here I go And I don't mind 'em switchin' sides I wish you love I'll fix your lunch Ain't much an old country boy like me can't hack If I should stay Country roads, take me home This successful life we're livin's got us feudin' Say it isn't true and \"n' I said \"\"Thanks a lot\"\"\" And I love you will always love you But I lit my first and watched a small kid Now, it won't mean you're weak if you turn the other cheek Then I crossed the empty street and Well, when he took us inta court I couldn't believe my eyes I looked after Tommy, 'cause he was my brother's son Money made from selling a hog That I'd lost somehow And I can easily understand You can 'splain it all down at City Hall Yeah, I'm proud to be a coal miner's daughter He like the night life, the bright lights and good-timin' friends Good morning morning But you could've heard a pin drop when Tommy stopped and locked the door So I fiddle when I can, work when I should That makes a body feel alone That I should have been home yesterday, yesterday I'd not miss my colored blouse Sleeping under a table at a road side park As much as I love waking up next to you One more hug would do Say anything but don't say goodbye A long time forgotten are dreams that just fell by the way I pull out my fiddle and I rosin up the bow \"\"\"Judge\"\"\" And I wonder just how long But there's one thing I want you to know My heart or wedding ring my all my everything And I'll never leave, why should I leave? Well I wouldn't trade my life for diamonds and jewels Wish she hadn't done me that way But if you ever want somebody to just love ya, and some day you And here is what I'll say I didn't mean to treat you bad Tomorrow she'll probably want me back About the way they have to live here in this country I wish you joy Have a beautiful day, The disappearing dreams of yesterday And it's so good to be back home again And found my cleanest dirty shirt He was swingin Lord knows she don't understand him, but she does the best that she can I'm begging of you please don't take my man Sunday morning coming down To face the world out on my own again With a subway token and a dollar tucked inside my shoe When I was lost you took me home He talks about you in his sleep Walk away from trouble if you can And there's nothing short of dying If I worked my hands on wood And there go all my defenses Why'd we move that bojangle clock so far away from the bed Than what I've been fighting at home Well I got me a fine wife I got me an ole fiddle Honey, come back I just can't stand Please don't take him even though you can Is anybody goin' to San Antone \"I said \"\"Yeah?\"\"\" Caught the sunday smell Like a rhinestone cowboy Cause she's a good-hearted woman; she loves her good timin' man But I'm gonna be where the lights are shinin' on me Lonestar belt buckles and old faded Levi's and each night begins a new day Seems like a hundred years ago You put me high upon a pedestal Who claims that he just don't believe in fightin' \"\"\"Son, my life is over, but yours has just begun\"\"\" With flaming locks of auburn hair Somehow you needed me He ain't wrong he's just different The judge was a fishin' buddy that I recognized Each lonely day's a little bit longer A good-hearted woman loving her good timing man Don't let 'em pick guitars and drive them old trucks Save your love through sorrow It's a skippidity do da day When you're runnin' down our country, hoss There goes my everything Life ain't nothin' but a funny funny riddle Mama don't let your babies grow up to be cowboys Getting cards and letters from people I don't even know The radio reminds me of my home far away I've always got a smiling face, anytime & any place And I will always love you \"\"\"Promise me, son, not to do the things I've done\" You better look before you leap, still waters run deep I would give you the world right now on a silver platter My heart I can't control you lure my very soul It's early to rise, early in the sack And somewhere far away Your smile is like a breath of spring \"\"\"Look like I'm gonna hafta haul you all in\" She loves him in spite of his ways that she don't understand No one will ever know how much I love you so Would you still love me? So that is why I'm gonna say it one more time But when they're runnin' down our country, man And promised her he'd take her for his bride And papa, I sure hope you understand I hear footsteps slowly walking Now shine on me sunshine \"(When you're hot, you're hot\"\")\" Gettin' card and letters from people I don't even know He reached above the fireplace, and took down his daddy's picture Then I fumbled through my closet But you're down when you're ridin' the train that's takin' the long way People writing letters back home And would you not be above me? Got us feuding like the Hatfields and McCoys Bitter-sweet memories Where you belong to only me. Now please don't think I'm weak, I didn't turn the other cheek I never promised you a rose garden Well a lot of things have changed since a way back then Here you come again and here I go Forget I've ever known her \"She's forty-one and her daddy still calls her \"\"baby\"\"\" And I wish you happiness Honey, I know I've said it too many times before And love her like the devil when you get back home \"When Tommy turned around they said, \"\"hey look, old yeller's leaving\"\"\" Half as lonesome as the sound That I've been pickin' He's the only one for me And I stopped beside the Sunday school Then a man of low degree stood by her side Cause she walks dowtown with a suitcase in her hand That's the one thing that daddy made sure of Wind whipping down the neck of my shirt Well there goes my only possession And I dream of the things I'll do I'd answer you yes I would West Virginia, mountain mama When the party's all over she'll welcome him back home again Cause they'll never stay home and they're always alone I'd play Sally Goodin all day if I could At night we'd sleep 'cause we were tired You look into my eyes and lie those pretty lies Mommy scrubbed our clothes on a washboard ever' day Let 'em be doctors and lawyers and such \"\"\"Who gonna collect my welfare?\"\"\" And pretty soon I'm wond'rin how I came to doubt you. Looking for a mysterious dark-haired man A man could wake up dead If you were a carpenter Riding out on a horse in a star-spangled rodeo \"\"\"I promised you, Dad, not to do the things you've done\" I hear people talkin' bad, Big fine cars and fancy clothes. The joy of love that used to taste like This successful life we're livin' got us feudin' Take me home, down country roads You held my hand when it was cold And I shaved my face I said I'd never say it again Jolene, Jolene, Jolene, Jolene \"You even called me \"\"friend\"\"\" Has been shattered by the closing of the door And there got all my defenses For my clothes Well me and Homer Jones and Big John Talley Taught me how to love and how to give just a little \"He said \"\"Well, when you're hot, you're hot\"\"\" Taught me how to work and play a tune on the fiddle Or Phoenix Arizona \"I said \"\"well I'll tell ya one thing judge, old buddy, old pal\"\"\" It sure is cold today And did I hear you say he was a-meeting you here today \"\"\"When you hot, you hot\"\"\" They'd rather give you a song then diamonds or gold If you don't love it, leave it Son, let me tell ya now exactly what I mean There's someone for everyone, and Tommy's love was Becky Jolene, Jolene Somewhere along the way My hopes my dreams come true my one and only you And I was just gettin' ready to roll 'em again And driving down the road I get a feeling I will always love you Well life on the farm is kinda laid back Or let go oh-whoa-whoa-whoa With cigarettes and songs Jolene And kiss the happiest girl, in the whole U.S.A. The Gatlin boys just laughed at him when he walked into the barroom Well, I guess that's about all I gotta say. When you take you gotta give so live and let live And wrap my heart 'round your little finger I know every crack in these dirty sidewalks of Broadway Tell me no secrets, tell me some lies \"I said, \"\"Well, son when you hot, you hot\"\"\" Along with the sunshine Don't know when I've been so blue Younger than the mountains, blowing like a breeze Now the love that kept this old heart beating Why I've seen her fingers bleed So you better think it over I hope you're old enough to understand But honey now I do Let this song that I'm singin' be a warnin' So high that I could almost see eternity Mommy rocked the babies at night The secret I'm speaking of, is a woman & a man in love But I could never love again Take me home, country roads Than the last time I held you And I hope that you have all A lonely bell was ringing I can see the happy years we've had before Now you be careful He wasn't holding nothin' back, he let 'em have it all Between Hank Williams' pain songs And listened to the song Would you marry me anyway I never was one of them money hungry fools And so I'll go, but I know One of them got up and met him halfway 'cross the floor If I were a miller Back to his arms and never know I never thought of ever leaving Butcher Holler That's why we moved it How you could easily take my man The good life he promised ain't what she's living today Give me your tomorrow Runnin' down the way of life Misty taste of moonshine, teardrop in my eye My daddy worked all night in the Van Lear coal mines He'll probably just ride away And held me up and gave me dignity Little warm puppies and children and girls of the night And gripin' 'bout the way things oughta be Mamas' don't let your babies grow up to be cowboys You've found someone new and So he gave my friends a little fine to pay I turned around and there was a big old cop And it echoed thru the canyon like Shine on me sunshine All you gotta do is smile that smile But you don't find roses growin' on stalks of clover All the folks around Brownsville say she's crazy I've been walkin' these streets so long I'm happiest girl, in the whole U.S.A My days are all filled with an easy country charm There once was a time when I could not imagine \"He said \"\"Hello, boys\"\" and then he gave us a grin 'n' said\" With Waylon and Willie and the boys I don't need my name in the marquee lights In the park I saw a daddy On the sunday morning sidewalk Through teardrops and laughter, they'll pass through this world hand-in-hand, Well, I was borned a coal miner's daughter And every time they ask me why I just smile & say Save your love through loneliness Darling this will be goodbye for evermore Gotta go, I love you But if that's what it takes to hold you And let her know you think about her when you're gone I'll be fine when you're gone No one will ever know just how much I love you so When the sun's comin' up I got cakes on the griddle \"\"\"I'll pay ya that hundred I owe ya if you'll get me outta this spot\"\"\" And your soft shoes shining? Like the Hatfield and McCoys Well if sweet-talkin' you could make it come true When you're runnin' down our country, man As my memory turns back the pages Didn't know just what I had Good-bye, please don't cry You've got to kiss an angel good morning And here I go \"He said \"\"Yeah\"\"\" Blue Ridge Mountains, Shenandoah River I hope life, treats you kind That they were singing And Jerry Jeff's train songs and Blue Eyes Cryin' in the Rain Just when I'm about to make it work without you Miner's lady, stranger to blue water Something always told me they were reading Tommy wrong If you were a miller His mama named him Tommy, but folks just called him yellow \"Sometimes you gotta fight when you're a man\"\"\" But you don't know what he means to me In a cabin, on a hill in Butcher Holler She'd smile in mommy's understanding way Bad so I had one more for dessert I remember well, the well where I drew water Would you miss your colored blouse \"\"\"You understand that, you hillbilly?\"\"\" I'd rather have my fiddle and my farmin' tools When ever I chance to meet, some old friends on the street But his pride won't let him do things to make you think he's right My plans my hopes my schemes you are my every dream but it's only make believe You needed me, you needed me Just one more minute The only two things in life that make it worth livin' There goes my reason for living My only prayer will be that some day you'll care for me but it's only make believe But in the wintertime we'd all get a brand new pair And it took me back to something In her younger days they called her Delta Dawn Give me no reasons, give me alibies They took turns at Becky, n'there was three of them I'll think of you each step of the way Can forget I've ever known her The kids are asleep so I keep it kinda low I sold my soul, you bought it back for me On the sleeping city sidewalk Please don't take him just because you can You're walkin' on the fightin' side of me And the beer I had for breakfast wasn't Almost heaven, West Virginia I still recall the final words my brother said to Tommy I know those bright lights are callin' ya, honey. Willie and Waylon and the boys Where hustle's the name of the game You're messin' up my mind and fillin' up my senses Singin' the same old song Cowboys like smokey old pool rooms and clear mountain mornin's Gettin' cards and letters from people I don't even know And you fix mine But they preach about some other way of livin' Our fightin' men have fought and died to keep And them that do sometimes won't know how to take him And combed my hair As they gently walk across the lonely floor Skippidity do da Prettiest woman you ever laid eyes on They wonder how does a man get to be this way Hello sunshine With no way to hold my head The torn dress, the shattered look was more than he could stand I would only be in your way To complain, there was no need Just leave it up to you and in a little while You could have your choice of men Honey, come back where you belong to only me. Don't know what's come over you \"And keep all that money for evidence\"\"\" \"I said \"\"Hey, judge, old buddy, old pal\"\"\" And I can't believe it's you There'll be a load of compromisin' I hear her voice, in the morning hour she calls me As the tears fell on his daddy's face, he heard these words again That you ever dreamed of Now tell me the truth I'd marry you anyway And I cannot compete with you I'd be a fool 'cause I finally found someone who really cares Well, I really don't mind the rain \"\"\"Ninety days, Jerry, when you hot, you hot\"\"\" They love our milk and honey \"He said, \"\"this one's for Becky, as he watched the last one fall\" One day while he was working, the Gatlin boys came calling And I were a lady \"\"\"And I'd try a little bit of your honor on\"\"\" People see us everywhere they all think you really care I'd have your baby I got my song and I got you with me tonight Had a big crap game goin' back in the alley They're walkin' on the fightin' side of me (La la la la la la la, when you're hot, you're hot) I guess I shouldn't say anything at all since you're supposed to belong to him. Just like you've done before I'll make the bed Except the memory of a coal miner's daughter To the place I belong And there's nothing I can do to keep Yonder comes a truck with the US mail And nice guys get washed away like the snow and the rain All my memories gather round her What you need Rain dripping off the brim of my hat You gave me strength to stand alone again Well, now every time I rolled them dice I'd win And you were a lady\n"
     ]
    }
   ],
   "source": [
    "tokens = lyrics.split()\n",
    "lyrics = ' '.join(tokens)\n",
    "print(lyrics)"
   ]
  },
  {
   "cell_type": "markdown",
   "metadata": {},
   "source": [
    "One final thing, when I look at the above lyrics, I seem to see a LOT of quotation marks.  So, I am going to just replace those with a space.  "
   ]
  },
  {
   "cell_type": "code",
   "execution_count": 4,
   "metadata": {},
   "outputs": [],
   "source": [
    "lyrics = lyrics.replace('\"',' ')"
   ]
  },
  {
   "cell_type": "markdown",
   "metadata": {},
   "source": [
    "Now, we can build sequences of characters that will be used to predict a final character"
   ]
  },
  {
   "cell_type": "code",
   "execution_count": 5,
   "metadata": {},
   "outputs": [],
   "source": [
    "length = 100 # Length of the characer sequences (because we have so much verbage,\n",
    "             # we can use a relatively large number)\n",
    "sequences = list()\n",
    "for i in range(length, len(lyrics)):\n",
    "    seq = lyrics[i-length:i+1]\n",
    "    sequences.append(seq)"
   ]
  },
  {
   "cell_type": "markdown",
   "metadata": {},
   "source": [
    "Create and save a .txt file of our sequences with line endings"
   ]
  },
  {
   "cell_type": "code",
   "execution_count": 6,
   "metadata": {},
   "outputs": [],
   "source": [
    "data = '\\n'.join(sequences)\n",
    "file = open('char_sequences.txt','w')\n",
    "file.write(data)\n",
    "file.close()"
   ]
  },
  {
   "cell_type": "markdown",
   "metadata": {},
   "source": [
    "Create a dictionary of character:number mappings "
   ]
  },
  {
   "cell_type": "code",
   "execution_count": 7,
   "metadata": {},
   "outputs": [],
   "source": [
    "file = open('char_sequences.txt','r')\n",
    "raw_text = file.read()\n",
    "file.close()\n",
    "\n",
    "lines = raw_text.split('\\n')\n",
    "\n",
    "chars = sorted(list(set(raw_text)))\n",
    "mapping = dict((c, i) for i, c in enumerate(chars))\n",
    "\n",
    "# Save the mapping as json \n",
    "json_map = json.dumps(mapping)\n",
    "__ = open('mapping.json','w')\n",
    "__.write(json_map)\n",
    "__.close()"
   ]
  },
  {
   "cell_type": "markdown",
   "metadata": {},
   "source": [
    "Use the dictionary to create sequences of numbers only (numbers that describe the characters)"
   ]
  },
  {
   "cell_type": "code",
   "execution_count": 8,
   "metadata": {},
   "outputs": [],
   "source": [
    "sequences = list()\n",
    "for line in lines:\n",
    "    encoded_seq = [mapping[char] for char in line]\n",
    "    sequences.append(encoded_seq)\n",
    "    \n"
   ]
  },
  {
   "cell_type": "markdown",
   "metadata": {},
   "source": [
    "Create input sets (with 99 characters) and output sets (1 character) and then one-hot code the sets so we can use them to train the model."
   ]
  },
  {
   "cell_type": "code",
   "execution_count": 9,
   "metadata": {},
   "outputs": [],
   "source": [
    "vocab_size = len(mapping)\n",
    "sequences = np.array(sequences)\n",
    "X, y = sequences[:,:-1], sequences[:,-1]\n",
    "sequences = [to_categorical(x, num_classes=vocab_size) for x in X] #one-hot code input\n",
    "X = np.array(sequences)\n",
    "y = to_categorical(y, num_classes=vocab_size) #one-hot code output"
   ]
  },
  {
   "cell_type": "markdown",
   "metadata": {},
   "source": [
    "Fit the model"
   ]
  },
  {
   "cell_type": "code",
   "execution_count": 10,
   "metadata": {},
   "outputs": [
    {
     "name": "stdout",
     "output_type": "stream",
     "text": [
      "WARNING:tensorflow:From /home/ubuntu/Desktop/Projects/NLP-country-song/env/lib/python3.7/site-packages/tensorflow/python/framework/op_def_library.py:263: colocate_with (from tensorflow.python.framework.ops) is deprecated and will be removed in a future version.\n",
      "Instructions for updating:\n",
      "Colocations handled automatically by placer.\n",
      "WARNING:tensorflow:From /home/ubuntu/Desktop/Projects/NLP-country-song/env/lib/python3.7/site-packages/tensorflow/python/ops/math_ops.py:3066: to_int32 (from tensorflow.python.ops.math_ops) is deprecated and will be removed in a future version.\n",
      "Instructions for updating:\n",
      "Use tf.cast instead.\n",
      "Train on 17874 samples, validate on 4469 samples\n",
      "Epoch 1/100\n",
      "17874/17874 [==============================] - 237s 13ms/step - loss: 2.8186 - acc: 0.2484 - val_loss: 2.4212 - val_acc: 0.3374\n",
      "Epoch 2/100\n",
      "17874/17874 [==============================] - 236s 13ms/step - loss: 2.3182 - acc: 0.3536 - val_loss: 2.2692 - val_acc: 0.3748\n",
      "Epoch 3/100\n",
      "17874/17874 [==============================] - 240s 13ms/step - loss: 2.1703 - acc: 0.3919 - val_loss: 2.0521 - val_acc: 0.4057\n",
      "Epoch 4/100\n",
      "17874/17874 [==============================] - 234s 13ms/step - loss: 1.9571 - acc: 0.4338 - val_loss: 1.9271 - val_acc: 0.4372\n",
      "Epoch 5/100\n",
      "17874/17874 [==============================] - 237s 13ms/step - loss: 1.8102 - acc: 0.4696 - val_loss: 1.8711 - val_acc: 0.4650\n",
      "Epoch 6/100\n",
      "17874/17874 [==============================] - 238s 13ms/step - loss: 1.6665 - acc: 0.5121 - val_loss: 1.8778 - val_acc: 0.4538\n",
      "Epoch 7/100\n",
      "17874/17874 [==============================] - 236s 13ms/step - loss: 1.5155 - acc: 0.5509 - val_loss: 1.8006 - val_acc: 0.4865\n",
      "Epoch 8/100\n",
      "17874/17874 [==============================] - 236s 13ms/step - loss: 1.3486 - acc: 0.5994 - val_loss: 1.7773 - val_acc: 0.4988\n",
      "Epoch 9/100\n",
      "17874/17874 [==============================] - 232s 13ms/step - loss: 1.1491 - acc: 0.6573 - val_loss: 1.8280 - val_acc: 0.4981\n",
      "Epoch 10/100\n",
      "17874/17874 [==============================] - 232s 13ms/step - loss: 0.9571 - acc: 0.7142 - val_loss: 1.9063 - val_acc: 0.4853\n",
      "Epoch 00010: early stopping\n"
     ]
    }
   ],
   "source": [
    "units = 512\n",
    "epochs = 100\n",
    "\n",
    "# Define early stopping callbacks\n",
    "es = keras.callbacks.EarlyStopping(monitor = 'val_acc',min_delta = .01, patience = 2, mode = 'auto',verbose=1)\n",
    "\n",
    "\n",
    "# define and fit model\n",
    "model = Sequential()\n",
    "model.add(LSTM(units, input_shape=(X.shape[1], X.shape[2]))) # changed verbosity to 1  This takes a long time to run\n",
    "                                                           # so you will want verbosity at some level.\n",
    "model.add(Dense(vocab_size, activation='softmax'))\n",
    "model.compile(loss='categorical_crossentropy', optimizer='adam', metrics=['accuracy'])\n",
    "\n",
    "modelLyrics = model.fit(X, y, epochs = epochs, validation_split = 0.2, shuffle = True, verbose=1,callbacks=[es])\n",
    "\n",
    "\n",
    "#save model and history\n",
    "model.save('model.units512.es_val_acc')\n",
    "\n",
    "json_hist = json.dumps(modelLyrics.history)\n",
    "__ = open('modelLyricsHistory.json','w')\n",
    "__.write(json_hist)\n",
    "__.close()\n",
    "\n"
   ]
  },
  {
   "cell_type": "code",
   "execution_count": 11,
   "metadata": {},
   "outputs": [],
   "source": [
    "history = modelLyrics.history"
   ]
  },
  {
   "cell_type": "code",
   "execution_count": 12,
   "metadata": {},
   "outputs": [],
   "source": [
    "json2 = json.dumps(history)"
   ]
  },
  {
   "cell_type": "code",
   "execution_count": 13,
   "metadata": {},
   "outputs": [],
   "source": [
    "# store history"
   ]
  },
  {
   "cell_type": "markdown",
   "metadata": {},
   "source": [
    "Create a function that encodes a kickoff text string and then plugs it into our trained model"
   ]
  },
  {
   "cell_type": "code",
   "execution_count": 14,
   "metadata": {
    "scrolled": false
   },
   "outputs": [
    {
     "data": {
      "application/vnd.plotly.v1+json": {
       "config": {
        "linkText": "Export to plot.ly",
        "plotlyServerURL": "https://plot.ly",
        "responsive": true,
        "showLink": false
       },
       "data": [
        {
         "line": {
          "color": "#072b61"
         },
         "name": "loss",
         "type": "scatter",
         "uid": "7de3ef46-8e60-4090-ad58-c6258d734954",
         "x": [
          0,
          1,
          2,
          3,
          4,
          5,
          6,
          7,
          8,
          9,
          10,
          11,
          12,
          13,
          14,
          15,
          16,
          17,
          18,
          19,
          20,
          21,
          22,
          23,
          24,
          25,
          26,
          27,
          28,
          29,
          30,
          31,
          32,
          33,
          34,
          35,
          36,
          37,
          38,
          39,
          40,
          41,
          42,
          43,
          44,
          45,
          46,
          47,
          48,
          49,
          50,
          51,
          52,
          53,
          54,
          55,
          56,
          57,
          58,
          59,
          60,
          61,
          62,
          63,
          64,
          65,
          66,
          67,
          68,
          69,
          70,
          71,
          72,
          73,
          74,
          75,
          76,
          77,
          78,
          79,
          80,
          81,
          82,
          83,
          84,
          85,
          86,
          87,
          88,
          89,
          90,
          91,
          92,
          93,
          94,
          95,
          96,
          97,
          98,
          99
         ],
         "y": [
          2.6382,
          2.0663,
          1.7803,
          1.5133,
          1.244,
          0.9956,
          0.7891,
          0.6106,
          0.4684,
          0.3531,
          0.2623,
          0.2105,
          0.1696,
          0.1456,
          0.1333,
          0.1219,
          0.1267,
          0.1043,
          0.1068,
          0.0954,
          0.1037,
          0.0971,
          0.0905,
          0.0817,
          0.0757,
          0.1038,
          0.0917,
          0.0746,
          0.0772,
          0.0899,
          0.0953,
          0.0732,
          0.0627,
          0.0804,
          0.0856,
          0.0739,
          0.0676,
          0.0718,
          0.0747,
          0.0701,
          0.0666,
          0.0664,
          0.0666,
          0.0633,
          0.0632,
          0.0632,
          0.0726,
          0.0649,
          0.0516,
          0.0512,
          0.076,
          0.0668,
          0.0539,
          0.0506,
          0.0658,
          0.0655,
          0.041,
          0.0416,
          0.0633,
          0.0814,
          0.0474,
          0.0368,
          0.0368,
          0.0672,
          0.0772,
          0.0403,
          0.031,
          0.0466,
          0.0764,
          0.0453,
          0.0364,
          0.0356,
          0.0631,
          0.0633,
          0.0383,
          0.0293,
          0.0472,
          0.0672,
          0.0445,
          0.0309,
          0.0305,
          0.067,
          0.0536,
          0.0346,
          0.0256,
          0.0314,
          0.0653,
          0.0462,
          0.0274,
          0.0247,
          0.0318,
          0.0733,
          0.0461,
          0.0245,
          0.0185,
          0.0356,
          0.0696,
          0.0424,
          0.0279,
          0.0283
         ]
        },
        {
         "line": {
          "color": "#146320"
         },
         "name": "acc",
         "type": "scatter",
         "uid": "a9f1cbb1-0d0c-4d1c-82d0-d09ffd036e58",
         "x": [
          0,
          1,
          2,
          3,
          4,
          5,
          6,
          7,
          8,
          9,
          10,
          11,
          12,
          13,
          14,
          15,
          16,
          17,
          18,
          19,
          20,
          21,
          22,
          23,
          24,
          25,
          26,
          27,
          28,
          29,
          30,
          31,
          32,
          33,
          34,
          35,
          36,
          37,
          38,
          39,
          40,
          41,
          42,
          43,
          44,
          45,
          46,
          47,
          48,
          49,
          50,
          51,
          52,
          53,
          54,
          55,
          56,
          57,
          58,
          59,
          60,
          61,
          62,
          63,
          64,
          65,
          66,
          67,
          68,
          69,
          70,
          71,
          72,
          73,
          74,
          75,
          76,
          77,
          78,
          79,
          80,
          81,
          82,
          83,
          84,
          85,
          86,
          87,
          88,
          89,
          90,
          91,
          92,
          93,
          94,
          95,
          96,
          97,
          98,
          99
         ],
         "y": [
          0.2929,
          0.4072,
          0.4848,
          0.5593,
          0.6419,
          0.7102,
          0.7715,
          0.823,
          0.8655,
          0.9013,
          0.9306,
          0.947,
          0.958,
          0.9654,
          0.9682,
          0.9713,
          0.9696,
          0.9758,
          0.9739,
          0.9771,
          0.9742,
          0.9755,
          0.9771,
          0.9808,
          0.9824,
          0.972,
          0.9754,
          0.9817,
          0.9809,
          0.9761,
          0.9744,
          0.9807,
          0.984,
          0.9789,
          0.977,
          0.9805,
          0.9821,
          0.9805,
          0.9793,
          0.9813,
          0.9827,
          0.982,
          0.9824,
          0.9829,
          0.9836,
          0.9835,
          0.9801,
          0.983,
          0.9866,
          0.987,
          0.9788,
          0.9814,
          0.9849,
          0.9867,
          0.9826,
          0.9819,
          0.9894,
          0.989,
          0.983,
          0.9762,
          0.9874,
          0.991,
          0.9911,
          0.981,
          0.9772,
          0.9894,
          0.9916,
          0.9881,
          0.9787,
          0.9878,
          0.9906,
          0.9912,
          0.9832,
          0.9824,
          0.9892,
          0.9928,
          0.9872,
          0.9817,
          0.9872,
          0.992,
          0.9926,
          0.9819,
          0.9845,
          0.9903,
          0.9932,
          0.9912,
          0.9816,
          0.987,
          0.9928,
          0.9935,
          0.9915,
          0.9782,
          0.9865,
          0.9931,
          0.9948,
          0.9905,
          0.9803,
          0.988,
          0.9921,
          0.9924
         ],
         "yaxis": "y2"
        }
       ],
       "layout": {
        "title": {
         "text": "loss and acc vs Epoch"
        },
        "xaxis": {
         "title": {
          "text": "Epoch"
         }
        },
        "yaxis": {
         "showgrid": false,
         "title": {
          "text": "loss"
         }
        },
        "yaxis2": {
         "overlaying": "y",
         "showgrid": false,
         "side": "right",
         "title": {
          "text": "acc"
         }
        }
       }
      },
      "text/html": [
       "<div>\n",
       "        \n",
       "        \n",
       "            <div id=\"d0eb784d-70ff-4463-8915-8347038efe23\" class=\"plotly-graph-div\" style=\"height:525px; width:100%;\"></div>\n",
       "            <script type=\"text/javascript\">\n",
       "                require([\"plotly\"], function(Plotly) {\n",
       "                    window.PLOTLYENV=window.PLOTLYENV || {};\n",
       "                    window.PLOTLYENV.BASE_URL='https://plot.ly';\n",
       "                    \n",
       "                if (document.getElementById(\"d0eb784d-70ff-4463-8915-8347038efe23\")) {\n",
       "                    Plotly.newPlot(\n",
       "                        'd0eb784d-70ff-4463-8915-8347038efe23',\n",
       "                        [{\"line\": {\"color\": \"#072b61\"}, \"name\": \"loss\", \"type\": \"scatter\", \"uid\": \"70c2dcc0-7dfc-4c15-8338-5e8115643070\", \"x\": [0, 1, 2, 3, 4, 5, 6, 7, 8, 9, 10, 11, 12, 13, 14, 15, 16, 17, 18, 19, 20, 21, 22, 23, 24, 25, 26, 27, 28, 29, 30, 31, 32, 33, 34, 35, 36, 37, 38, 39, 40, 41, 42, 43, 44, 45, 46, 47, 48, 49, 50, 51, 52, 53, 54, 55, 56, 57, 58, 59, 60, 61, 62, 63, 64, 65, 66, 67, 68, 69, 70, 71, 72, 73, 74, 75, 76, 77, 78, 79, 80, 81, 82, 83, 84, 85, 86, 87, 88, 89, 90, 91, 92, 93, 94, 95, 96, 97, 98, 99], \"y\": [2.6382, 2.0663, 1.7803, 1.5133, 1.244, 0.9956, 0.7891, 0.6106, 0.4684, 0.3531, 0.2623, 0.2105, 0.1696, 0.1456, 0.1333, 0.1219, 0.1267, 0.1043, 0.1068, 0.0954, 0.1037, 0.0971, 0.0905, 0.0817, 0.0757, 0.1038, 0.0917, 0.0746, 0.0772, 0.0899, 0.0953, 0.0732, 0.0627, 0.0804, 0.0856, 0.0739, 0.0676, 0.0718, 0.0747, 0.0701, 0.0666, 0.0664, 0.0666, 0.0633, 0.0632, 0.0632, 0.0726, 0.0649, 0.0516, 0.0512, 0.076, 0.0668, 0.0539, 0.0506, 0.0658, 0.0655, 0.041, 0.0416, 0.0633, 0.0814, 0.0474, 0.0368, 0.0368, 0.0672, 0.0772, 0.0403, 0.031, 0.0466, 0.0764, 0.0453, 0.0364, 0.0356, 0.0631, 0.0633, 0.0383, 0.0293, 0.0472, 0.0672, 0.0445, 0.0309, 0.0305, 0.067, 0.0536, 0.0346, 0.0256, 0.0314, 0.0653, 0.0462, 0.0274, 0.0247, 0.0318, 0.0733, 0.0461, 0.0245, 0.0185, 0.0356, 0.0696, 0.0424, 0.0279, 0.0283]}, {\"line\": {\"color\": \"#146320\"}, \"name\": \"acc\", \"type\": \"scatter\", \"uid\": \"760029c1-7862-495f-9d01-f1658576ab02\", \"x\": [0, 1, 2, 3, 4, 5, 6, 7, 8, 9, 10, 11, 12, 13, 14, 15, 16, 17, 18, 19, 20, 21, 22, 23, 24, 25, 26, 27, 28, 29, 30, 31, 32, 33, 34, 35, 36, 37, 38, 39, 40, 41, 42, 43, 44, 45, 46, 47, 48, 49, 50, 51, 52, 53, 54, 55, 56, 57, 58, 59, 60, 61, 62, 63, 64, 65, 66, 67, 68, 69, 70, 71, 72, 73, 74, 75, 76, 77, 78, 79, 80, 81, 82, 83, 84, 85, 86, 87, 88, 89, 90, 91, 92, 93, 94, 95, 96, 97, 98, 99], \"y\": [0.2929, 0.4072, 0.4848, 0.5593, 0.6419, 0.7102, 0.7715, 0.823, 0.8655, 0.9013, 0.9306, 0.947, 0.958, 0.9654, 0.9682, 0.9713, 0.9696, 0.9758, 0.9739, 0.9771, 0.9742, 0.9755, 0.9771, 0.9808, 0.9824, 0.972, 0.9754, 0.9817, 0.9809, 0.9761, 0.9744, 0.9807, 0.984, 0.9789, 0.977, 0.9805, 0.9821, 0.9805, 0.9793, 0.9813, 0.9827, 0.982, 0.9824, 0.9829, 0.9836, 0.9835, 0.9801, 0.983, 0.9866, 0.987, 0.9788, 0.9814, 0.9849, 0.9867, 0.9826, 0.9819, 0.9894, 0.989, 0.983, 0.9762, 0.9874, 0.991, 0.9911, 0.981, 0.9772, 0.9894, 0.9916, 0.9881, 0.9787, 0.9878, 0.9906, 0.9912, 0.9832, 0.9824, 0.9892, 0.9928, 0.9872, 0.9817, 0.9872, 0.992, 0.9926, 0.9819, 0.9845, 0.9903, 0.9932, 0.9912, 0.9816, 0.987, 0.9928, 0.9935, 0.9915, 0.9782, 0.9865, 0.9931, 0.9948, 0.9905, 0.9803, 0.988, 0.9921, 0.9924], \"yaxis\": \"y2\"}],\n",
       "                        {\"title\": {\"text\": \"loss and acc vs Epoch\"}, \"xaxis\": {\"title\": {\"text\": \"Epoch\"}}, \"yaxis\": {\"showgrid\": false, \"title\": {\"text\": \"loss\"}}, \"yaxis2\": {\"overlaying\": \"y\", \"showgrid\": false, \"side\": \"right\", \"title\": {\"text\": \"acc\"}}},\n",
       "                        {\"showLink\": false, \"linkText\": \"Export to plot.ly\", \"plotlyServerURL\": \"https://plot.ly\", \"responsive\": true}\n",
       "                    ).then(function(){\n",
       "                            \n",
       "var gd = document.getElementById('d0eb784d-70ff-4463-8915-8347038efe23');\n",
       "var x = new MutationObserver(function (mutations, observer) {{\n",
       "        var display = window.getComputedStyle(gd).display;\n",
       "        if (!display || display === 'none') {{\n",
       "            console.log([gd, 'removed!']);\n",
       "            Plotly.purge(gd);\n",
       "            observer.disconnect();\n",
       "        }}\n",
       "}});\n",
       "\n",
       "// Listen for the removal of the full notebook cells\n",
       "var notebookContainer = gd.closest('#notebook-container');\n",
       "if (notebookContainer) {{\n",
       "    x.observe(notebookContainer, {childList: true});\n",
       "}}\n",
       "\n",
       "// Listen for the clearing of the current output cell\n",
       "var outputEl = gd.closest('.output');\n",
       "if (outputEl) {{\n",
       "    x.observe(outputEl, {childList: true});\n",
       "}}\n",
       "\n",
       "                        })\n",
       "                };\n",
       "                });\n",
       "            </script>\n",
       "        </div>"
      ]
     },
     "metadata": {},
     "output_type": "display_data"
    }
   ],
   "source": [
    "__ = open('verboseUnits512.txt','r')\n",
    "verbose = __.read()\n",
    "__.close()\n",
    "\n",
    "verbose = verbose.replace('loss: ',\"$\")\n",
    "verbose = verbose.replace('acc: ',\"+\")\n",
    "\n",
    "loss = ' '.join([word for word in verbose.split() if word.startswith(\"$\")])\n",
    "loss = loss.split(\"$\")[1:]\n",
    "loss = list(map(float,loss))\n",
    "\n",
    "acc = ' '.join([word for word in verbose.split() if word.startswith(\"+\")])\n",
    "acc = acc.split(\"+\")[1:]\n",
    "acc = list(map(float,acc))\n",
    "\n",
    "\n",
    "df = pd.DataFrame({'loss':loss,'acc':acc})\n",
    "\n",
    "loss = go.Scatter(y=df.loss,x=df.index,line={'color':'#072b61'},name='loss')\n",
    "acc = go.Scatter(y=df.acc,x=df.index,line={'color':'#146320'},name='acc',yaxis='y2')\n",
    "\n",
    "layout = go.Layout(title='loss and acc vs Epoch',xaxis={'title':'Epoch'},yaxis = {'title':'loss','showgrid':False},yaxis2 = {'title':'acc','overlaying':'y','side':'right','showgrid':False})\n",
    "\n",
    "fig = go.Figure(data=[loss,acc],layout=layout)\n",
    "\n",
    "offline.iplot(fig)"
   ]
  },
  {
   "cell_type": "code",
   "execution_count": 15,
   "metadata": {},
   "outputs": [],
   "source": [
    "# generate a sequence of characters with a language model\n",
    "def generate_seq(model, mapping, seq_length, seed_lyric, n_chars):\n",
    "    lyrics = seed_lyric\n",
    "    for __ in range(n_chars):\n",
    "    # encode the characters as integers\n",
    "        encoded = [mapping[char] for char in lyrics]\n",
    "    # truncate sequences to a fixed length\n",
    "        encoded = pad_sequences([encoded], maxlen=seq_length, truncating='pre')\n",
    "    # one hot encode\n",
    "        encoded = to_categorical(encoded, num_classes=len(mapping))\n",
    "    # predict character\n",
    "        yhat = model.predict_classes(encoded, verbose=0)\n",
    "    # reverse map integer to character\n",
    "        out_char = ''\n",
    "        for char, index in mapping.items():\n",
    "            if index == yhat:\n",
    "                out_char = char\n",
    "                break\n",
    "    # append to input\n",
    "        lyrics += char\n",
    "    return lyrics"
   ]
  },
  {
   "cell_type": "markdown",
   "metadata": {},
   "source": [
    "Is there a song other than Stairway to Heaven that I could have used for the kickoff sequence?"
   ]
  },
  {
   "cell_type": "code",
   "execution_count": 16,
   "metadata": {},
   "outputs": [],
   "source": [
    "startLyrics = \"Playing ethnicky jazz To parade your snazz On your five-grand stereo Braggin' that you know How the \""
   ]
  },
  {
   "cell_type": "markdown",
   "metadata": {},
   "source": [
    "Run the model and print the lyrics"
   ]
  },
  {
   "cell_type": "code",
   "execution_count": 17,
   "metadata": {},
   "outputs": [
    {
     "name": "stdout",
     "output_type": "stream",
     "text": [
      "Playing ethnicky jazz To parade your snazz On your five-grand stereo Braggin' that you know How the bading the song the whole U.S.A My days are all the good times the badin' on the sun hear I'd not in's back home again Jolene, Jolene, Jolene, Jolene, Jolene, Jolene, Jolene, Jolene, Jolene, Jolene, Jolene, Jolene, Jolene, Jolene, Jolene, Jolene, Jolene, Jolene, Jolene, Jolene, Jolene, Jolene, Jolene, Jolene, Jolene, Jolene, Jolene, Jolene, Jolene, Jolene, Jolene, Jolene, Jolene, Jolene, Jolene, Jolene, Jolene, Jolene, Jolene, Jolene, Jolene, Jolene, Jolene, Jolene, Jolene, Jolene, Jolene, Jolene, Jolene, Jolene, Jolene, Jolene, Jolene, Jolene, Jolene, Jolene, Jolene, Jolene, Jolene, Jolene, Jolene, Jolene, Jolene, Jolene, Jolene, Jolene, Jolene, Jolene, Jolene, Jolene, Jolene, Jolene, Jolene, Jolene, Jolene, Jolene, Jolene, Jolene, Jolene, Jolene, Jolene, Jolene, Jolene, Jolene, Jolene, Jolene, Jolene, Jolene, Jolene, Jolene, Jolene, Jolene, Jolene, Jolene, Jolene, Jolene, Jolene, Jolene, Jolene, Jolene, Jolene, Jolene, Jolene, Jolene, Jolene, Jolene, Jolene, Jolene, Jolene, Jolene, J\n"
     ]
    }
   ],
   "source": [
    "lyricsFinal = generate_seq(model,mapping,length,startLyrics,1000)\n",
    "print(lyricsFinal)"
   ]
  },
  {
   "cell_type": "code",
   "execution_count": 18,
   "metadata": {},
   "outputs": [],
   "source": [
    "df = pd.read_json('modelLyricsHistory.json')"
   ]
  },
  {
   "cell_type": "code",
   "execution_count": 19,
   "metadata": {},
   "outputs": [
    {
     "data": {
      "text/html": [
       "<div>\n",
       "<style scoped>\n",
       "    .dataframe tbody tr th:only-of-type {\n",
       "        vertical-align: middle;\n",
       "    }\n",
       "\n",
       "    .dataframe tbody tr th {\n",
       "        vertical-align: top;\n",
       "    }\n",
       "\n",
       "    .dataframe thead th {\n",
       "        text-align: right;\n",
       "    }\n",
       "</style>\n",
       "<table border=\"1\" class=\"dataframe\">\n",
       "  <thead>\n",
       "    <tr style=\"text-align: right;\">\n",
       "      <th></th>\n",
       "      <th>val_loss</th>\n",
       "      <th>val_acc</th>\n",
       "      <th>loss</th>\n",
       "      <th>acc</th>\n",
       "    </tr>\n",
       "  </thead>\n",
       "  <tbody>\n",
       "    <tr>\n",
       "      <th>0</th>\n",
       "      <td>2.421204</td>\n",
       "      <td>0.337436</td>\n",
       "      <td>2.818626</td>\n",
       "      <td>0.248406</td>\n",
       "    </tr>\n",
       "    <tr>\n",
       "      <th>1</th>\n",
       "      <td>2.269156</td>\n",
       "      <td>0.374804</td>\n",
       "      <td>2.318160</td>\n",
       "      <td>0.353586</td>\n",
       "    </tr>\n",
       "    <tr>\n",
       "      <th>2</th>\n",
       "      <td>2.052064</td>\n",
       "      <td>0.405684</td>\n",
       "      <td>2.170305</td>\n",
       "      <td>0.391910</td>\n",
       "    </tr>\n",
       "    <tr>\n",
       "      <th>3</th>\n",
       "      <td>1.927132</td>\n",
       "      <td>0.437234</td>\n",
       "      <td>1.957093</td>\n",
       "      <td>0.433814</td>\n",
       "    </tr>\n",
       "    <tr>\n",
       "      <th>4</th>\n",
       "      <td>1.871062</td>\n",
       "      <td>0.464981</td>\n",
       "      <td>1.810224</td>\n",
       "      <td>0.469621</td>\n",
       "    </tr>\n",
       "    <tr>\n",
       "      <th>5</th>\n",
       "      <td>1.877762</td>\n",
       "      <td>0.453793</td>\n",
       "      <td>1.666510</td>\n",
       "      <td>0.512141</td>\n",
       "    </tr>\n",
       "    <tr>\n",
       "      <th>6</th>\n",
       "      <td>1.800563</td>\n",
       "      <td>0.486462</td>\n",
       "      <td>1.515540</td>\n",
       "      <td>0.550856</td>\n",
       "    </tr>\n",
       "    <tr>\n",
       "      <th>7</th>\n",
       "      <td>1.777263</td>\n",
       "      <td>0.498769</td>\n",
       "      <td>1.348565</td>\n",
       "      <td>0.599362</td>\n",
       "    </tr>\n",
       "    <tr>\n",
       "      <th>8</th>\n",
       "      <td>1.828017</td>\n",
       "      <td>0.498098</td>\n",
       "      <td>1.149072</td>\n",
       "      <td>0.657268</td>\n",
       "    </tr>\n",
       "    <tr>\n",
       "      <th>9</th>\n",
       "      <td>1.906298</td>\n",
       "      <td>0.485343</td>\n",
       "      <td>0.957075</td>\n",
       "      <td>0.714166</td>\n",
       "    </tr>\n",
       "  </tbody>\n",
       "</table>\n",
       "</div>"
      ],
      "text/plain": [
       "   val_loss   val_acc      loss       acc\n",
       "0  2.421204  0.337436  2.818626  0.248406\n",
       "1  2.269156  0.374804  2.318160  0.353586\n",
       "2  2.052064  0.405684  2.170305  0.391910\n",
       "3  1.927132  0.437234  1.957093  0.433814\n",
       "4  1.871062  0.464981  1.810224  0.469621\n",
       "5  1.877762  0.453793  1.666510  0.512141\n",
       "6  1.800563  0.486462  1.515540  0.550856\n",
       "7  1.777263  0.498769  1.348565  0.599362\n",
       "8  1.828017  0.498098  1.149072  0.657268\n",
       "9  1.906298  0.485343  0.957075  0.714166"
      ]
     },
     "execution_count": 19,
     "metadata": {},
     "output_type": "execute_result"
    }
   ],
   "source": [
    "df"
   ]
  }
 ],
 "metadata": {
  "kernelspec": {
   "display_name": "NLP-country-song",
   "language": "python",
   "name": "nlp-country-song"
  },
  "language_info": {
   "codemirror_mode": {
    "name": "ipython",
    "version": 3
   },
   "file_extension": ".py",
   "mimetype": "text/x-python",
   "name": "python",
   "nbconvert_exporter": "python",
   "pygments_lexer": "ipython3",
   "version": "3.7.1"
  }
 },
 "nbformat": 4,
 "nbformat_minor": 2
}
