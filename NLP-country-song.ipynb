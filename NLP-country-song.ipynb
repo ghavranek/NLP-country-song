{
 "cells": [
  {
   "cell_type": "markdown",
   "metadata": {},
   "source": [
    "<span style=\"font-size: 2em; font-weight:bold\">AI 70's Country</span>"
   ]
  },
  {
   "cell_type": "code",
   "execution_count": 1,
   "metadata": {},
   "outputs": [
    {
     "name": "stderr",
     "output_type": "stream",
     "text": [
      "Using TensorFlow backend.\n"
     ]
    },
    {
     "data": {
      "text/html": [
       "        <script type=\"text/javascript\">\n",
       "        window.PlotlyConfig = {MathJaxConfig: 'local'};\n",
       "        if (window.MathJax) {MathJax.Hub.Config({SVG: {font: \"STIX-Web\"}});}\n",
       "        if (typeof require !== 'undefined') {\n",
       "        require.undef(\"plotly\");\n",
       "        requirejs.config({\n",
       "            paths: {\n",
       "                'plotly': ['https://cdn.plot.ly/plotly-latest.min']\n",
       "            }\n",
       "        });\n",
       "        require(['plotly'], function(Plotly) {\n",
       "            window._Plotly = Plotly;\n",
       "        });\n",
       "        }\n",
       "        </script>\n",
       "        "
      ]
     },
     "metadata": {},
     "output_type": "display_data"
    }
   ],
   "source": [
    "import warnings\n",
    "warnings.filterwarnings('ignore')\n",
    "\n",
    "import scipy\n",
    "import numpy as np\n",
    "import matplotlib\n",
    "import pandas as pd\n",
    "import statsmodels\n",
    "import sklearn\n",
    "import tensorflow\n",
    "import keras\n",
    "\n",
    "from keras.models import Sequential, load_model\n",
    "from keras.layers import Dense,LSTM\n",
    "from keras.utils import to_categorical\n",
    "from keras.preprocessing.sequence import pad_sequences\n",
    "from keras.callbacks import History\n",
    "import string\n",
    "import pyarrow as pa\n",
    "\n",
    "\n",
    "import plotly.graph_objs as go\n",
    "import plotly\n",
    "from plotly.offline import plot, iplot, init_notebook_mode\n",
    "init_notebook_mode(connected = True)\n",
    "import plotly.offline as offline\n",
    "from plotly import tools\n",
    "\n",
    "import json"
   ]
  },
  {
   "cell_type": "markdown",
   "metadata": {},
   "source": [
    "As always, data prep is the hardest part of the project.  Because I am going to use a validation set in training my model, and because Keras uses the last n% of the data as the validation set, I want to shuffle the lyrics so that my validation set contains a better representation of all the data - not just the last song.  I also want to get the most originality that I can out of the model, so I will eliminate duplicate lyrics (some songs have refrains that repeat multiple times).  "
   ]
  },
  {
   "cell_type": "code",
   "execution_count": 2,
   "metadata": {},
   "outputs": [],
   "source": [
    "lyricsCSV = pd.read_csv('lyricsTrain.csv',encoding='ISO-8859-1')\n",
    "lyricsCSV.sort_values('lyrics',inplace=True)\n",
    "lyricsCSV.drop_duplicates(keep='first',inplace=True)\n",
    "lyricsCSV = lyricsCSV.sample(frac=1)\n",
    "\n",
    "\n",
    "\n",
    "lyricsCSV.to_csv('lyrics.txt',sep='\\t',index=False)\n",
    "l = open('lyrics.txt','r')\n",
    "lyrics = l.read()\n",
    "l.close()"
   ]
  },
  {
   "cell_type": "markdown",
   "metadata": {},
   "source": [
    "Remove lines and print"
   ]
  },
  {
   "cell_type": "code",
   "execution_count": 3,
   "metadata": {},
   "outputs": [
    {
     "name": "stdout",
     "output_type": "stream",
     "text": [
      "lyrics That I should have been home yesterday, yesterday Got us feuding like the Hatfields and McCoys And combed my hair Hello sunshine They love our milk and honey I'd play Sally Goodin all day if I could You needed me, you needed me No one will ever know just how much I love you so And somewhere far away And Jerry Jeff's train songs and Blue Eyes Cryin' in the Rain Shine on me sunshine I turned around and there was a big old cop Well I wouldn't trade my life for diamonds and jewels \"\"\"When you hot, you hot\"\"\" People see us everywhere they all think you really care I don't need my name in the marquee lights On the road to my horizon Gotta go, I love you But I lit my first and watched a small kid The disappearing dreams of yesterday Can forget I've ever known her And here I am'a walking down sixty-six Would you marry me anyway When ever I chance to meet, some old friends on the street Save your love through sorrow The judge was a fishin' buddy that I recognized But what would it matter When I heard somethin' behind me And pretty soon I'm wond'rin how I came to doubt you. One more hug would do But if you ever want somebody to just love ya, and some day you Than what I've been fighting at home That I'd lost somehow And the beer I had for breakfast wasn't Then I crossed the empty street and If you were a miller I'd smoked my brain the night before Riding out on a horse in a star-spangled rodeo And papa, I sure hope you understand I'd answer you yes I would Take me home, down country roads \"\"\"Look like I'm gonna hafta haul you all in\" Let 'em be doctors and lawyers and such And he took me by the hand and held me close to his side If you don't understand him and he don't die young Who claims that he just don't believe in fightin' My hopes my dreams come true my one and only you I pull out my fiddle and I rosin up the bow I'll make the bed My daddy worked all night in the Van Lear coal mines \"He said \"\"Well, when you're hot, you're hot\"\"\" Walk with me world \"He said, \"\"this one's for Becky, as he watched the last one fall\" And them that do sometimes won't know how to take him When you take you gotta give so live and let live And there's nothing short of dying With a subway token and a dollar tucked inside my shoe He's the only one for me Caught the sunday smell Maybe it's time we got back to the basics of love I wish you joy Mama don't let your babies grow up to be cowboys Well, I was borned a coal miner's daughter Prettiest woman you ever laid eyes on I could sing you a tune and promise you the moon And held me up and gave me dignity Tommy opened up the door, and saw his Becky crying Cause therels something in a sunday Is anybody goin' to San Antone That I always thought it could be He shoveled coal to make a poor man's dollar Something always told me they were reading Tommy wrong \"\"\"Judge\"\"\" Miner's lady, stranger to blue water And stumbled down the stairs But in the wintertime we'd all get a brand new pair I'll fix your lunch Cussin' at a can that he was kickin Honey, come back Well a simple kinda life never did me no harm Don't it make my brown eyes That's the one thing that daddy made sure of But I'm gonna be where the lights are shinin' on me To face the world out on my own again In the summertime we didn't have shoes to wear And I dream of the things I'll do Has been shattered by the closing of the door Let this song that I'm singin' be a warnin' There's gotta be a little rain some time Just when I'm about to make it work without you But I'd rather fight the wind and rain Back to his arms and never know As they gently walk across the lonely floor Say it isn't true and Had a big crap game goin' back in the alley And I cannot compete with you There's someone for everyone, and Tommy's love was Becky I'll think of you each step of the way Your voice is soft like summer rain I know those bright lights are callin' ya, honey. All you gotta do is smile that smile Let's go to Luckenbach, Texas This successful life we're livin' got us feudin' \"Whadda you mean 'contempt of court'?\"\"\" Well, when he took us inta court I couldn't believe my eyes Come along and share the good times while we can Harpin' on the wars we fight When I was lost you took me home Yeah, I'm proud to be a coal miner's daughter \"You even called me \"\"friend\"\"\" And ever' thing would start all over come break of morn \"Said, \"\"Live a good life and play the fiddle with pride\" I say, yeah, when you're hot, you're hot You put me high upon a pedestal He'd never stood one single time to prove the county wrong \"I said \"\"well I'll tell ya one thing judge, old buddy, old pal\"\"\" And every time they ask me why I just smile & say The radio reminds me of my home far away Misty taste of moonshine, teardrop in my eye I sold my soul, you bought it back for me Do these old shoes look funny When the party's all over she'll welcome him back home again And the answer is in this song that I always sing But above all this Mommy scrubbed our clothes on a washboard ever' day With no way to hold my head And I love you will always love you Give me your tomorrow So that is why I'm gonna say it one more time And there's nothing I can do to keep Out in Luckenbach, Texas ain't nobody feelin' no pain He ain't wrong he's just different Anyplace is alright as long as I That didn't hurt \"\"\"If you wasn't wearin' that black robe I'd take out in back of this courthouse\" You waltz right in the door The kids are asleep so I keep it kinda low I hear her voice, in the morning hour she calls me And you were a lady I cried a tear, you wiped it dry You gave me strength to stand alone again But when they're runnin' down our country, man Your smile is like a breath of spring That's all I'm taking with me He like the night life, the bright lights and good-timin' friends I said I'd never say it again Well I woke up Sunday morning Half as lonesome as the sound And wrap my heart 'round your little finger My heart I can't control you lure my very soul Yeah, city folk drivin' in a black limousine And I shaved my face Tell me you love me and don't let me cry Jolene Now the love that kept this old heart beating Say anything but don't say goodbye To complain, there was no need He wasn't holding nothin' back, he let 'em have it all But I could never love again She loves him in spite of his ways that she don't understand And offers comin' over the phone And I kept rollin' them sevens , winnin' all them pots When the work's all done and the sun's settlin' low As much as I love waking up next to you Give me no reasons, give me alibies The rest of us can count on bein' free And I'll never leave, why should I leave? In your high society you cry all day And I can easily understand And I can't believe it's you Or let go oh-whoa-whoa-whoa The Gatlin boys just laughed at him when he walked into the barroom Bad so I had one more for dessert How you could easily take my man I'd be a fool 'cause I finally found someone who really cares I was confused, you cleared my mind Do you love waking up next to me \"He said \"\"Yeah\"\"\" Thank God I'm a country boy As the tears fell on his daddy's face, he heard these words again With Waylon and Willie and the boys Out in Luckenbach, Texas there ain't nobody feelin' no pain Don't let 'em pick guitars and drive them old trucks With ivory skin and eyes of emerald green The torn dress, the shattered look was more than he could stand And a voice is softly saying Runnin' down the way of life One day while he was working, the Gatlin boys came calling \"n' I said \"\"Thanks a lot\"\"\" And whatever you decide to do And so I'll go, but I know You're messin' up my mind and fillin' up my senses Sunday morning coming down Like a rhinestone cowboy Just when I've begun to get myself together There goes the one of my dreams And I wish you happiness I'd not miss my colored blouse But honey now I do I read about some squirrelly guy A raisin' me a family and workin' on a farm \"\"\"Ninety days, Jerry, when you hot, you hot\"\"\" Is here you come again, and here I go, here I go This successful life we're livin's got us feudin' He'll probably just ride away Younger than the mountains, blowing like a breeze With flaming locks of auburn hair Through teardrops and laughter, they'll pass through this world hand-in-hand, Mamas' don't let your babies grow up to be cowboys Wishing lord that I was stoned But you don't find roses growin' on stalks of clover Well life on the farm is kinda laid back Rain dripping off the brim of my hat I beg your pardon There goes my only possession I can't believe it's true Don't it make my brown eyes blue Well there goes my only possession But there's one thing I want you to know Well I got me a fine wife I got me an ole fiddle He let my friends go free and throwed the book at me Please don't take him even though you can All my memories gather round her That I've been pickin' Now please don't think I'm weak, I didn't turn the other cheek The only two things in life that make it worth livin' Now shine on me sunshine Would I still find you \"\"\"I promised you, Dad, not to do the things you've done\" Singin' the same old song But I just can't let you go without telling you just how much I love you. West Virginia, mountain mama Here I go Jolene, Jolene I never promised you a rose garden Just leave it up to you and in a little while \"I said, \"\"Well, son when you hot, you hot\"\"\" Now tell me the truth Didn't know just what I had Taught me how to love and how to give just a little You can 'splain it all down at City Hall I'd have your baby From crying when he calls your name I got my song and I got you with me tonight In her arms, he didn't have to prove he was a man Well people may try to guess, the secret of my happiness Ain't much an old country boy like me can't hack I'd rather have my fiddle and my farmin' tools Don't know what's come over you Honey, I know I've said it too many times before \"\"\"And I'd try a little bit of your honor on\"\"\" Wind whipping down the neck of my shirt But you're down when you're ridin' the train that's takin' the long way Of someone fryin chicken I needed you and you were there About the way they have to live here in this country Not much left but the floor, nothing lives here anymore And listened to the song And there won't always be someone there to pull you out And your soft shoes shining? They took turns at Becky, n'there was three of them That you ever dreamed of But myself I can't deceive I know it's only make believe As my memory turns back the pages If a tinker was my trade And kiss the happiest girl, in the whole U.S.A. I've always got a smiling face, anytime & any place To the place I belong And don't it make my brown eyes Big fine cars and fancy clothes. And my soft shoes shining I hope you're old enough to understand When you're hot, you're hot Blue Ridge Mountains, Shenandoah River But I'll still be just as gone Thank you oh Lord for making him for me I'd marry you anyway They wonder how does a man get to be this way What you need Why'd we move that bojangle clock so far away from the bed And a smile can hide all the pain Just like you've done before From a mail order catalog \"I said \"\"Hey, judge, old buddy, old pal\"\"\" You've found someone new and In her younger days they called her Delta Dawn (La la la la la la la, when you're hot, you're hot) They're walkin' on the fightin' side of me Kiss an angel good morning My luck was so good I could do no wrong \"And keep all that money for evidence\"\"\" You look into my eyes and lie those pretty lies A man could wake up dead Cause she walks dowtown with a suitcase in her hand Lonestar belt buckles and old faded Levi's and each night begins a new day It's a skippidity do da day Like I aint got nothing on I'd just as soon let you go He reached above the fireplace, and took down his daddy's picture When you're runnin' down our country, hoss \"I said \"\"Yeah?\"\"\" And did I hear you say he was a-meeting you here today A lonely bell was ringing I'll just cry all night long I, I will always, always love you And I hope that you have all Where you belong to only me. And standin' up for things they believe in Buy some boots and faded jeans and go away So I'm just gonna take my bags and I'm gonna walk. Your beauty is beyond compare Between Hank Williams' pain songs and Cause we both know that I'm not I jest kept on rollin' and controllin' them bones Sleepin' in our king size bed I never was one of them money hungry fools Them that don't know him won't like him Country roads, take me home He was only ten years old when his daddy died in prison Well, now every time I rolled them dice I'd win This coat and tie is choking me Please don't take him just because you can Honey, come back where you belong to only me. His mama named him Tommy, but folks just called him yellow And thank you for letting life turn out the way Mommy rocked the babies at night And let her know you think about her when you're gone That's why we moved it \"\"\"Promise me, son, not to do the things I've done\" There goes my everything Lord knows she don't understand him, but she does the best that she can I will always love you Delta Dawn, what's that flower you have on? And there got all my defenses When Tommy left the barroom, not a Gatlin boy was standing Love shouldn't be so melancholy My plans my hopes my schemes you are my every dream but it's only make believe But if that's what it takes to hold you I hope life, treats you kind My daddy taught me young how to hunt and how to whittle You better look before you leap, still waters run deep She just talks about the good times they've had and all the good times to come I hear people talkin' bad, \"\"\"Who gonna collect my welfare?\"\"\" But she never complains of the bad times or bad things he's done, Lord Like the Hatfield and McCoys And when you're not, you're not When you're runnin' down our country, man People writing letters back home And would you not be above me? Just may, just give me a call-you know where I am With cigarettes and songs Honey, come back I just can't stand And nice guys get washed away like the snow and the rain My happiness depends on you If I were a carpenter Well, I guess that's about all I gotta say. If you don't love it, leave it You could have your choice of men Little warm puppies and children and girls of the night Well me and Homer Jones and Big John Talley Yonder comes a truck with the US mail The good life he promised ain't what she's living today Is here you come again and here I go Daddy loved and raised eight kids on a miner's pay Save your love through loneliness To meet the day I gave you my onlyness And here I go \"He said \"\"Hello, boys\"\" and then he gave us a grin 'n' said\" There goes my reason for living Willie and Waylon and the boys I didn't mean to treat you bad \"When Tommy turned around they said, \"\"hey look, old yeller's leaving\"\"\" Honey it's almost nine Or Phoenix Arizona This successful life we're livin' So smile for a while and let's be jolly Dark and dusty, painted on the sky Then I fumbled through my closet There once was a time when I could not imagine And turned my lies back into truth again And driving down the road I get a feeling But the Lord and my wife wouldn't take it very good Put all the money in and let's roll 'em again Good-bye, please don't cry I hear footsteps slowly walking To take you to his mansion in the sky? Then a man of low degree stood by her side Cause she's a good-hearted woman; she loves her good timin' man Would you miss your colored blouse Don't let 'em pick guitars or drive them old trucks You've got to kiss an angel good morning It sure is cold today How it would feel to say I would only be in your way Each lonely day's a little bit longer My hopes my dreams come true my life I give for you They'd rather give you a song then diamonds or gold Between Hank Williams' pain songs If I were a miller At night we'd sleep 'cause we were tired In the park I saw a daddy Somehow you needed me Now, it won't mean you're weak if you turn the other cheek And promised her he'd take her for his bride You're hot Take me home, country roads Tell me no secrets, tell me some lies Well, my fiddle was my daddy's till the day he died One of them got up and met him halfway 'cross the floor For my clothes You're walkin' on the fightin' side of me Where hustle's the name of the game Son, let me tell ya now exactly what I mean Here you come again lookin' better than a body has a right to Four car garage and we're still building on Would you still love me? I wish you love If I worked my hands on wood I'd be carrying the pots you made Almost heaven, West Virginia And it echoed thru the canyon like No one will ever know how much I love you so But it sure seems warmer than it did \"(When you're hot, you're hot\"\")\" My heart or wedding ring my all my everything The joy of love that used to taste like Could it be a faded rose from days gone by? Oh there goes my everything Along with the sunshine Somewhere along the way Here you come again Wake up sleepy head \"Sometimes you gotta fight when you're a man\"\"\" So he gave my friends a little fine to pay And I will always love you So baby, let's sell your diamond ring I walk away from trouble when I can Getting cards and letters from people I don't even know If I should stay My days are all filled with an easy country charm Just one more minute On the sleeping city sidewalk A lotta sad people thinkin' that's mighty keen I remember well, the well where I drew water I never thought of ever leaving Butcher Holler He turned around and grinned at me and said Bitter-sweet memories And finally they jest threw up their hands and said That makes a body feel alone Except the memory of a coal miner's daughter And I don't mind 'em switchin' sides I'm the happiest girl, in the whole U.S.A. If you were a carpenter Cowboys like smokey old pool rooms and clear mountain mornin's With a laughing little girl Life is old there, older than the trees Is guitars that tune good and firm feelin' women You gave me hope when I was at the end Daddy always managed to get the money somewhere Well if sweet-talkin' you could make it come true Skippidity do da Looking for a mysterious dark-haired man And read the Bible by the coal oil light And I were a lady But you don't know what he means to me The secret I'm speaking of, is a woman & a man in love There's been a load of compromisin' Jolene, Jolene, Jolene, Jolene Cowboys ain't easy to love and they're harder to hold And shakin' me up so that all I really know \"\"\"You understand that, you hillbilly?\"\"\" So high that I could almost see eternity It's early to rise, early in the sack I guess I shouldn't say anything at all since you're supposed to belong to him. And it took me back to something Well, I really don't mind the rain And found my cleanest dirty shirt And gripin' 'bout the way things oughta be And love her like the devil when you get back home Forget I've ever known her Tomorrow she'll probably want me back But some of them never learn it's a simple thing I'm begging of you please don't take my man Darling this will be goodbye for evermore I had to have this talk with you You held my hand when it was cold I'll be fine when you're gone Rhinestone cowboy We've been so busy keepin' up with the Jones Runnin' down a way of life You make the coffee When the sun's comin' up I got cakes on the griddle And you fix mine I'm happiest girl, in the whole U.S.A We were poor but we had love My only prayer will be some day you'll care for me but it's only make believe \"\"\"Pay for my Cadillac?\"\"\" It won't mean you're weak if you turn the other cheek That they were singing Have a beautiful day, Don't know when I've been so blue So you better think it over The work we done was hard \"\"\"I'll pay ya that hundred I owe ya if you'll get me outta this spot\"\"\" He was swingin All day long in the field a hoin' corn There'll be a load of compromisin' Good morning morning All the folks around Brownsville say she's crazy Gettin' card and letters from people I don't even know Cause they'll never stay home and they're always alone \"Son, you don't have to fight to be a man\"\"\" Gettin' cards and letters from people I don't even know Then I headed back for home (La la la la la la la) (La la la la la) Our fightin' men have fought and died to keep Everyone considered him the coward of the county Than the last time I held you And a mill wheel grinding Even with someone they love Money made from selling a hog And I stopped beside the Sunday school Well a lot of things have changed since a way back then She'd smile in mommy's understanding way Newberry's train songs and Blue Eyes Cryin' in the Rain I would give you the world right now on a silver platter \"She's forty-one and her daddy still calls her \"\"baby\"\"\" I can see the happy years we've had before And here is what I'll say Life ain't nothin' but a funny funny riddle Wish she hadn't done me that way But his pride won't let him do things to make you think he's right She's a good-hearted woman in love with a good-timin' man Seems like a hundred years ago So I fiddle when I can, work when I should He talks about you in his sleep But you could've heard a pin drop when Tommy stopped and locked the door I looked after Tommy, 'cause he was my brother's son Here you come again and here I go I've been walkin' these streets so long My one and only prayer is that some day you'll care I know every crack in these dirty sidewalks of Broadway A good-hearted woman loving her good timing man Would you have my baby? Sleeping under a table at a road side park A long time forgotten are dreams that just fell by the way I still recall the final words my brother said to Tommy \"\"\"Son, my life is over, but yours has just begun\"\"\" Why I've seen her fingers bleed And I was just gettin' ready to roll 'em again And it's so good to be back home again Cause there's something in a sunday On the sunday morning sidewalk Walk away from trouble if you can Taught me how to work and play a tune on the fiddle And I wonder just how long Twenty years of crawling was bottled up inside him Now you be careful Following behind you In a cabin, on a hill in Butcher Holler And you know what I'm talkin' about But they preach about some other way of livin' I could promise you things like big diamond rings My only prayer will be that some day you'll care for me but it's only make believe And there go all my defenses And thank God you're a country boy\n"
     ]
    }
   ],
   "source": [
    "tokens = lyrics.split()\n",
    "lyrics = ' '.join(tokens)\n",
    "print(lyrics)"
   ]
  },
  {
   "cell_type": "markdown",
   "metadata": {},
   "source": [
    "One final thing, when I look at the above lyrics, I seem to see a LOT of quotation marks.  So, I am going to just replace those with a space.  "
   ]
  },
  {
   "cell_type": "code",
   "execution_count": 4,
   "metadata": {},
   "outputs": [],
   "source": [
    "lyrics = lyrics.replace('\"',' ')"
   ]
  },
  {
   "cell_type": "markdown",
   "metadata": {},
   "source": [
    "Now, we can build sequences of characters that will be used to predict a final character"
   ]
  },
  {
   "cell_type": "code",
   "execution_count": 5,
   "metadata": {},
   "outputs": [],
   "source": [
    "length = 100 # Length of the characer sequences (because we have so much verbage,\n",
    "             # we can use a relatively large number)\n",
    "sequences = list()\n",
    "for i in range(length, len(lyrics)):\n",
    "    seq = lyrics[i-length:i+1]\n",
    "    sequences.append(seq)"
   ]
  },
  {
   "cell_type": "markdown",
   "metadata": {},
   "source": [
    "Create and save a .txt file of our sequences with line endings"
   ]
  },
  {
   "cell_type": "code",
   "execution_count": 6,
   "metadata": {},
   "outputs": [],
   "source": [
    "data = '\\n'.join(sequences)\n",
    "file = open('char_sequences.txt','w')\n",
    "file.write(data)\n",
    "file.close()"
   ]
  },
  {
   "cell_type": "markdown",
   "metadata": {},
   "source": [
    "Create a dictionary of character:number mappings "
   ]
  },
  {
   "cell_type": "code",
   "execution_count": 7,
   "metadata": {},
   "outputs": [],
   "source": [
    "file = open('char_sequences.txt','r')\n",
    "raw_text = file.read()\n",
    "file.close()\n",
    "\n",
    "lines = raw_text.split('\\n')\n",
    "\n",
    "chars = sorted(list(set(raw_text)))\n",
    "mapping = dict((c, i) for i, c in enumerate(chars))\n",
    "\n",
    "# Save the mapping as json \n",
    "json_map = json.dumps(mapping)\n",
    "__ = open('mapping.json','w')\n",
    "__.write(json_map)\n",
    "__.close()"
   ]
  },
  {
   "cell_type": "markdown",
   "metadata": {},
   "source": [
    "Use the dictionary to create sequences of numbers only (numbers that describe the characters)"
   ]
  },
  {
   "cell_type": "code",
   "execution_count": 8,
   "metadata": {},
   "outputs": [],
   "source": [
    "sequences = list()\n",
    "for line in lines:\n",
    "    encoded_seq = [mapping[char] for char in line]\n",
    "    sequences.append(encoded_seq)\n",
    "    \n"
   ]
  },
  {
   "cell_type": "markdown",
   "metadata": {},
   "source": [
    "Create input sets (with 99 characters) and output sets (1 character) and then one-hot code the sets so we can use them to train the model."
   ]
  },
  {
   "cell_type": "code",
   "execution_count": 9,
   "metadata": {},
   "outputs": [],
   "source": [
    "vocab_size = len(mapping)\n",
    "sequences = np.array(sequences)\n",
    "X, y = sequences[:,:-1], sequences[:,-1]\n",
    "sequences = [to_categorical(x, num_classes=vocab_size) for x in X] #one-hot code input\n",
    "X = np.array(sequences)\n",
    "y = to_categorical(y, num_classes=vocab_size) #one-hot code output"
   ]
  },
  {
   "cell_type": "markdown",
   "metadata": {},
   "source": [
    "Fit the model"
   ]
  },
  {
   "cell_type": "code",
   "execution_count": 10,
   "metadata": {},
   "outputs": [
    {
     "name": "stdout",
     "output_type": "stream",
     "text": [
      "WARNING:tensorflow:From /home/ubuntu/Desktop/Projects/NLP-country-song/env/lib/python3.7/site-packages/tensorflow/python/framework/op_def_library.py:263: colocate_with (from tensorflow.python.framework.ops) is deprecated and will be removed in a future version.\n",
      "Instructions for updating:\n",
      "Colocations handled automatically by placer.\n",
      "WARNING:tensorflow:From /home/ubuntu/Desktop/Projects/NLP-country-song/env/lib/python3.7/site-packages/tensorflow/python/ops/math_ops.py:3066: to_int32 (from tensorflow.python.ops.math_ops) is deprecated and will be removed in a future version.\n",
      "Instructions for updating:\n",
      "Use tf.cast instead.\n",
      "Train on 17874 samples, validate on 4469 samples\n",
      "Epoch 1/100\n",
      "17874/17874 [==============================] - 593s 33ms/step - loss: 2.7946 - acc: 0.2566 - val_loss: 2.4627 - val_acc: 0.3247\n",
      "Epoch 2/100\n",
      "17874/17874 [==============================] - 631s 35ms/step - loss: 2.3029 - acc: 0.3550 - val_loss: 2.2396 - val_acc: 0.3757\n",
      "Epoch 3/100\n",
      "17874/17874 [==============================] - 823s 46ms/step - loss: 2.1685 - acc: 0.3955 - val_loss: 2.0688 - val_acc: 0.3920\n",
      "Epoch 4/100\n",
      "17874/17874 [==============================] - 625s 35ms/step - loss: 1.9573 - acc: 0.4339 - val_loss: 1.9493 - val_acc: 0.4368\n",
      "Epoch 5/100\n",
      "17874/17874 [==============================] - 686s 38ms/step - loss: 1.8202 - acc: 0.4669 - val_loss: 1.8858 - val_acc: 0.4545\n",
      "Epoch 6/100\n",
      "17874/17874 [==============================] - 658s 37ms/step - loss: 1.6735 - acc: 0.5081 - val_loss: 1.8461 - val_acc: 0.4670\n",
      "Epoch 7/100\n",
      "17874/17874 [==============================] - 658s 37ms/step - loss: 1.5090 - acc: 0.5582 - val_loss: 1.8230 - val_acc: 0.4822\n",
      "Epoch 8/100\n",
      "17874/17874 [==============================] - 643s 36ms/step - loss: 1.3351 - acc: 0.5997 - val_loss: 1.8255 - val_acc: 0.4880\n",
      "Epoch 9/100\n",
      "17874/17874 [==============================] - 645s 36ms/step - loss: 1.1362 - acc: 0.6592 - val_loss: 1.8722 - val_acc: 0.4887\n",
      "Epoch 10/100\n",
      "17874/17874 [==============================] - 612s 34ms/step - loss: 0.9238 - acc: 0.7213 - val_loss: 1.9369 - val_acc: 0.4858\n",
      "Epoch 11/100\n",
      "17874/17874 [==============================] - 608s 34ms/step - loss: 0.7151 - acc: 0.7885 - val_loss: 2.0120 - val_acc: 0.4784\n",
      "Epoch 12/100\n",
      "17874/17874 [==============================] - 607s 34ms/step - loss: 0.5359 - acc: 0.8503 - val_loss: 2.1561 - val_acc: 0.4784\n",
      "Epoch 13/100\n",
      "17874/17874 [==============================] - 699s 39ms/step - loss: 0.3785 - acc: 0.9044 - val_loss: 2.2560 - val_acc: 0.4775\n",
      "Epoch 14/100\n",
      "17874/17874 [==============================] - 809s 45ms/step - loss: 0.2722 - acc: 0.9365 - val_loss: 2.4072 - val_acc: 0.4728\n",
      "Epoch 15/100\n",
      "17874/17874 [==============================] - 655s 37ms/step - loss: 0.1930 - acc: 0.9609 - val_loss: 2.5089 - val_acc: 0.4746\n",
      "Epoch 16/100\n",
      "17874/17874 [==============================] - 631s 35ms/step - loss: 0.1449 - acc: 0.9713 - val_loss: 2.6505 - val_acc: 0.4706\n",
      "Epoch 17/100\n",
      "17874/17874 [==============================] - 779s 44ms/step - loss: 0.1181 - acc: 0.9788 - val_loss: 2.6955 - val_acc: 0.4706\n",
      "Epoch 00017: early stopping\n"
     ]
    }
   ],
   "source": [
    "#Define parameters\n",
    "units = 512\n",
    "epochs = 100\n",
    "validationSplit = 0.2\n",
    "shuffle = True\n",
    "\n",
    "#Define callbacks\n",
    "es = keras.callbacks.EarlyStopping(monitor = 'val_acc',min_delta = .01, patience = 10, mode = 'max',verbose=1)\n",
    "\n",
    "\n",
    "# define and fit model\n",
    "model = Sequential()\n",
    "model.add(LSTM(units, input_shape=(X.shape[1], X.shape[2])))\n",
    "model.add(Dense(vocab_size, activation='softmax'))\n",
    "model.compile(loss='categorical_crossentropy', optimizer='adam', metrics=['accuracy'])\n",
    "\n",
    "modelLyrics = model.fit(X, y, epochs = epochs, validation_split = validationSplit, \n",
    "                        shuffle = shuffle, verbose=1,callbacks=[es])\n",
    "\n",
    "\n",
    "#save model and history\n",
    "model.save('model.units512.es_val_acc.2')\n",
    "\n",
    "json_hist = json.dumps(modelLyrics.history)\n",
    "__ = open('modelLyricsHistory2.json','w')\n",
    "__.write(json_hist)\n",
    "__.close()\n",
    "\n"
   ]
  },
  {
   "cell_type": "code",
   "execution_count": 11,
   "metadata": {},
   "outputs": [],
   "source": [
    "# store history"
   ]
  },
  {
   "cell_type": "code",
   "execution_count": 12,
   "metadata": {},
   "outputs": [],
   "source": [
    "history = pd.DataFrame(modelLyrics.history)\n",
    "history.to_csv('modelLyricsHistory.csv',index=False)"
   ]
  },
  {
   "cell_type": "code",
   "execution_count": 13,
   "metadata": {},
   "outputs": [
    {
     "data": {
      "text/html": [
       "<div>\n",
       "<style scoped>\n",
       "    .dataframe tbody tr th:only-of-type {\n",
       "        vertical-align: middle;\n",
       "    }\n",
       "\n",
       "    .dataframe tbody tr th {\n",
       "        vertical-align: top;\n",
       "    }\n",
       "\n",
       "    .dataframe thead th {\n",
       "        text-align: right;\n",
       "    }\n",
       "</style>\n",
       "<table border=\"1\" class=\"dataframe\">\n",
       "  <thead>\n",
       "    <tr style=\"text-align: right;\">\n",
       "      <th></th>\n",
       "      <th>val_loss</th>\n",
       "      <th>val_acc</th>\n",
       "      <th>loss</th>\n",
       "      <th>acc</th>\n",
       "    </tr>\n",
       "  </thead>\n",
       "  <tbody>\n",
       "    <tr>\n",
       "      <th>0</th>\n",
       "      <td>2.462709</td>\n",
       "      <td>0.324681</td>\n",
       "      <td>2.794648</td>\n",
       "      <td>0.256630</td>\n",
       "    </tr>\n",
       "    <tr>\n",
       "      <th>1</th>\n",
       "      <td>2.239567</td>\n",
       "      <td>0.375699</td>\n",
       "      <td>2.302918</td>\n",
       "      <td>0.355041</td>\n",
       "    </tr>\n",
       "    <tr>\n",
       "      <th>2</th>\n",
       "      <td>2.068797</td>\n",
       "      <td>0.392034</td>\n",
       "      <td>2.168530</td>\n",
       "      <td>0.395547</td>\n",
       "    </tr>\n",
       "    <tr>\n",
       "      <th>3</th>\n",
       "      <td>1.949321</td>\n",
       "      <td>0.436787</td>\n",
       "      <td>1.957283</td>\n",
       "      <td>0.433870</td>\n",
       "    </tr>\n",
       "    <tr>\n",
       "      <th>4</th>\n",
       "      <td>1.885776</td>\n",
       "      <td>0.454464</td>\n",
       "      <td>1.820162</td>\n",
       "      <td>0.466935</td>\n",
       "    </tr>\n",
       "    <tr>\n",
       "      <th>5</th>\n",
       "      <td>1.846147</td>\n",
       "      <td>0.466995</td>\n",
       "      <td>1.673535</td>\n",
       "      <td>0.508112</td>\n",
       "    </tr>\n",
       "    <tr>\n",
       "      <th>6</th>\n",
       "      <td>1.822989</td>\n",
       "      <td>0.482211</td>\n",
       "      <td>1.509013</td>\n",
       "      <td>0.558241</td>\n",
       "    </tr>\n",
       "    <tr>\n",
       "      <th>7</th>\n",
       "      <td>1.825488</td>\n",
       "      <td>0.488029</td>\n",
       "      <td>1.335102</td>\n",
       "      <td>0.599698</td>\n",
       "    </tr>\n",
       "    <tr>\n",
       "      <th>8</th>\n",
       "      <td>1.872218</td>\n",
       "      <td>0.488700</td>\n",
       "      <td>1.136174</td>\n",
       "      <td>0.659170</td>\n",
       "    </tr>\n",
       "    <tr>\n",
       "      <th>9</th>\n",
       "      <td>1.936872</td>\n",
       "      <td>0.485791</td>\n",
       "      <td>0.923837</td>\n",
       "      <td>0.721271</td>\n",
       "    </tr>\n",
       "    <tr>\n",
       "      <th>10</th>\n",
       "      <td>2.011950</td>\n",
       "      <td>0.478407</td>\n",
       "      <td>0.715126</td>\n",
       "      <td>0.788520</td>\n",
       "    </tr>\n",
       "    <tr>\n",
       "      <th>11</th>\n",
       "      <td>2.156051</td>\n",
       "      <td>0.478407</td>\n",
       "      <td>0.535947</td>\n",
       "      <td>0.850285</td>\n",
       "    </tr>\n",
       "    <tr>\n",
       "      <th>12</th>\n",
       "      <td>2.256032</td>\n",
       "      <td>0.477512</td>\n",
       "      <td>0.378477</td>\n",
       "      <td>0.904442</td>\n",
       "    </tr>\n",
       "    <tr>\n",
       "      <th>13</th>\n",
       "      <td>2.407159</td>\n",
       "      <td>0.472813</td>\n",
       "      <td>0.272155</td>\n",
       "      <td>0.936500</td>\n",
       "    </tr>\n",
       "    <tr>\n",
       "      <th>14</th>\n",
       "      <td>2.508858</td>\n",
       "      <td>0.474603</td>\n",
       "      <td>0.193029</td>\n",
       "      <td>0.960949</td>\n",
       "    </tr>\n",
       "    <tr>\n",
       "      <th>15</th>\n",
       "      <td>2.650491</td>\n",
       "      <td>0.470575</td>\n",
       "      <td>0.144911</td>\n",
       "      <td>0.971299</td>\n",
       "    </tr>\n",
       "    <tr>\n",
       "      <th>16</th>\n",
       "      <td>2.695532</td>\n",
       "      <td>0.470575</td>\n",
       "      <td>0.118105</td>\n",
       "      <td>0.978796</td>\n",
       "    </tr>\n",
       "  </tbody>\n",
       "</table>\n",
       "</div>"
      ],
      "text/plain": [
       "    val_loss   val_acc      loss       acc\n",
       "0   2.462709  0.324681  2.794648  0.256630\n",
       "1   2.239567  0.375699  2.302918  0.355041\n",
       "2   2.068797  0.392034  2.168530  0.395547\n",
       "3   1.949321  0.436787  1.957283  0.433870\n",
       "4   1.885776  0.454464  1.820162  0.466935\n",
       "5   1.846147  0.466995  1.673535  0.508112\n",
       "6   1.822989  0.482211  1.509013  0.558241\n",
       "7   1.825488  0.488029  1.335102  0.599698\n",
       "8   1.872218  0.488700  1.136174  0.659170\n",
       "9   1.936872  0.485791  0.923837  0.721271\n",
       "10  2.011950  0.478407  0.715126  0.788520\n",
       "11  2.156051  0.478407  0.535947  0.850285\n",
       "12  2.256032  0.477512  0.378477  0.904442\n",
       "13  2.407159  0.472813  0.272155  0.936500\n",
       "14  2.508858  0.474603  0.193029  0.960949\n",
       "15  2.650491  0.470575  0.144911  0.971299\n",
       "16  2.695532  0.470575  0.118105  0.978796"
      ]
     },
     "execution_count": 13,
     "metadata": {},
     "output_type": "execute_result"
    }
   ],
   "source": [
    "history"
   ]
  },
  {
   "cell_type": "markdown",
   "metadata": {},
   "source": [
    "Create a function that encodes a kickoff text string and then plugs it into our trained model"
   ]
  },
  {
   "cell_type": "code",
   "execution_count": 14,
   "metadata": {},
   "outputs": [],
   "source": [
    "# generate a sequence of characters with a language model\n",
    "def generate_seq(model, mapping, seq_length, seed_lyric, n_chars):\n",
    "    lyrics = seed_lyric\n",
    "    for __ in range(n_chars):\n",
    "    # encode the characters as integers\n",
    "        encoded = [mapping[char] for char in lyrics]\n",
    "    # truncate sequences to a fixed length\n",
    "        encoded = pad_sequences([encoded], maxlen=seq_length, truncating='pre')\n",
    "    # one hot encode\n",
    "        encoded = to_categorical(encoded, num_classes=len(mapping))\n",
    "    # predict character\n",
    "        yhat = model.predict_classes(encoded, verbose=0)\n",
    "    # reverse map integer to character\n",
    "        out_char = ''\n",
    "        for char, index in mapping.items():\n",
    "            if index == yhat:\n",
    "                out_char = char\n",
    "                break\n",
    "    # append to input\n",
    "        lyrics += char\n",
    "    return lyrics"
   ]
  },
  {
   "cell_type": "markdown",
   "metadata": {},
   "source": [
    "Is there a song other than Stairway to Heaven that I could have used for the kickoff sequence?"
   ]
  },
  {
   "cell_type": "code",
   "execution_count": 19,
   "metadata": {},
   "outputs": [],
   "source": [
    "startLyrics = \"As I walk through the valley of the shadow of death I take a look at my life and realize there's not\""
   ]
  },
  {
   "cell_type": "markdown",
   "metadata": {},
   "source": [
    "Run the model and print the lyrics"
   ]
  },
  {
   "cell_type": "code",
   "execution_count": 20,
   "metadata": {},
   "outputs": [
    {
     "name": "stdout",
     "output_type": "stream",
     "text": [
      "As I walk through the valley of the shadow of death I take a look at my life and realize there's nothing shinin' on me To face the world out on my own again In the summertime we'd all get a brand new pair I'll fix your lunch Cussin' at a can that he was kickin Honey, come back where you belong to only me. And standin' up for things they believe in Buy some soumthing old the blie of my shist in our live and lat I cried a tear, you wiped it dry You gave me strength to stand alone again But when they're runnin' down our country, man Your smile is like a breath of spring That's all I'm taking with me He like the night life, the bright lights are callin' ya, honey. All you gotta do is smile that smile Let's go to Luckenbach, Texas This successful life we're livin' So smile for a while and let's be jolly Dark and dusty, painted on the sky Then I fumbled through my closet There once was a time when I could not imagine And turned my hind and little fine to pay And I will always love you Delta Dawn, what's that flower you have on? And there got all my defenses Well, I was borned a coal miner'\n"
     ]
    }
   ],
   "source": [
    "model = load_model('model.units512.es_val_acc.2')\n",
    "lyricsFinal = generate_seq(model,mapping,length,startLyrics,1000)\n",
    "print(lyricsFinal)"
   ]
  },
  {
   "cell_type": "code",
   "execution_count": 17,
   "metadata": {},
   "outputs": [],
   "source": [
    "df = pd.read_json('modelLyricsHistory.json')"
   ]
  },
  {
   "cell_type": "code",
   "execution_count": 18,
   "metadata": {},
   "outputs": [
    {
     "data": {
      "text/html": [
       "<div>\n",
       "<style scoped>\n",
       "    .dataframe tbody tr th:only-of-type {\n",
       "        vertical-align: middle;\n",
       "    }\n",
       "\n",
       "    .dataframe tbody tr th {\n",
       "        vertical-align: top;\n",
       "    }\n",
       "\n",
       "    .dataframe thead th {\n",
       "        text-align: right;\n",
       "    }\n",
       "</style>\n",
       "<table border=\"1\" class=\"dataframe\">\n",
       "  <thead>\n",
       "    <tr style=\"text-align: right;\">\n",
       "      <th></th>\n",
       "      <th>val_loss</th>\n",
       "      <th>val_acc</th>\n",
       "      <th>loss</th>\n",
       "      <th>acc</th>\n",
       "    </tr>\n",
       "  </thead>\n",
       "  <tbody>\n",
       "    <tr>\n",
       "      <th>0</th>\n",
       "      <td>2.391513</td>\n",
       "      <td>0.338072</td>\n",
       "      <td>2.686099</td>\n",
       "      <td>0.280099</td>\n",
       "    </tr>\n",
       "    <tr>\n",
       "      <th>1</th>\n",
       "      <td>2.203031</td>\n",
       "      <td>0.387909</td>\n",
       "      <td>2.237684</td>\n",
       "      <td>0.377890</td>\n",
       "    </tr>\n",
       "    <tr>\n",
       "      <th>2</th>\n",
       "      <td>1.951543</td>\n",
       "      <td>0.440829</td>\n",
       "      <td>2.020886</td>\n",
       "      <td>0.428327</td>\n",
       "    </tr>\n",
       "    <tr>\n",
       "      <th>3</th>\n",
       "      <td>1.848852</td>\n",
       "      <td>0.462065</td>\n",
       "      <td>1.823551</td>\n",
       "      <td>0.470543</td>\n",
       "    </tr>\n",
       "    <tr>\n",
       "      <th>4</th>\n",
       "      <td>1.799370</td>\n",
       "      <td>0.475595</td>\n",
       "      <td>1.665167</td>\n",
       "      <td>0.512417</td>\n",
       "    </tr>\n",
       "    <tr>\n",
       "      <th>5</th>\n",
       "      <td>1.761656</td>\n",
       "      <td>0.498030</td>\n",
       "      <td>1.499977</td>\n",
       "      <td>0.557458</td>\n",
       "    </tr>\n",
       "    <tr>\n",
       "      <th>6</th>\n",
       "      <td>1.747415</td>\n",
       "      <td>0.506936</td>\n",
       "      <td>1.325721</td>\n",
       "      <td>0.605926</td>\n",
       "    </tr>\n",
       "    <tr>\n",
       "      <th>7</th>\n",
       "      <td>1.775016</td>\n",
       "      <td>0.511731</td>\n",
       "      <td>1.130380</td>\n",
       "      <td>0.662870</td>\n",
       "    </tr>\n",
       "    <tr>\n",
       "      <th>8</th>\n",
       "      <td>1.864464</td>\n",
       "      <td>0.500771</td>\n",
       "      <td>0.932956</td>\n",
       "      <td>0.720414</td>\n",
       "    </tr>\n",
       "    <tr>\n",
       "      <th>9</th>\n",
       "      <td>1.938054</td>\n",
       "      <td>0.506594</td>\n",
       "      <td>0.741048</td>\n",
       "      <td>0.781255</td>\n",
       "    </tr>\n",
       "    <tr>\n",
       "      <th>10</th>\n",
       "      <td>1.977335</td>\n",
       "      <td>0.501284</td>\n",
       "      <td>0.651373</td>\n",
       "      <td>0.810113</td>\n",
       "    </tr>\n",
       "    <tr>\n",
       "      <th>11</th>\n",
       "      <td>2.118546</td>\n",
       "      <td>0.501113</td>\n",
       "      <td>0.419072</td>\n",
       "      <td>0.892576</td>\n",
       "    </tr>\n",
       "    <tr>\n",
       "      <th>12</th>\n",
       "      <td>2.259209</td>\n",
       "      <td>0.498716</td>\n",
       "      <td>0.271179</td>\n",
       "      <td>0.942456</td>\n",
       "    </tr>\n",
       "    <tr>\n",
       "      <th>13</th>\n",
       "      <td>2.394458</td>\n",
       "      <td>0.493749</td>\n",
       "      <td>0.198606</td>\n",
       "      <td>0.962279</td>\n",
       "    </tr>\n",
       "    <tr>\n",
       "      <th>14</th>\n",
       "      <td>2.494537</td>\n",
       "      <td>0.491865</td>\n",
       "      <td>0.157297</td>\n",
       "      <td>0.971528</td>\n",
       "    </tr>\n",
       "    <tr>\n",
       "      <th>15</th>\n",
       "      <td>2.596871</td>\n",
       "      <td>0.487070</td>\n",
       "      <td>0.137799</td>\n",
       "      <td>0.973497</td>\n",
       "    </tr>\n",
       "    <tr>\n",
       "      <th>16</th>\n",
       "      <td>2.670750</td>\n",
       "      <td>0.490152</td>\n",
       "      <td>0.149783</td>\n",
       "      <td>0.967417</td>\n",
       "    </tr>\n",
       "    <tr>\n",
       "      <th>17</th>\n",
       "      <td>2.696839</td>\n",
       "      <td>0.484843</td>\n",
       "      <td>0.146528</td>\n",
       "      <td>0.966775</td>\n",
       "    </tr>\n",
       "  </tbody>\n",
       "</table>\n",
       "</div>"
      ],
      "text/plain": [
       "    val_loss   val_acc      loss       acc\n",
       "0   2.391513  0.338072  2.686099  0.280099\n",
       "1   2.203031  0.387909  2.237684  0.377890\n",
       "2   1.951543  0.440829  2.020886  0.428327\n",
       "3   1.848852  0.462065  1.823551  0.470543\n",
       "4   1.799370  0.475595  1.665167  0.512417\n",
       "5   1.761656  0.498030  1.499977  0.557458\n",
       "6   1.747415  0.506936  1.325721  0.605926\n",
       "7   1.775016  0.511731  1.130380  0.662870\n",
       "8   1.864464  0.500771  0.932956  0.720414\n",
       "9   1.938054  0.506594  0.741048  0.781255\n",
       "10  1.977335  0.501284  0.651373  0.810113\n",
       "11  2.118546  0.501113  0.419072  0.892576\n",
       "12  2.259209  0.498716  0.271179  0.942456\n",
       "13  2.394458  0.493749  0.198606  0.962279\n",
       "14  2.494537  0.491865  0.157297  0.971528\n",
       "15  2.596871  0.487070  0.137799  0.973497\n",
       "16  2.670750  0.490152  0.149783  0.967417\n",
       "17  2.696839  0.484843  0.146528  0.966775"
      ]
     },
     "execution_count": 18,
     "metadata": {},
     "output_type": "execute_result"
    }
   ],
   "source": [
    "df"
   ]
  }
 ],
 "metadata": {
  "kernelspec": {
   "display_name": "NLP-country-song",
   "language": "python",
   "name": "nlp-country-song"
  },
  "language_info": {
   "codemirror_mode": {
    "name": "ipython",
    "version": 3
   },
   "file_extension": ".py",
   "mimetype": "text/x-python",
   "name": "python",
   "nbconvert_exporter": "python",
   "pygments_lexer": "ipython3",
   "version": "3.7.1"
  }
 },
 "nbformat": 4,
 "nbformat_minor": 2
}
